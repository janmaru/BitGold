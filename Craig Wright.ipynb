{
 "cells": [
  {
   "cell_type": "markdown",
   "metadata": {},
   "source": [
    "[Attempting (Failed) Verification of the Wright Signature] (https://github.com/patio11/wrightverification)"
   ]
  },
  {
   "cell_type": "markdown",
   "metadata": {},
   "source": [
    "[2016.05.02] My name is Craig Wright and I am about to demonstrate a signing of a message with the public key that is associated with the first transaction ever done in Bitcoin.\n",
    "```csharp\n",
    "var bitcoinPrivateKey = new BitcoinSecret(\"XXXXXXXXXXXXXXXXXXXXXXXXXX\");\n",
    "\n",
    "var message = \"I am Craig Wright\";\n",
    "string signature = bitcoinPrivateKey.PrivateKey.SignMessage(message);\n",
    "Console.WriteLine(signature); // \n",
    " ```\n",
    "**IN5v9+3HGW1q71OqQ1boSZTm0/DCiMpI8E4JB1nD67TCbIVMRk/e3KrTT9GvOuu3NGN0w8R2lWOV2cxnBp+Of8c=**"
   ]
  },
  {
   "cell_type": "markdown",
   "metadata": {},
   "source": []
  },
  {
   "cell_type": "code",
   "execution_count": 4,
   "metadata": {},
   "outputs": [
    {
     "data": {
      "text/plain": [
       "E' Craig Wright il vero Satoshi Nakamoto? Risultato: false\n"
      ]
     },
     "metadata": {},
     "output_type": "display_data"
    }
   ],
   "source": [
    "#load \"Paket.fsx\"\n",
    "Paket.Package\n",
    "  [ \"NBitcoin.Mono -Version 3.0.0.47\"\n",
    "    \"FSharp.Data -Version 2.4.6\"\n",
    "    \"Newtonsoft.Json -Version 10.0.3\"\n",
    "  ]    \n",
    "#load \"Paket.Generated.Refs.fsx\"\n",
    "\n",
    "open System\n",
    "open NBitcoin\n",
    "open NBitcoin.Crypto   \n",
    "\n",
    "\n",
    "let message = \"I am Craig Wright\";\n",
    "let signature = \"IN5v9+3HGW1q71OqQ1boSZTm0/DCiMpI8E4JB1nD67TCbIVMRk/e3KrTT9GvOuu3NGN0w8R2lWOV2cxnBp+Of8c=\";\n",
    "\n",
    "let address = new BitcoinPubKeyAddress(\"1A1zP1eP5QGefi2DMPTfTL5SLmv7DivfNa\") \n",
    "let isCraigWrightSatoshi:bool = address.VerifyMessage(message, signature) \n",
    "\n",
    "printfn \"E' Craig Wright il vero Satoshi Nakamoto? Risultato: %A\"   isCraigWrightSatoshi "
   ]
  },
  {
   "cell_type": "code",
   "execution_count": null,
   "metadata": {},
   "outputs": [],
   "source": []
  },
  {
   "cell_type": "markdown",
   "metadata": {},
   "source": [
    "[Hidden surprises] (http://www.righto.com/2014/02/ascii-bernanke-wikileaks-photographs.html)"
   ]
  }
 ],
 "metadata": {
  "kernelspec": {
   "display_name": "F#",
   "language": "fsharp",
   "name": "ifsharp"
  },
  "language": "fsharp",
  "language_info": {
   "codemirror_mode": "",
   "file_extension": ".fs",
   "mimetype": "text/x-fsharp",
   "name": "fsharp",
   "nbconvert_exporter": "",
   "pygments_lexer": "",
   "version": "4.3.1.0"
  }
 },
 "nbformat": 4,
 "nbformat_minor": 2
}
