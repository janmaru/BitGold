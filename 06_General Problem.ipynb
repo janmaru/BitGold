{
 "cells": [
  {
   "cell_type": "code",
   "execution_count": 1,
   "metadata": {},
   "outputs": [],
   "source": [
    "#load \"Paket.fsx\"\n",
    "Paket.Package\n",
    "  [ \"NBitcoin.Mono -Version 3.0.0.47\"]     \n",
    "  \n",
    "#load \"Paket.Generated.Refs.fsx\"\n",
    "\n",
    "open System\n",
    "open NBitcoin\n",
    "open NBitcoin.Crypto   \n",
    "\n",
    "RandomUtils.Random <- (new UnsecureRandom():>IRandom)\n",
    "\n",
    "type Wallet =\n",
    "     static member PrivateKey = \n",
    "            (new Key())\n",
    "     static member PublicKey (k:Key) = \n",
    "            if (k=null) then\n",
    "              (new Key()).PubKey\n",
    "            else\n",
    "              k.PubKey\n",
    "     static member BitcoinSecretMain (k:Key) = \n",
    "            if (k=null) then\n",
    "                Wallet.PrivateKey.GetBitcoinSecret(Network.Main)\n",
    "            else\n",
    "                k.GetBitcoinSecret(Network.Main)\n",
    "     static member BitcoinSecretTest (k:Key) = \n",
    "            if (k=null) then\n",
    "                Wallet.PrivateKey.GetBitcoinSecret(Network.TestNet)\n",
    "            else\n",
    "                k.GetBitcoinSecret(Network.TestNet)    \n",
    "     static member WifMain (k:Key) = \n",
    "            if (k=null) then\n",
    "                Wallet.PrivateKey.GetWif(Network.Main)\n",
    "            else\n",
    "                k.GetWif(Network.Main)\n",
    "     static member WifTest (k:Key) = \n",
    "            if (k=null) then\n",
    "                Wallet.PrivateKey.GetWif(Network.TestNet)\n",
    "            else\n",
    "                k.GetWif(Network.TestNet)\n",
    "\n",
    "     static member BitCoinAddressMain (k:Key) = \n",
    "        Wallet.PublicKey(k).GetAddress(Network.Main) \n",
    "     static member BitCoinAddressTest  (k:Key) = \n",
    "        Wallet.PublicKey(k).GetAddress(Network.TestNet) \n",
    "     static member PublicKeyHash (k:Key) = \n",
    "        Wallet.PublicKey(k).Hash \n",
    "     static member BitCoinAddressMain2 (k:Key) = \n",
    "        Wallet.PublicKey(k).Hash.GetAddress(Network.Main) \n",
    "     static member BitCoinAddressTest2  (k:Key) = \n",
    "        Wallet.PublicKey(k).Hash.GetAddress(Network.TestNet) \n",
    "\n",
    "\n"
   ]
  },
  {
   "cell_type": "code",
   "execution_count": 2,
   "metadata": {},
   "outputs": [
    {
     "data": {
      "text/plain": [
       "1524159418L\n"
      ]
     },
     "metadata": {},
     "output_type": "display_data"
    }
   ],
   "source": [
    "let timestamp = DateTimeOffset(DateTime.Now).ToUnixTimeSeconds() //val unix : int64 = 1488254491L\n",
    "\n",
    "printfn \"%A\" timestamp"
   ]
  },
  {
   "cell_type": "markdown",
   "metadata": {},
   "source": [
    "![general problem](data:image/png;base64,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)"
   ]
  },
  {
   "cell_type": "code",
   "execution_count": 3,
   "metadata": {},
   "outputs": [
    {
     "data": {
      "text/plain": [
       "L1HAoSF8gvKaTXZ623WT4sx1hnSR28nwsq2PPFjLazJUd2xELsKH\n",
       "\"----------------\"\n",
       "{pk = 1xX3DRapVVSEaERZneRmBEDoEux68b2W1;\n",
       " msg = \"SF5128165575\";\n",
       " sign =\n",
       "  \"H35yq+iQB9Zp2FeaFwb9e1xw+28D8ueUIjvcq/S4G2rWJRJg6896I2DJVmN2us897+qwCdY8YzSzdaiXaopA9FE=\";\n",
       " timestamp = 1524159418L;}\n"
      ]
     },
     "metadata": {},
     "output_type": "display_data"
    }
   ],
   "source": [
    "open System.Collections.Generic\n",
    "\n",
    "type Message = { pk: BitcoinPubKeyAddress; msg: string; sign: string; timestamp:int64}\n",
    "\n",
    "type Node = { pk: BitcoinPubKeyAddress; sk: Key; ledger:  List<Message> }\n",
    "\n",
    "let SkGeneral = Wallet.PrivateKey\n",
    "let PkGeneral =  Wallet.BitCoinAddressMain SkGeneral\n",
    "\n",
    "printfn \"%A\" (Wallet.WifMain SkGeneral)\n",
    "printfn \"%A\" \"----------------\"\n",
    "//printfn \"%A\" PkGeneral\n",
    "//let content =\"Attack, tomorrow. For God sake!!!!\"\n",
    "let content =  \"SF5128165575\"\n",
    "\n",
    "let message ={ pk = PkGeneral; sign = SkGeneral.SignMessage(content); msg =content; timestamp=timestamp }\n",
    "\n",
    "printfn \"%A\" message"
   ]
  },
  {
   "cell_type": "code",
   "execution_count": null,
   "metadata": {},
   "outputs": [],
   "source": []
  },
  {
   "cell_type": "code",
   "execution_count": 4,
   "metadata": {},
   "outputs": [
    {
     "data": {
      "text/plain": [
       "A {pk = 1GrxgB1N3zVnrWijLD7NdiLvuBHN1CuAVg;\n",
       " sk = NBitcoin.Key;\n",
       " ledger = seq [];}\n"
      ]
     },
     "metadata": {},
     "output_type": "display_data"
    }
   ],
   "source": [
    "let SkA = Wallet.PrivateKey\n",
    "let PkA = Wallet.BitCoinAddressMain SkA\n",
    "\n",
    "let A = { pk= PkA; sk= SkA; ledger = new List<Message>()}\n",
    "\n",
    "printfn \"A %A\" A\n"
   ]
  },
  {
   "cell_type": "code",
   "execution_count": 5,
   "metadata": {},
   "outputs": [
    {
     "data": {
      "text/plain": [
       "B {pk = 1PpixDrqKY3BmaG4vRZgw8aY3S31ogKBKR;\n",
       " sk = NBitcoin.Key;\n",
       " ledger = seq [];}\n",
       "C {pk = 17ocnpVhK6pifWP7QPqywsk1E4gi98VZGy;\n",
       " sk = NBitcoin.Key;\n",
       " ledger = seq [];}\n"
      ]
     },
     "metadata": {},
     "output_type": "display_data"
    }
   ],
   "source": [
    "let SkB = Wallet.PrivateKey\n",
    "let PkB = Wallet.BitCoinAddressMain SkB\n",
    "\n",
    "let B = { pk= PkB; sk= SkB; ledger = new List<Message>()}\n",
    "\n",
    "printfn \"B %A\" B\n",
    "\n",
    "let SkC = Wallet.PrivateKey\n",
    "let PkC = Wallet.BitCoinAddressMain SkC\n",
    "\n",
    "let C = { pk= PkC; sk= SkC; ledger = new List<Message>()}\n",
    "\n",
    "printfn \"C %A\" C\n",
    "\n"
   ]
  },
  {
   "cell_type": "code",
   "execution_count": 7,
   "metadata": {},
   "outputs": [
    {
     "data": {
      "text/plain": [
       "{pk = 1GrxgB1N3zVnrWijLD7NdiLvuBHN1CuAVg;\n",
       " sk = NBitcoin.Key;\n",
       " ledger =\n",
       "  seq\n",
       "    [{pk = 1xX3DRapVVSEaERZneRmBEDoEux68b2W1;\n",
       "      msg = \"SF5128165575\";\n",
       "      sign =\n",
       "       \"H35yq+iQB9Zp2FeaFwb9e1xw+28D8ueUIjvcq/S4G2rWJRJg6896I2DJVmN2us897+qwCdY8YzSzdaiXaopA9FE=\";\n",
       "      timestamp = 1524159418L;}];}\n"
      ]
     },
     "metadata": {},
     "output_type": "display_data"
    }
   ],
   "source": [
    "A.ledger.Add(message)\n",
    "B.ledger.Add(message)\n",
    "C.ledger.Add(message)\n",
    "\n",
    "printfn \"%A\" A"
   ]
  },
  {
   "cell_type": "code",
   "execution_count": null,
   "metadata": {},
   "outputs": [],
   "source": []
  },
  {
   "cell_type": "code",
   "execution_count": 9,
   "metadata": {},
   "outputs": [
    {
     "data": {
      "text/plain": [
       "true\n"
      ]
     },
     "metadata": {},
     "output_type": "display_data"
    }
   ],
   "source": [
    "let index= 0\n",
    "let verified = if PkGeneral = A.ledger.[index].pk then PkGeneral.VerifyMessage(A.ledger.[index].msg, A.ledger.[index].sign) else false\n",
    "\n",
    "printfn \"%A\" verified"
   ]
  },
  {
   "cell_type": "code",
   "execution_count": 11,
   "metadata": {},
   "outputs": [],
   "source": [
    "let fake = \"000000100\"\n",
    "               "
   ]
  },
  {
   "cell_type": "code",
   "execution_count": 12,
   "metadata": {},
   "outputs": [
    {
     "data": {
      "text/plain": [
       "false\n"
      ]
     },
     "metadata": {},
     "output_type": "display_data"
    }
   ],
   "source": [
    "let verified' = PkGeneral.VerifyMessage(fake, A.ledger.[index].sign) \n",
    "\n",
    "printfn \"%A\" verified'"
   ]
  },
  {
   "cell_type": "code",
   "execution_count": null,
   "metadata": {},
   "outputs": [],
   "source": []
  }
 ],
 "metadata": {
  "kernelspec": {
   "display_name": "F#",
   "language": "fsharp",
   "name": "ifsharp"
  },
  "language": "fsharp",
  "language_info": {
   "codemirror_mode": "",
   "file_extension": ".fs",
   "mimetype": "text/x-fsharp",
   "name": "fsharp",
   "nbconvert_exporter": "",
   "pygments_lexer": "",
   "version": "4.3.1.0"
  }
 },
 "nbformat": 4,
 "nbformat_minor": 2
}
