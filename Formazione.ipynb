{
 "cells": [
  {
   "cell_type": "code",
   "execution_count": 1,
   "metadata": {},
   "outputs": [],
   "source": [
    "#load \"Paket.fsx\"\n",
    "Paket.Package\n",
    "  [ \"QBitNinja.Client -Version 1.0.3.21\"\n",
    "    \"NBitcoin -Version 3.0.0.33\"\n",
    "    \"FSharp.Data -Version 2.4.6\"\n",
    "    \"Newtonsoft.Json -Version 10.0.3\"    \n",
    "  ]    \n",
    "#load \"Paket.Generated.Refs.fsx\"\n",
    "\n",
    "open System\n",
    "open NBitcoin\n",
    "open NBitcoin.Crypto   \n",
    "open NBitcoin.OpenAsset \n",
    "open NBitcoin.Stealth \n",
    "open QBitNinja.Client \n",
    "open QBitNinja.Client.Models \n",
    "open System.Collections.Generic \n",
    "open System.Linq\n",
    "open System.Collections\n",
    "\n",
    "\n",
    "type Wallet =\n",
    "    static member PrivateKey: Key = \n",
    "        (new Key())\n",
    "    static member PublicKey (k:Key) = \n",
    "        if (k=null) then\n",
    "          (new Key()).PubKey\n",
    "        else\n",
    "          k.PubKey \n",
    "          \n",
    "type Wallet with\n",
    "     static member BitcoinSecretMain (k:Key) = \n",
    "            if (k=null) then\n",
    "                Wallet.PrivateKey.GetBitcoinSecret(Network.Main)\n",
    "            else\n",
    "                k.GetBitcoinSecret(Network.Main)\n",
    "     static member BitcoinSecretTest (k:Key) = \n",
    "            if (k=null) then\n",
    "                Wallet.PrivateKey.GetBitcoinSecret(Network.TestNet)\n",
    "            else\n",
    "                k.GetBitcoinSecret(Network.TestNet)    \n",
    "     static member WifMain (k:Key) = \n",
    "            if (k=null) then\n",
    "                Wallet.PrivateKey.GetWif(Network.Main)\n",
    "            else\n",
    "                k.GetWif(Network.Main)\n",
    "     static member WifTest (k:Key) = \n",
    "            if (k=null) then\n",
    "                Wallet.PrivateKey.GetWif(Network.TestNet)\n",
    "            else\n",
    "                k.GetWif(Network.TestNet)\n",
    "type Wallet with\n",
    "     static member BitCoinAddressMain (k:Key) = \n",
    "        Wallet.PublicKey(k).GetAddress(Network.Main) \n",
    "     static member BitCoinAddressTest  (k:Key) = \n",
    "        Wallet.PublicKey(k).GetAddress(Network.TestNet) \n",
    "     static member PublicKeyHash (k:Key) = \n",
    "        Wallet.PublicKey(k).Hash \n",
    "     static member BitCoinAddressMain2 (k:Key) = \n",
    "        Wallet.PublicKey(k).Hash.GetAddress(Network.Main) \n",
    "     static member BitCoinAddressTest2  (k:Key) = \n",
    "        Wallet.PublicKey(k).Hash.GetAddress(Network.TestNet) \n",
    "        \n",
    "type Script = \n",
    "   static member PublicKeyHash (Pk:string) = \n",
    "       new KeyId(Pk) \n",
    "   static member Main  (Pk:string) = \n",
    "       Script.PublicKeyHash(Pk).GetAddress(Network.Main).ScriptPubKey\n",
    "   static member Test  (Pk:string) = \n",
    "       Script.PublicKeyHash(Pk).GetAddress(Network.TestNet).ScriptPubKey \n",
    "   static member Main  (k:Key)  = \n",
    "       Wallet.PublicKeyHash(k).GetAddress(Network.Main).ScriptPubKey \n",
    "   static member Test  (k:Key)  = \n",
    "       Wallet.PublicKeyHash(k).GetAddress(Network.TestNet).ScriptPubKey \n",
    "   static member BitCoinAddressMain (k:Key) = \n",
    "      Script.Main(k).GetDestinationAddress(Network.Main)\n",
    "   static member BitCoinAddressTest  (k:Key) = \n",
    "      Script.Main(k).GetDestinationAddress(Network.TestNet)"
   ]
  },
  {
   "cell_type": "code",
   "execution_count": null,
   "metadata": {},
   "outputs": [],
   "source": []
  },
  {
   "cell_type": "code",
   "execution_count": 2,
   "metadata": {},
   "outputs": [
    {
     "data": {
      "text/plain": [
       "TestNet\n",
       "sender mnnaUEKBKJVFjCqVnVPmwefk6CwuVsyRRj\n",
       "sender secret cRMR4cGGGCh67WmHnZk7Myy9P4nrEuedRovrD3jSqHg7K3HY5wmv\n",
       "sender script OP_DUP OP_HASH160 4fbd5152456bee3dc0ffe25118a6de17126e5c19 OP_EQUALVERIFY OP_CHECKSIG\n",
       "destination mtYy84R9Ezc6UxWGfHgMj4TmxXFqSy7SPf\n",
       "dest secret cVdNBTECyg4Af4reyg4qykBMTq8SkqNboJRKotAvEMdVKnhr3CaK\n",
       "dest script OP_DUP OP_HASH160 8efb2874941ae0a85e2c94ee6b267e8ad70fb5cf OP_EQUALVERIFY OP_CHECKSIG\n"
      ]
     },
     "metadata": {},
     "output_type": "display_data"
    }
   ],
   "source": [
    "open FSharp.Data\n",
    "open FSharp.Data.JsonExtensions\n",
    "\n",
    "type secretJson = JsonProvider<\"\"\"{\n",
    "  \"secret\": \"\"\n",
    "}\"\"\">\n",
    "      \n",
    "let sj = secretJson.GetSample()\n",
    "//printfn \"%A\" sj \n",
    "  \n",
    "let json_uri = @\"/home/nbuser/library/secret.json\"\n",
    "let wwif = secretJson.Load(json_uri).JsonValue?secret.AsString()  \n",
    "\n",
    "let network = Network.TestNet\n",
    "\n",
    "let sender_bitcoinPrivateKey:Key  = Key.Parse(wwif, Network.TestNet) \n",
    "let sender_address = Script.BitCoinAddressTest sender_bitcoinPrivateKey //Wallet.PublicKeyHash bitcoinPrivateKey\n",
    "\n",
    "printfn \"%A\" (network)\n",
    "printfn \"sender %A\" (sender_address)\n",
    "printfn \"sender secret %A\" (Wallet.BitcoinSecretTest sender_bitcoinPrivateKey)\n",
    "printfn \"sender script %A\" (Script.Test sender_bitcoinPrivateKey)\n",
    "\n",
    "let json_uri_dest = @\"/home/nbuser/library/secret_dest.json\"\n",
    "let wwif_dest = secretJson.Load(json_uri_dest).JsonValue?secret.AsString()  \n",
    "\n",
    "\n",
    "let dest_bitcoinPrivateKey:Key   = Key.Parse(wwif_dest, Network.TestNet) \n",
    "let dest_address = Script.BitCoinAddressTest dest_bitcoinPrivateKey  \n",
    "printfn \"destination %A\" (dest_address)\n",
    "printfn \"dest secret %A\" (Wallet.BitcoinSecretTest dest_bitcoinPrivateKey)\n",
    "printfn \"dest script %A\" (Script.Test dest_bitcoinPrivateKey)\n"
   ]
  },
  {
   "cell_type": "code",
   "execution_count": null,
   "metadata": {},
   "outputs": [],
   "source": []
  },
  {
   "cell_type": "code",
   "execution_count": 3,
   "metadata": {},
   "outputs": [
    {
     "data": {
      "text/plain": [
       "0.52980000\n"
      ]
     },
     "metadata": {},
     "output_type": "display_data"
    }
   ],
   "source": [
    "let client:QBitNinjaClient  = new QBitNinjaClient(Network.TestNet)\n",
    "\n",
    "let transactionId = uint256.Parse(\"06927bb3aaa2d1800548105d97a4f40ff61a68821f249a90158ddb76b082a7e8\")\n",
    "\n",
    "// Query the transaction\n",
    "let transactionResponse:GetTransactionResponse  = client.GetTransaction(transactionId).Result\n",
    "\n",
    "let transaction:NBitcoin.Transaction  = transactionResponse.Transaction\n",
    "\n",
    "let receivedCoins = transactionResponse.ReceivedCoins;\n",
    "let mutable myCoins:Coin = null \n",
    "for coin in receivedCoins do\n",
    "    if (coin.TxOut.ScriptPubKey =  sender_bitcoinPrivateKey.ScriptPubKey) then\n",
    "        myCoins<- coin:?>Coin\n",
    "\n",
    "printfn \"%A\" myCoins.Amount\n",
    "\n",
    " "
   ]
  },
  {
   "cell_type": "code",
   "execution_count": null,
   "metadata": {},
   "outputs": [],
   "source": []
  },
  {
   "cell_type": "code",
   "execution_count": 4,
   "metadata": {},
   "outputs": [
    {
     "data": {
      "text/plain": [
       "[|206uy; 242uy; 188uy; 42uy; 64uy; 151uy; 118uy; 163uy; 148uy; 19uy; 30uy; 114uy;\n",
       "  185uy; 230uy; 135uy; 20uy; 100uy; 167uy; 209uy; 76uy; 166uy; 234uy; 172uy;\n",
       "  240uy; 212uy; 254uy; 133uy; 55uy; 1uy; 182uy; 213uy; 55uy|]\n"
      ]
     },
     "metadata": {},
     "output_type": "display_data"
    }
   ],
   "source": [
    "open System\n",
    "open System.IO\n",
    "open System.Security.Cryptography\n",
    "\n",
    "let  GetStream (s:string) =\n",
    "                let stream = new MemoryStream()\n",
    "                let writer = new StreamWriter(stream)\n",
    "                writer.Write(s)\n",
    "                writer.Flush()\n",
    "                stream.Position <- 0L\n",
    "                stream\n",
    "                \n",
    "//Print the byte array in a readable format.\n",
    "let ByteString (b:byte[]) = \n",
    "        let mutable i = 0\n",
    "        let mutable s:string = \"\"\n",
    "        for i = 0  to b.Length - 1 do\n",
    "            s <- s + String.Format(\"{0:X2}\", b.[i])\n",
    "            if (i % 4 = 3) then\n",
    "                s <- s+ \" \"\n",
    "        s    \n",
    "        \n",
    "let ByteToHex bytes = \n",
    "    bytes \n",
    "    |> Array.map (fun (x : byte) -> System.String.Format(\"{0:X2}\", x))\n",
    "    |> String.concat System.String.Empty\n",
    "\n",
    "let message = \"\"\"{\n",
    "  \"formazione\": {\n",
    "    \"id_competizione\": 1,\n",
    "    \"id_lega\": 1,\n",
    "    \"id_squadra\": 1,\n",
    "    \"id_calendario\": 30,\n",
    "    \"titolari\": [\n",
    "      ALISON,\n",
    "      CACCIATORE,\n",
    "      DE SILVESTRI,\n",
    "      SILVESTRE,\n",
    "      VICARI,\n",
    "      BENASSI,\n",
    "      CRISTANTE,\n",
    "      HETEMAJ,\n",
    "      LINETTY,\n",
    "      QUAGLIARELLA,\n",
    "      INGLESE\n",
    "    ],\n",
    "    \"panchina\": [\n",
    "      SKORUPSKI,\n",
    "      GALABINOV,\n",
    "      MATOS,\n",
    "      THEREAU,\n",
    "      SIMY,\n",
    "      LAZZARIM.,\n",
    "      STROOTMAN,\n",
    "      GILDIAS,\n",
    "      MIRANDA,\n",
    "      NUYTINCK,\n",
    "      TOMOVIC,\n",
    "      BASTOS\n",
    "    ],\n",
    "    \"giornata_lega\": 30,\n",
    "    \"giornata_a\": 32,\n",
    "    \"modulo\": \"4-4-2\",\n",
    "    \"data\": 1523911213\n",
    "  }\n",
    "}\"\"\"\n",
    "\n",
    "let Sha256 (doc:string) = \n",
    "    let sdoc = GetStream doc\n",
    "    let sh = new SHA256Managed()\n",
    "    sh.ComputeHash(sdoc)\n",
    "\n",
    "let hashValue = Sha256 message    \n",
    "\n",
    "printfn \"%A\" hashValue"
   ]
  },
  {
   "cell_type": "code",
   "execution_count": null,
   "metadata": {},
   "outputs": [],
   "source": []
  },
  {
   "cell_type": "code",
   "execution_count": 5,
   "metadata": {},
   "outputs": [
    {
     "data": {
      "text/plain": [
       "{\n",
       "  \"hash\": \"db3fd1a93c03ea4763a39c1453366ffcb4acb6258ea58a04a4aa27f0501d7581\",\n",
       "  \"ver\": 1,\n",
       "  \"vin_sz\": 1,\n",
       "  \"vout_sz\": 2,\n",
       "  \"lock_time\": 0,\n",
       "  \"size\": 235,\n",
       "  \"in\": [\n",
       "    {\n",
       "      \"prev_out\": {\n",
       "        \"hash\": \"06927bb3aaa2d1800548105d97a4f40ff61a68821f249a90158ddb76b082a7e8\",\n",
       "        \"n\": 0\n",
       "      },\n",
       "      \"scriptSig\": \"3045022100d6376bdf42eb21d8c716c2c59533caacc910734072aa5e20e1f75f1d49c17dde02204a5f9f8e5652aa9487ca66f48399ae241cbc5b16b7f6a618a6f9a5119a52c33d01 0364dfe2fa8c584d9af693fca129f9c031e4108be2b6d31ac3f6846ef1ba7ecdc1\"\n",
       "    }\n",
       "  ],\n",
       "  \"out\": [\n",
       "    {\n",
       "      \"value\": \"0.52879999\",\n",
       "      \"scriptPubKey\": \"OP_DUP OP_HASH160 4fbd5152456bee3dc0ffe25118a6de17126e5c19 OP_EQUALVERIFY OP_CHECKSIG\"\n",
       "    },\n",
       "    {\n",
       "      \"value\": \"0.00000000\",\n",
       "      \"scriptPubKey\": \"OP_RETURN cef2bc2a409776a394131e72b9e6871464a7d14ca6eaacf0d4fe853701b6d537\"\n",
       "    }\n",
       "  ]\n",
       "}\n"
      ]
     },
     "metadata": {},
     "output_type": "display_data"
    }
   ],
   "source": [
    " \n",
    "let mutable txBuilder = new TransactionBuilder() \n",
    "let mutable tx:Transaction = txBuilder\n",
    "                                .AddCoins(myCoins) \n",
    "                                .AddKeys(sender_bitcoinPrivateKey)\n",
    "                                .Send(dest_address, new Money(1m, MoneyUnit.Satoshi))\n",
    "                                .SetChange(sender_address)\n",
    "                                .SendFees(new Money(0.001m, MoneyUnit.BTC))\n",
    "                                .Send(TxNullDataTemplate.Instance.GenerateScriptPubKey(hashValue), Money.Zero)\n",
    "                                .BuildTransaction(true)\n",
    "\n",
    "printfn \"%A\" tx"
   ]
  },
  {
   "cell_type": "code",
   "execution_count": null,
   "metadata": {},
   "outputs": [],
   "source": []
  },
  {
   "cell_type": "code",
   "execution_count": 6,
   "metadata": {},
   "outputs": [
    {
     "data": {
      "text/plain": [
       "true\n"
      ]
     },
     "metadata": {},
     "output_type": "display_data"
    }
   ],
   "source": [
    "let verify = txBuilder.Verify(tx)  //check fully signed\n",
    "printfn \"%A\" (verify)"
   ]
  },
  {
   "cell_type": "code",
   "execution_count": null,
   "metadata": {},
   "outputs": [],
   "source": []
  }
 ],
 "metadata": {
  "kernelspec": {
   "display_name": "F#",
   "language": "fsharp",
   "name": "ifsharp"
  },
  "language": "fsharp",
  "language_info": {
   "codemirror_mode": "",
   "file_extension": ".fs",
   "mimetype": "text/x-fsharp",
   "name": "fsharp",
   "nbconvert_exporter": "",
   "pygments_lexer": "",
   "version": "4.3.1.0"
  }
 },
 "nbformat": 4,
 "nbformat_minor": 2
}
