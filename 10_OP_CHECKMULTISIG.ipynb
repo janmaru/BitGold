{
 "cells": [
  {
   "cell_type": "code",
   "execution_count": 1,
   "metadata": {},
   "outputs": [],
   "source": [
    "#load \"Paket.fsx\"\n",
    "Paket.Package\n",
    "  [ \"QBitNinja.Client -Version 1.0.3.46\"\n",
    "    \"NBitcoin -Version 4.0.0.48\"\n",
    "    \"FSharp.Data -Version 2.4.6\"\n",
    "    \"Newtonsoft.Json -Version 10.0.3\"    \n",
    "  ]    \n",
    "#load \"Paket.Generated.Refs.fsx\"\n",
    "\n",
    "open System\n",
    "open NBitcoin\n",
    "open NBitcoin.Crypto   \n",
    "open NBitcoin.OpenAsset \n",
    "open NBitcoin.Stealth \n",
    "open QBitNinja.Client \n",
    "open QBitNinja.Client.Models \n",
    "open System.Collections.Generic \n",
    "open System.Linq\n",
    "open System.Collections   \n",
    "\n",
    "open FSharp.Data\n",
    "open FSharp.Data.JsonExtensions\n",
    "\n",
    "type secretJson = JsonProvider<\"\"\"{\n",
    "  \"secret\": \"\"\n",
    "}\"\"\">\n",
    "      \n",
    "let sj = secretJson.GetSample()"
   ]
  },
  {
   "cell_type": "code",
   "execution_count": null,
   "metadata": {},
   "outputs": [],
   "source": []
  },
  {
   "cell_type": "code",
   "execution_count": 6,
   "metadata": {},
   "outputs": [],
   "source": [
    "let alice = secretJson.Load(@\"/home/nbuser/library/secret.json\").JsonValue?secret.AsString()  \n",
    "let bob = secretJson.Load(@\"/home/nbuser/library/secret_dest.json\").JsonValue?secret.AsString()  \n",
    "let zorro = secretJson.Load(@\"/home/nbuser/library/secret_zorro.json\").JsonValue?secret.AsString()  \n",
    "  \n",
    "let happy = secretJson.Load(@\"/home/nbuser/library/secret_zorro.json\").JsonValue?secret.AsString() \n",
    "\n",
    "let alice_private  = Key.Parse(alice, Network.TestNet) \n",
    "let bob_private  = Key.Parse(bob, Network.TestNet) \n",
    "let zorro_private  = Key.Parse(zorro, Network.TestNet) \n",
    "let happy_private  = Key.Parse(zorro, Network.TestNet)  "
   ]
  },
  {
   "cell_type": "code",
   "execution_count": null,
   "metadata": {},
   "outputs": [],
   "source": []
  },
  {
   "cell_type": "code",
   "execution_count": 7,
   "metadata": {},
   "outputs": [],
   "source": [
    "let ZorroComp:Script = \n",
    "                PayToMultiSigTemplate\n",
    "                            .Instance\n",
    "                            .GenerateScriptPubKey(2,  [| alice_private.PubKey; bob_private.PubKey; zorro_private.PubKey |])"
   ]
  },
  {
   "cell_type": "code",
   "execution_count": 8,
   "metadata": {},
   "outputs": [
    {
     "data": {
      "text/plain": [
       "2 0364dfe2fa8c584d9af693fca129f9c031e4108be2b6d31ac3f6846ef1ba7ecdc1 0230621e0bd25d7207cacd09368b62b4107bca1a416f12d86e4f159e718e9d7750 02016e47a7061e49d9e0b13662e8c6efa0c6628051c11717ebb229f01231a0c5f0 3 OP_CHECKMULTISIG\n"
      ]
     },
     "metadata": {},
     "output_type": "display_data"
    }
   ],
   "source": [
    "printfn \"%A\" ZorroComp"
   ]
  },
  {
   "cell_type": "code",
   "execution_count": null,
   "metadata": {},
   "outputs": [],
   "source": []
  },
  {
   "cell_type": "code",
   "execution_count": 12,
   "metadata": {},
   "outputs": [
    {
     "data": {
      "text/plain": [
       "0.53990000\n"
      ]
     },
     "metadata": {},
     "output_type": "display_data"
    }
   ],
   "source": [
    "let client:QBitNinjaClient  = new QBitNinjaClient(Network.TestNet)\n",
    "\n",
    "let transactionId = uint256.Parse(\"d5e087d429a1a42b3d42f5ce717621583988f8bf469f64afdff2c6060dab692b\")\n",
    "\n",
    "// Query the transaction\n",
    "let transactionResponse:GetTransactionResponse  = client.GetTransaction(transactionId).Result\n",
    "\n",
    "let transaction:NBitcoin.Transaction  = transactionResponse.Transaction\n",
    "\n",
    "let receivedCoins = transactionResponse.ReceivedCoins;\n",
    "let mutable myCoins:Coin = null \n",
    "for coin in receivedCoins do\n",
    "    if (coin.TxOut.ScriptPubKey =  alice_private.ScriptPubKey) then\n",
    "        myCoins<- coin:?>Coin\n",
    "        \n",
    "printfn \"%A\" myCoins.Amount"
   ]
  },
  {
   "cell_type": "code",
   "execution_count": null,
   "metadata": {},
   "outputs": [],
   "source": []
  },
  {
   "cell_type": "code",
   "execution_count": 10,
   "metadata": {},
   "outputs": [],
   "source": [
    "let mutable txBuilder = new TransactionBuilder() \n",
    "let mutable tx:Transaction = txBuilder\n",
    "                                .AddCoins(myCoins) \n",
    "                                .AddKeys(alice_private)\n",
    "                                .Send(ZorroComp, new Money(0.1m, MoneyUnit.BTC))\n",
    "                                .SetChange(alice_private)\n",
    "                                .SendFees(new Money(0.001m, MoneyUnit.BTC))\n",
    "                                .BuildTransaction(true)\n"
   ]
  },
  {
   "cell_type": "code",
   "execution_count": 11,
   "metadata": {},
   "outputs": [
    {
     "data": {
      "text/plain": [
       "{\n",
       "  \"hash\": \"4c5994aa1b88ef449873bc590fa05ce215af4bffd6b9e68b8004e8bbb5f4418e\",\n",
       "  \"ver\": 1,\n",
       "  \"vin_sz\": 1,\n",
       "  \"vout_sz\": 2,\n",
       "  \"lock_time\": 0,\n",
       "  \"size\": 305,\n",
       "  \"in\": [\n",
       "    {\n",
       "      \"prev_out\": {\n",
       "        \"hash\": \"d5e087d429a1a42b3d42f5ce717621583988f8bf469f64afdff2c6060dab692b\",\n",
       "        \"n\": 0\n",
       "      },\n",
       "      \"scriptSig\": \"304402206d6078ea4ea2446cd8f01d7013a5904a6ce03e189a9f047394225df3abbb655a02203f998630ad81bfd12b9f52bdfd92bf20f7de999f3b1c85ed02f27ac3013518ab01 0364dfe2fa8c584d9af693fca129f9c031e4108be2b6d31ac3f6846ef1ba7ecdc1\"\n",
       "    }\n",
       "  ],\n",
       "  \"out\": [\n",
       "    {\n",
       "      \"value\": \"0.43890000\",\n",
       "      \"scriptPubKey\": \"OP_DUP OP_HASH160 4fbd5152456bee3dc0ffe25118a6de17126e5c19 OP_EQUALVERIFY OP_CHECKSIG\"\n",
       "    },\n",
       "    {\n",
       "      \"value\": \"0.10000000\",\n",
       "      \"scriptPubKey\": \"2 0364dfe2fa8c584d9af693fca129f9c031e4108be2b6d31ac3f6846ef1ba7ecdc1 0230621e0bd25d7207cacd09368b62b4107bca1a416f12d86e4f159e718e9d7750 02016e47a7061e49d9e0b13662e8c6efa0c6628051c11717ebb229f01231a0c5f0 3 OP_CHECKMULTISIG\"\n",
       "    }\n",
       "  ]\n",
       "}\n"
      ]
     },
     "metadata": {},
     "output_type": "display_data"
    }
   ],
   "source": [
    "printfn \"%A\" tx"
   ]
  },
  {
   "cell_type": "code",
   "execution_count": null,
   "metadata": {},
   "outputs": [],
   "source": []
  },
  {
   "cell_type": "code",
   "execution_count": 9,
   "metadata": {},
   "outputs": [
    {
     "data": {
      "text/plain": [
       "true\n"
      ]
     },
     "metadata": {},
     "output_type": "display_data"
    }
   ],
   "source": [
    "let verify = txBuilder.Verify(tx)  //check fully signed\n",
    "printfn \"%A\" (verify)"
   ]
  },
  {
   "cell_type": "code",
   "execution_count": null,
   "metadata": {},
   "outputs": [],
   "source": []
  },
  {
   "cell_type": "code",
   "execution_count": 24,
   "metadata": {},
   "outputs": [],
   "source": [
    "let mutable broadcastResponse:BroadcastResponse = client.Broadcast(tx).Result \n",
    "\n",
    "\n",
    "if not broadcastResponse.Success then\n",
    "    printfn \"ErrorCode: %A\" (broadcastResponse.Error.ErrorCode) \n",
    "    printfn \"Error message: %A\" (broadcastResponse.Error.Reason) \n",
    "else\n",
    "    printfn \"Success!\" \n",
    "    printfn \"%A\" (transaction.GetHash())\n",
    "\n",
    " "
   ]
  },
  {
   "cell_type": "code",
   "execution_count": null,
   "metadata": {},
   "outputs": [],
   "source": []
  },
  {
   "cell_type": "code",
   "execution_count": 13,
   "metadata": {},
   "outputs": [
    {
     "data": {
      "text/plain": [
       "0.01000000\n"
      ]
     },
     "metadata": {},
     "output_type": "display_data"
    }
   ],
   "source": [
    "let transactionId' = uint256.Parse(\"d5e087d429a1a42b3d42f5ce717621583988f8bf469f64afdff2c6060dab692b\");\n",
    "// Query the transaction\n",
    "let transactionResponse' = client.GetTransaction(transactionId' ).Result \n",
    "let transaction'= transactionResponse'.Transaction\n",
    "\n",
    "let receivedCoins' = transactionResponse.ReceivedCoins\n",
    "let mutable myCoins':Coin = null \n",
    "for coin in receivedCoins' do\n",
    "        myCoins<- coin:?>Coin\n",
    "        \n",
    "printfn \"%A\" myCoins.Amount\n"
   ]
  },
  {
   "cell_type": "code",
   "execution_count": 15,
   "metadata": {},
   "outputs": [
    {
     "data": {
      "text/plain": [
       "false\n"
      ]
     },
     "metadata": {},
     "output_type": "display_data"
    }
   ],
   "source": [
    "let mutable txBuilder'' = new TransactionBuilder();\n",
    "let mutable tx' = txBuilder''\n",
    "                    .AddCoins(myCoins)\n",
    "                    .AddKeys(alice_private)\n",
    "                    .Send(happy_private.PubKey, new Money(0.001m, MoneyUnit.BTC))\n",
    "                    .SetChange(ZorroComp)\n",
    "                    .SendFees(new Money(0.0001m, MoneyUnit.BTC))\n",
    "                    .BuildTransaction(true)\n",
    "        \n",
    "printfn \"%A\" (txBuilder''.Verify(tx'))"
   ]
  },
  {
   "cell_type": "code",
   "execution_count": 16,
   "metadata": {},
   "outputs": [
    {
     "data": {
      "text/plain": [
       "{\n",
       "  \"hash\": \"a52128348e348101940877b7b1c22f7b7865305cb8aa986f5fcd62080ef55bde\",\n",
       "  \"ver\": 1,\n",
       "  \"vin_sz\": 1,\n",
       "  \"vout_sz\": 2,\n",
       "  \"lock_time\": 0,\n",
       "  \"size\": 209,\n",
       "  \"in\": [\n",
       "    {\n",
       "      \"prev_out\": {\n",
       "        \"hash\": \"d5e087d429a1a42b3d42f5ce717621583988f8bf469f64afdff2c6060dab692b\",\n",
       "        \"n\": 1\n",
       "      },\n",
       "      \"scriptSig\": \"\"\n",
       "    }\n",
       "  ],\n",
       "  \"out\": [\n",
       "    {\n",
       "      \"value\": \"0.00890000\",\n",
       "      \"scriptPubKey\": \"2 0364dfe2fa8c584d9af693fca129f9c031e4108be2b6d31ac3f6846ef1ba7ecdc1 0230621e0bd25d7207cacd09368b62b4107bca1a416f12d86e4f159e718e9d7750 02016e47a7061e49d9e0b13662e8c6efa0c6628051c11717ebb229f01231a0c5f0 3 OP_CHECKMULTISIG\"\n",
       "    },\n",
       "    {\n",
       "      \"value\": \"0.00100000\",\n",
       "      \"scriptPubKey\": \"02016e47a7061e49d9e0b13662e8c6efa0c6628051c11717ebb229f01231a0c5f0 OP_CHECKSIG\"\n",
       "    }\n",
       "  ]\n",
       "}\n"
      ]
     },
     "metadata": {},
     "output_type": "display_data"
    }
   ],
   "source": [
    "printfn \"%A\" tx'"
   ]
  },
  {
   "cell_type": "code",
   "execution_count": 17,
   "metadata": {},
   "outputs": [
    {
     "data": {
      "text/plain": [
       "true\n"
      ]
     },
     "metadata": {},
     "output_type": "display_data"
    }
   ],
   "source": [
    "let mutable txBuilder''' = new TransactionBuilder();\n",
    "let mutable tx'' = txBuilder'''\n",
    "                        .AddCoins(myCoins)\n",
    "                        .AddKeys(alice_private, bob_private)\n",
    "                        .Send(happy_private.PubKey, new Money(0.001m, MoneyUnit.BTC))\n",
    "                        .SetChange(ZorroComp)\n",
    "                        .SendFees(new Money(0.0001m, MoneyUnit.BTC))\n",
    "                        .BuildTransaction(true)\n",
    "        \n",
    "printfn \"%A\" (txBuilder''.Verify(tx''))"
   ]
  },
  {
   "cell_type": "code",
   "execution_count": 18,
   "metadata": {},
   "outputs": [
    {
     "data": {
      "text/plain": [
       "{\n",
       "  \"hash\": \"0ab5eb245121c867449ac81d33814a4e91ff15a223d7ea0d0fb64dd7ba498279\",\n",
       "  \"ver\": 1,\n",
       "  \"vin_sz\": 1,\n",
       "  \"vout_sz\": 2,\n",
       "  \"lock_time\": 0,\n",
       "  \"size\": 315,\n",
       "  \"in\": [\n",
       "    {\n",
       "      \"prev_out\": {\n",
       "        \"hash\": \"d5e087d429a1a42b3d42f5ce717621583988f8bf469f64afdff2c6060dab692b\",\n",
       "        \"n\": 1\n",
       "      },\n",
       "      \"scriptSig\": \"304402202a087611eb257aa90f78f37d000c491d09d2c592374c0d05071c019298ab51140220295d2d503c6505e553f2dc8987e7ea4e043e6105a299344bdf1662588088ba5c01 0230621e0bd25d7207cacd09368b62b4107bca1a416f12d86e4f159e718e9d7750\"\n",
       "    }\n",
       "  ],\n",
       "  \"out\": [\n",
       "    {\n",
       "      \"value\": \"0.00890000\",\n",
       "      \"scriptPubKey\": \"2 0364dfe2fa8c584d9af693fca129f9c031e4108be2b6d31ac3f6846ef1ba7ecdc1 0230621e0bd25d7207cacd09368b62b4107bca1a416f12d86e4f159e718e9d7750 02016e47a7061e49d9e0b13662e8c6efa0c6628051c11717ebb229f01231a0c5f0 3 OP_CHECKMULTISIG\"\n",
       "    },\n",
       "    {\n",
       "      \"value\": \"0.00100000\",\n",
       "      \"scriptPubKey\": \"02016e47a7061e49d9e0b13662e8c6efa0c6628051c11717ebb229f01231a0c5f0 OP_CHECKSIG\"\n",
       "    }\n",
       "  ]\n",
       "}\n"
      ]
     },
     "metadata": {},
     "output_type": "display_data"
    }
   ],
   "source": [
    "printfn \"%A\" tx''"
   ]
  },
  {
   "cell_type": "code",
   "execution_count": 18,
   "metadata": {},
   "outputs": [
    {
     "data": {
      "text/plain": [
       "\"{\"CoinSelector\":{\"GroupByScriptPubKey\":true},\"DustPrevention\":true,\"FilterUneconomicalCoins\":true,\"FilterUneconomicalCoinsRate\":null,\"CoinFinder\":null,\"KeyFinder\":null,\"StandardTransactionPolicy\":{\"MaxTransactionSize\":100000,\"MaxTxFee\":{\"FeePerK\":{\"Satoshi\":10000000}},\"MinRelayTxFee\":{\"FeePerK\":{\"Satoshi\":1000}},\"ScriptVerify\":32735,\"CheckMalleabilitySafe\":false,\"CheckFee\":true,\"UseConsensusLib\":false,\"CheckScriptPubKey\":true},\"Extensions\":[{},{},{},{}]}\"\n"
      ]
     },
     "metadata": {},
     "output_type": "display_data"
    }
   ],
   "source": [
    "open Newtonsoft.Json\n",
    "let jtx = JsonConvert.SerializeObject(txBuilder'')\n",
    "printfn \"%A\" jtx"
   ]
  },
  {
   "cell_type": "code",
   "execution_count": null,
   "metadata": {},
   "outputs": [],
   "source": [
    " "
   ]
  },
  {
   "cell_type": "code",
   "execution_count": 19,
   "metadata": {},
   "outputs": [],
   "source": [
    "tx'.Sign(bob_private,myCoins )"
   ]
  },
  {
   "cell_type": "code",
   "execution_count": 20,
   "metadata": {},
   "outputs": [
    {
     "data": {
      "text/plain": [
       "{\n",
       "  \"hash\": \"0ab5eb245121c867449ac81d33814a4e91ff15a223d7ea0d0fb64dd7ba498279\",\n",
       "  \"ver\": 1,\n",
       "  \"vin_sz\": 1,\n",
       "  \"vout_sz\": 2,\n",
       "  \"lock_time\": 0,\n",
       "  \"size\": 315,\n",
       "  \"in\": [\n",
       "    {\n",
       "      \"prev_out\": {\n",
       "        \"hash\": \"d5e087d429a1a42b3d42f5ce717621583988f8bf469f64afdff2c6060dab692b\",\n",
       "        \"n\": 1\n",
       "      },\n",
       "      \"scriptSig\": \"304402202a087611eb257aa90f78f37d000c491d09d2c592374c0d05071c019298ab51140220295d2d503c6505e553f2dc8987e7ea4e043e6105a299344bdf1662588088ba5c01 0230621e0bd25d7207cacd09368b62b4107bca1a416f12d86e4f159e718e9d7750\"\n",
       "    }\n",
       "  ],\n",
       "  \"out\": [\n",
       "    {\n",
       "      \"value\": \"0.00890000\",\n",
       "      \"scriptPubKey\": \"2 0364dfe2fa8c584d9af693fca129f9c031e4108be2b6d31ac3f6846ef1ba7ecdc1 0230621e0bd25d7207cacd09368b62b4107bca1a416f12d86e4f159e718e9d7750 02016e47a7061e49d9e0b13662e8c6efa0c6628051c11717ebb229f01231a0c5f0 3 OP_CHECKMULTISIG\"\n",
       "    },\n",
       "    {\n",
       "      \"value\": \"0.00100000\",\n",
       "      \"scriptPubKey\": \"02016e47a7061e49d9e0b13662e8c6efa0c6628051c11717ebb229f01231a0c5f0 OP_CHECKSIG\"\n",
       "    }\n",
       "  ]\n",
       "}\n"
      ]
     },
     "metadata": {},
     "output_type": "display_data"
    }
   ],
   "source": [
    "printfn \"%A\" tx'"
   ]
  },
  {
   "cell_type": "code",
   "execution_count": null,
   "metadata": {},
   "outputs": [],
   "source": []
  }
 ],
 "metadata": {
  "kernelspec": {
   "display_name": "F#",
   "language": "fsharp",
   "name": "ifsharp"
  },
  "language": "fsharp",
  "language_info": {
   "codemirror_mode": "",
   "file_extension": ".fs",
   "mimetype": "text/x-fsharp",
   "name": "fsharp",
   "nbconvert_exporter": "",
   "pygments_lexer": "",
   "version": "4.3.1.0"
  }
 },
 "nbformat": 4,
 "nbformat_minor": 2
}
