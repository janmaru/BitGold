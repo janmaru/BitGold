{
 "cells": [
  {
   "cell_type": "code",
   "execution_count": 1,
   "metadata": {},
   "outputs": [],
   "source": [
    "#load \"Paket.fsx\"\n",
    "Paket.Package\n",
    "  [ \"NBitcoin.Mono -Version 3.0.0.47\"\n",
    "    \"FSharp.Data -Version 2.4.6\"\n",
    "    \"Newtonsoft.Json -Version 10.0.3\"\n",
    "  ]    \n",
    "#load \"Paket.Generated.Refs.fsx\"\n",
    "\n",
    "open System\n",
    "open NBitcoin\n",
    "open NBitcoin.Crypto   "
   ]
  },
  {
   "cell_type": "markdown",
   "metadata": {},
   "source": [
    "[BIP](https://github.com/bitcoin/bips/blob/master/bip-0038.mediawiki)"
   ]
  },
  {
   "cell_type": "code",
   "execution_count": 2,
   "metadata": {},
   "outputs": [
    {
     "data": {
      "text/plain": [
       "bitcoin secret: KyXXhvkQ4t7h4eYwcC7BD5TPjQvcietMSgTzi7p5dBE7H8eEmXJb\n",
       "dato cifrato: 6PYMZYr3dACZN3G4ovniTCZDWgCsbRVcCEwh9ZHcDRDCLRsVpb6P9vb6tb\n",
       "bitcoin secret: KyXXhvkQ4t7h4eYwcC7BD5TPjQvcietMSgTzi7p5dBE7H8eEmXJb\n"
      ]
     },
     "metadata": {},
     "output_type": "display_data"
    }
   ],
   "source": [
    "RandomUtils.Random <- (new UnsecureRandom():>IRandom)\n",
    "\n",
    "let key = new Key() //Create a new key\n",
    "let secret:BitcoinSecret  = key.GetBitcoinSecret(Network.Main) \n",
    "\n",
    "printfn \"bitcoin secret: %A\" secret //Will print the key in base58 check format\n",
    "\n",
    "let encrypted:BitcoinEncryptedSecret = secret.Encrypt(\"devday è bello\")\n",
    "\n",
    "printfn \"dato cifrato: %A\" encrypted //Will print the encrypted key in base58 check format\n",
    "\n",
    "let key' = encrypted.GetKey(\"devday è bello\"); //Get the same key as before\n",
    "\n",
    "printfn \"bitcoin secret: %A\" (key'.GetBitcoinSecret(Network.Main))"
   ]
  },
  {
   "cell_type": "markdown",
   "metadata": {},
   "source": [
    "[Hierarchical Deterministic Wallet](https://github.com/bitcoin/bips/blob/master/bip-0032.mediawiki).\n",
    "Potete assegnare al server il diritto di generare public keys (bitcoin address) senza conoscere la  private key. "
   ]
  },
  {
   "cell_type": "code",
   "execution_count": null,
   "metadata": {},
   "outputs": [],
   "source": []
  },
  {
   "cell_type": "code",
   "execution_count": 3,
   "metadata": {},
   "outputs": [
    {
     "data": {
      "text/plain": [
       "03c1631276d2bcb9c00a83744aa2e3d6d4e9ab779f0692b0153087afb888cd5eda\n"
      ]
     },
     "metadata": {},
     "output_type": "display_data"
    }
   ],
   "source": [
    "let privateKey:ExtKey  = new ExtKey() \n",
    "let pubKey:ExtPubKey  = privateKey.Neuter();\n",
    "\n",
    "printfn \"%A\"  pubKey.PubKey"
   ]
  },
  {
   "cell_type": "markdown",
   "metadata": {},
   "source": [
    "diamo la **public key** al server, che riceve un ordine con id **orderID** senza conoscere la **private key**"
   ]
  },
  {
   "cell_type": "code",
   "execution_count": 4,
   "metadata": {},
   "outputs": [
    {
     "data": {
      "text/plain": [
       "1CHsVotoEN3g3V51P9aieVCJ4J3f5WtHCU\n"
      ]
     },
     "metadata": {},
     "output_type": "display_data"
    }
   ],
   "source": [
    "let orderID = 666u\n",
    "let address:BitcoinPubKeyAddress  = pubKey.Derive(orderID).PubKey.GetAddress(Network.Main) \n",
    "printfn \"%A\"  address\n"
   ]
  },
  {
   "cell_type": "markdown",
   "metadata": {},
   "source": [
    "dall'**orderID** ricaviamo la **private key**"
   ]
  },
  {
   "cell_type": "code",
   "execution_count": 9,
   "metadata": {},
   "outputs": [
    {
     "data": {
      "text/plain": [
       "L19s59U2sQpgx3i9gthntehthcvJWV4nvfz6P6EqbbZfaU7mfenD\n"
      ]
     },
     "metadata": {},
     "output_type": "display_data"
    }
   ],
   "source": [
    "let key':Key = privateKey.Derive(orderID).PrivateKey\n",
    "let secret:BitcoinSecret  = key'.GetBitcoinSecret(Network.Main) \n",
    "printfn \"%A\"  secret\n"
   ]
  },
  {
   "cell_type": "code",
   "execution_count": null,
   "metadata": {},
   "outputs": [],
   "source": []
  }
 ],
 "metadata": {
  "kernelspec": {
   "display_name": "F#",
   "language": "fsharp",
   "name": "ifsharp"
  },
  "language": "fsharp",
  "language_info": {
   "codemirror_mode": "",
   "file_extension": ".fs",
   "mimetype": "text/x-fsharp",
   "name": "fsharp",
   "nbconvert_exporter": "",
   "pygments_lexer": "",
   "version": "4.3.1.0"
  }
 },
 "nbformat": 4,
 "nbformat_minor": 2
}
