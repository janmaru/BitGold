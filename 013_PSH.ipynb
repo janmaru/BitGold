{
 "cells": [
  {
   "cell_type": "code",
   "execution_count": 1,
   "metadata": {},
   "outputs": [],
   "source": [
    "#load \"Paket.fsx\"\n",
    "Paket.Package\n",
    "  [ \"QBitNinja.Client -Version 1.0.3.46\"\n",
    "    \"NBitcoin -Version 4.0.0.48\"\n",
    "    \"FSharp.Data -Version 2.4.6\"\n",
    "    \"Newtonsoft.Json -Version 10.0.3\"    \n",
    "  ]    \n",
    "#load \"Paket.Generated.Refs.fsx\"\n",
    "\n",
    "open System\n",
    "open NBitcoin\n",
    "open NBitcoin.Crypto   \n",
    "open NBitcoin.OpenAsset \n",
    "open NBitcoin.Stealth \n",
    "open QBitNinja.Client \n",
    "open QBitNinja.Client.Models \n",
    "open System.Collections.Generic \n",
    "open System.Linq\n",
    "open System.Collections   \n",
    "\n",
    "open FSharp.Data\n",
    "open FSharp.Data.JsonExtensions\n",
    "\n",
    "type secretJson = JsonProvider<\"\"\"{\n",
    "  \"secret\": \"\"\n",
    "}\"\"\">\n",
    "      \n",
    "let sj = secretJson.GetSample()"
   ]
  },
  {
   "cell_type": "code",
   "execution_count": null,
   "metadata": {},
   "outputs": [],
   "source": []
  },
  {
   "cell_type": "code",
   "execution_count": 6,
   "metadata": {},
   "outputs": [],
   "source": [
    "let alice = secretJson.Load(@\"/home/nbuser/library/secret.json\").JsonValue?secret.AsString()  \n",
    "let bob = secretJson.Load(@\"/home/nbuser/library/secret_dest.json\").JsonValue?secret.AsString()  \n",
    "let zorro = secretJson.Load(@\"/home/nbuser/library/secret_zorro.json\").JsonValue?secret.AsString()  \n",
    "  \n",
    "let happy = secretJson.Load(@\"/home/nbuser/library/secret_zorro.json\").JsonValue?secret.AsString() \n",
    "\n",
    "let alice_private  = Key.Parse(alice, Network.TestNet) \n",
    "let bob_private  = Key.Parse(bob, Network.TestNet) \n",
    "let zorro_private  = Key.Parse(zorro, Network.TestNet) \n",
    "let happy_private  = Key.Parse(zorro, Network.TestNet)   "
   ]
  },
  {
   "cell_type": "code",
   "execution_count": 7,
   "metadata": {},
   "outputs": [],
   "source": [
    "let ZorroComp:Script = \n",
    "                PayToMultiSigTemplate\n",
    "                            .Instance\n",
    "                            .GenerateScriptPubKey(2,  [| alice_private.PubKey; bob_private.PubKey; zorro_private.PubKey |])"
   ]
  },
  {
   "cell_type": "code",
   "execution_count": 8,
   "metadata": {},
   "outputs": [
    {
     "data": {
      "text/plain": [
       "2 0364dfe2fa8c584d9af693fca129f9c031e4108be2b6d31ac3f6846ef1ba7ecdc1 0230621e0bd25d7207cacd09368b62b4107bca1a416f12d86e4f159e718e9d7750 02016e47a7061e49d9e0b13662e8c6efa0c6628051c11717ebb229f01231a0c5f0 3 OP_CHECKMULTISIG\n"
      ]
     },
     "metadata": {},
     "output_type": "display_data"
    }
   ],
   "source": [
    "printfn \"%A\" ZorroComp"
   ]
  },
  {
   "cell_type": "code",
   "execution_count": 9,
   "metadata": {},
   "outputs": [
    {
     "data": {
      "text/plain": [
       "0.53990000\n"
      ]
     },
     "metadata": {},
     "output_type": "display_data"
    }
   ],
   "source": [
    "let client:QBitNinjaClient  = new QBitNinjaClient(Network.TestNet)\n",
    "\n",
    "let transactionId = uint256.Parse(\"d5e087d429a1a42b3d42f5ce717621583988f8bf469f64afdff2c6060dab692b\")\n",
    "\n",
    "// Query the transaction\n",
    "let transactionResponse:GetTransactionResponse  = client.GetTransaction(transactionId).Result\n",
    "\n",
    "let transaction:NBitcoin.Transaction  = transactionResponse.Transaction\n",
    "\n",
    "let receivedCoins = transactionResponse.ReceivedCoins;\n",
    "let mutable myCoins:Coin = null \n",
    "for coin in receivedCoins do\n",
    "    if (coin.TxOut.ScriptPubKey =  alice_private.ScriptPubKey) then\n",
    "        myCoins<- coin:?>Coin\n",
    "        \n",
    "printfn \"%A\" myCoins.Amount"
   ]
  },
  {
   "cell_type": "code",
   "execution_count": 10,
   "metadata": {},
   "outputs": [],
   "source": [
    "let address = ZorroComp.GetScriptAddress(Network.TestNet)"
   ]
  },
  {
   "cell_type": "code",
   "execution_count": 11,
   "metadata": {},
   "outputs": [
    {
     "data": {
      "text/plain": [
       "2MsiuDAu1e7mjHrMKGTXGBUXQwG1qjJVqMe\n"
      ]
     },
     "metadata": {},
     "output_type": "display_data"
    }
   ],
   "source": [
    "printfn \"%A\" address"
   ]
  },
  {
   "cell_type": "code",
   "execution_count": 14,
   "metadata": {},
   "outputs": [],
   "source": [
    "\n",
    "\n",
    "let mutable txBuilder = new TransactionBuilder() \n",
    "let mutable tx:Transaction = txBuilder\n",
    "                                .AddCoins(myCoins) \n",
    "                                .AddKeys(alice_private, bob_private)\n",
    "                                .Send(happy_private, new Money(0.1m, MoneyUnit.BTC))\n",
    "                                .SetChange(address)\n",
    "                                .SendFees(new Money(0.001m, MoneyUnit.BTC))\n",
    "                                .BuildTransaction(true)\n"
   ]
  },
  {
   "cell_type": "code",
   "execution_count": 15,
   "metadata": {},
   "outputs": [
    {
     "data": {
      "text/plain": [
       "{\n",
       "  \"hash\": \"5d66576941d2c7ae21c1bfd47dd8f7399ec64fd564080a25a89e0e0239dff8f0\",\n",
       "  \"ver\": 1,\n",
       "  \"vin_sz\": 1,\n",
       "  \"vout_sz\": 2,\n",
       "  \"lock_time\": 0,\n",
       "  \"size\": 223,\n",
       "  \"in\": [\n",
       "    {\n",
       "      \"prev_out\": {\n",
       "        \"hash\": \"d5e087d429a1a42b3d42f5ce717621583988f8bf469f64afdff2c6060dab692b\",\n",
       "        \"n\": 0\n",
       "      },\n",
       "      \"scriptSig\": \"30440220354e69cd570b57056df65037f5999c780953e971e5b7a8f330b9d8efe86699aa022007e4694ff401c9b1b49f2dfff016a2fa58186ad98f51bff6cc14e1d71cf71f6801 0364dfe2fa8c584d9af693fca129f9c031e4108be2b6d31ac3f6846ef1ba7ecdc1\"\n",
       "    }\n",
       "  ],\n",
       "  \"out\": [\n",
       "    {\n",
       "      \"value\": \"0.43890000\",\n",
       "      \"scriptPubKey\": \"OP_HASH160 053bf8d5af547a231ac93e517c43f91c87e2c8c5 OP_EQUAL\"\n",
       "    },\n",
       "    {\n",
       "      \"value\": \"0.10000000\",\n",
       "      \"scriptPubKey\": \"OP_DUP OP_HASH160 898a3acffbef7c880ee82c197d79e96f3025982d OP_EQUALVERIFY OP_CHECKSIG\"\n",
       "    }\n",
       "  ]\n",
       "}\n"
      ]
     },
     "metadata": {},
     "output_type": "display_data"
    }
   ],
   "source": [
    "printfn \"%A\" tx\n",
    "\n"
   ]
  },
  {
   "cell_type": "code",
   "execution_count": null,
   "metadata": {},
   "outputs": [],
   "source": []
  }
 ],
 "metadata": {
  "kernelspec": {
   "display_name": "F#",
   "language": "fsharp",
   "name": "ifsharp"
  },
  "language": "fsharp",
  "language_info": {
   "codemirror_mode": "",
   "file_extension": ".fs",
   "mimetype": "text/x-fsharp",
   "name": "fsharp",
   "nbconvert_exporter": "",
   "pygments_lexer": "",
   "version": "4.3.1.0"
  }
 },
 "nbformat": 4,
 "nbformat_minor": 2
}
