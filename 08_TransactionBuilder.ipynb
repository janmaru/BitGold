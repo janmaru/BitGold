{
 "cells": [
  {
   "cell_type": "code",
   "execution_count": 15,
   "metadata": {},
   "outputs": [],
   "source": [
    "#load \"Paket.fsx\"\n",
    "Paket.Package\n",
    "  [ \"QBitNinja.Client -Version 1.0.3.46\"\n",
    "    \"NBitcoin -Version 4.1.0.6\"\n",
    "    \"FSharp.Data -Version 2.4.6\"\n",
    "    \"Newtonsoft.Json -Version 10.0.3\"    \n",
    "  ]    \n",
    "#load \"Paket.Generated.Refs.fsx\"\n",
    "\n",
    "open System\n",
    "open NBitcoin\n",
    "open NBitcoin.Crypto   \n",
    "open NBitcoin.OpenAsset \n",
    "open NBitcoin.Stealth \n",
    "open QBitNinja.Client \n",
    "open QBitNinja.Client.Models \n",
    "open System.Collections.Generic \n",
    "open System.Linq\n",
    "open System.Collections\n",
    "\n",
    "type Wallet =\n",
    "    static member PrivateKey: Key = \n",
    "        (new Key())\n",
    "    static member PublicKey (k:Key) = \n",
    "        if (k=null) then\n",
    "          (new Key()).PubKey\n",
    "        else\n",
    "          k.PubKey \n",
    "          \n",
    "type Wallet with\n",
    "     static member BitcoinSecretMain (k:Key) = \n",
    "            if (k=null) then\n",
    "                Wallet.PrivateKey.GetBitcoinSecret(Network.Main)\n",
    "            else\n",
    "                k.GetBitcoinSecret(Network.Main)\n",
    "     static member BitcoinSecretTest (k:Key) = \n",
    "            if (k=null) then\n",
    "                Wallet.PrivateKey.GetBitcoinSecret(Network.TestNet)\n",
    "            else\n",
    "                k.GetBitcoinSecret(Network.TestNet)    \n",
    "     static member WifMain (k:Key) = \n",
    "            if (k=null) then\n",
    "                Wallet.PrivateKey.GetWif(Network.Main)\n",
    "            else\n",
    "                k.GetWif(Network.Main)\n",
    "     static member WifTest (k:Key) = \n",
    "            if (k=null) then\n",
    "                Wallet.PrivateKey.GetWif(Network.TestNet)\n",
    "            else\n",
    "                k.GetWif(Network.TestNet)\n",
    "type Wallet with\n",
    "     static member BitCoinAddressMain (k:Key) = \n",
    "        Wallet.PublicKey(k).GetAddress(Network.Main) \n",
    "     static member BitCoinAddressTest  (k:Key) = \n",
    "        Wallet.PublicKey(k).GetAddress(Network.TestNet) \n",
    "     static member PublicKeyHash (k:Key) = \n",
    "        Wallet.PublicKey(k).Hash \n",
    "     static member BitCoinAddressMain2 (k:Key) = \n",
    "        Wallet.PublicKey(k).Hash.GetAddress(Network.Main) \n",
    "     static member BitCoinAddressTest2  (k:Key) = \n",
    "        Wallet.PublicKey(k).Hash.GetAddress(Network.TestNet) \n",
    "        \n",
    "type Script = \n",
    "   static member PublicKeyHash (Pk:string) = \n",
    "       new KeyId(Pk) \n",
    "   static member Main  (Pk:string) = \n",
    "       Script.PublicKeyHash(Pk).GetAddress(Network.Main).ScriptPubKey\n",
    "   static member Test  (Pk:string) = \n",
    "       Script.PublicKeyHash(Pk).GetAddress(Network.TestNet).ScriptPubKey \n",
    "   static member Main  (k:Key)  = \n",
    "       Wallet.PublicKeyHash(k).GetAddress(Network.Main).ScriptPubKey \n",
    "   static member Test  (k:Key)  = \n",
    "       Wallet.PublicKeyHash(k).GetAddress(Network.TestNet).ScriptPubKey \n",
    "   static member BitCoinAddressMain (k:Key) = \n",
    "      Script.Main(k).GetDestinationAddress(Network.Main)\n",
    "   static member BitCoinAddressTest  (k:Key) = \n",
    "      Script.Main(k).GetDestinationAddress(Network.TestNet)"
   ]
  },
  {
   "cell_type": "code",
   "execution_count": null,
   "metadata": {},
   "outputs": [],
   "source": []
  },
  {
   "cell_type": "code",
   "execution_count": 16,
   "metadata": {},
   "outputs": [
    {
     "data": {
      "text/plain": [
       "TestNet\n",
       "sender mnnaUEKBKJVFjCqVnVPmwefk6CwuVsyRRj\n",
       "sender secret cRMR4cGGGCh67WmHnZk7Myy9P4nrEuedRovrD3jSqHg7K3HY5wmv\n",
       "sender script OP_DUP OP_HASH160 4fbd5152456bee3dc0ffe25118a6de17126e5c19 OP_EQUALVERIFY OP_CHECKSIG\n",
       "destination mtYy84R9Ezc6UxWGfHgMj4TmxXFqSy7SPf\n",
       "dest secret cVdNBTECyg4Af4reyg4qykBMTq8SkqNboJRKotAvEMdVKnhr3CaK\n",
       "dest script OP_DUP OP_HASH160 8efb2874941ae0a85e2c94ee6b267e8ad70fb5cf OP_EQUALVERIFY OP_CHECKSIG\n"
      ]
     },
     "metadata": {},
     "output_type": "display_data"
    }
   ],
   "source": [
    "open FSharp.Data\n",
    "open FSharp.Data.JsonExtensions\n",
    "\n",
    "type secretJson = JsonProvider<\"\"\"{\n",
    "  \"secret\": \"\"\n",
    "}\"\"\">\n",
    "      \n",
    "let sj = secretJson.GetSample()\n",
    "//printfn \"%A\" sj \n",
    "  \n",
    "let json_uri = @\"/home/nbuser/library/secret.json\"\n",
    "let wwif = secretJson.Load(json_uri).JsonValue?secret.AsString()  \n",
    "\n",
    "let network = Network.TestNet\n",
    "\n",
    "let sender_bitcoinPrivateKey:Key  = Key.Parse(wwif, Network.TestNet) \n",
    "let sender_address = Script.BitCoinAddressTest sender_bitcoinPrivateKey //Wallet.PublicKeyHash bitcoinPrivateKey\n",
    "\n",
    "printfn \"%A\" (network)\n",
    "printfn \"sender %A\" (sender_address)\n",
    "printfn \"sender secret %A\" (Wallet.BitcoinSecretTest sender_bitcoinPrivateKey)\n",
    "printfn \"sender script %A\" (Script.Test sender_bitcoinPrivateKey)\n",
    "\n",
    "let json_uri_dest = @\"/home/nbuser/library/secret_dest.json\"\n",
    "let wwif_dest = secretJson.Load(json_uri_dest).JsonValue?secret.AsString()  \n",
    "\n",
    "\n",
    "let dest_bitcoinPrivateKey:Key   = Key.Parse(wwif_dest, Network.TestNet) \n",
    "let dest_address = Script.BitCoinAddressTest dest_bitcoinPrivateKey  \n",
    "printfn \"destination %A\" (dest_address)\n",
    "printfn \"dest secret %A\" (Wallet.BitcoinSecretTest dest_bitcoinPrivateKey)\n",
    "printfn \"dest script %A\" (Script.Test dest_bitcoinPrivateKey)\n"
   ]
  },
  {
   "cell_type": "code",
   "execution_count": null,
   "metadata": {},
   "outputs": [],
   "source": []
  },
  {
   "cell_type": "code",
   "execution_count": 4,
   "metadata": {},
   "outputs": [
    {
     "data": {
      "text/plain": [
       "0.55000000\n"
      ]
     },
     "metadata": {},
     "output_type": "display_data"
    }
   ],
   "source": [
    "\n",
    "let client:QBitNinjaClient  = new QBitNinjaClient(Network.TestNet)\n",
    "\n",
    "let transactionId = uint256.Parse(\"516c43b617a6fa6dee5f3e9b34d99365b3b89d1381dc9aebcca1e8822c8cb5f4\")\n",
    "\n",
    "// Query the transaction\n",
    "let transactionResponse:GetTransactionResponse  = client.GetTransaction(transactionId).Result\n",
    "\n",
    "let transaction:NBitcoin.Transaction  = transactionResponse.Transaction\n",
    "\n",
    "let receivedCoins = transactionResponse.ReceivedCoins;\n",
    "let mutable myCoins:Coin = null \n",
    "for coin in receivedCoins do\n",
    "    if (coin.TxOut.ScriptPubKey =  sender_bitcoinPrivateKey.ScriptPubKey) then\n",
    "        myCoins<- coin:?>Coin\n",
    "\n",
    "printfn \"%A\" myCoins.Amount\n",
    "\n",
    "let ops = client.GetBalance((Wallet.PublicKeyHash sender_bitcoinPrivateKey), true).Result.Operations\n",
    "\n",
    "let coins =\n",
    "        query {\n",
    "               for op in ops do  \n",
    "                  select op.ReceivedCoins\n",
    "        }\n",
    "        \n",
    "let coins' = coins |> Seq.map (fun x-> x)\n",
    "\n",
    "//coins' |> List.toArray() |>  Util.Table"
   ]
  },
  {
   "cell_type": "code",
   "execution_count": null,
   "metadata": {},
   "outputs": [],
   "source": []
  },
  {
   "cell_type": "code",
   "execution_count": 9,
   "metadata": {},
   "outputs": [
    {
     "data": {
      "text/plain": [
       "[|75uy; 208uy; 55uy; 47uy; 197uy; 77uy; 18uy; 89uy; 0uy; 242uy; 6uy; 128uy; 6uy;\n",
       "  169uy; 110uy; 170uy; 113uy; 106uy; 73uy; 25uy; 229uy; 216uy; 66uy; 245uy;\n",
       "  197uy; 145uy; 194uy; 11uy; 33uy; 117uy; 98uy; 93uy|]\n"
      ]
     },
     "metadata": {},
     "output_type": "display_data"
    }
   ],
   "source": [
    "open System\n",
    "open System.IO\n",
    "open System.Security.Cryptography\n",
    "\n",
    "let  GetStream (s:string) =\n",
    "                let stream = new MemoryStream()\n",
    "                let writer = new StreamWriter(stream)\n",
    "                writer.Write(s)\n",
    "                writer.Flush()\n",
    "                stream.Position <- 0L\n",
    "                stream\n",
    "                \n",
    "//Print the byte array in a readable format.\n",
    "let ByteString (b:byte[]) = \n",
    "        let mutable i = 0\n",
    "        let mutable s:string = \"\"\n",
    "        for i = 0  to b.Length - 1 do\n",
    "            s <- s + String.Format(\"{0:X2}\", b.[i])\n",
    "            if (i % 4 = 3) then\n",
    "                s <- s+ \" \"\n",
    "        s    \n",
    "        \n",
    "let ByteToHex bytes = \n",
    "    bytes \n",
    "    |> Array.map (fun (x : byte) -> System.String.Format(\"{0:X2}\", x))\n",
    "    |> String.concat System.String.Empty\n",
    "\n",
    "let message = \"SF5128165575\"\n",
    "\n",
    "let Sha256 (doc:string) = \n",
    "    let sdoc = GetStream doc\n",
    "    let sh = new SHA256Managed()\n",
    "    sh.ComputeHash(sdoc)\n",
    "\n",
    "let hashValue = Sha256 message    \n",
    "\n",
    "printfn \"%A\" hashValue"
   ]
  },
  {
   "cell_type": "code",
   "execution_count": null,
   "metadata": {},
   "outputs": [],
   "source": []
  },
  {
   "cell_type": "code",
   "execution_count": 10,
   "metadata": {},
   "outputs": [
    {
     "data": {
      "text/plain": [
       "{\n",
       "  \"hash\": \"ddb1f4880ddfb37223a5fa9df56ee36c0edaaebbec30d204fe85f23c2883fd2b\",\n",
       "  \"ver\": 1,\n",
       "  \"vin_sz\": 1,\n",
       "  \"vout_sz\": 3,\n",
       "  \"lock_time\": 0,\n",
       "  \"size\": 268,\n",
       "  \"in\": [\n",
       "    {\n",
       "      \"prev_out\": {\n",
       "        \"hash\": \"516c43b617a6fa6dee5f3e9b34d99365b3b89d1381dc9aebcca1e8822c8cb5f4\",\n",
       "        \"n\": 0\n",
       "      },\n",
       "      \"scriptSig\": \"304402203bf9be3c02ff1734d0b1f5b071e82914dd5b4762958827b36d033daeb24a75c80220266f9ea4349acaa1efd24f304a09c626b546f16d624ffe7b6a7446d9815c5a3a01 0364dfe2fa8c584d9af693fca129f9c031e4108be2b6d31ac3f6846ef1ba7ecdc1\"\n",
       "    }\n",
       "  ],\n",
       "  \"out\": [\n",
       "    {\n",
       "      \"value\": \"0.54899000\",\n",
       "      \"scriptPubKey\": \"OP_DUP OP_HASH160 4fbd5152456bee3dc0ffe25118a6de17126e5c19 OP_EQUALVERIFY OP_CHECKSIG\"\n",
       "    },\n",
       "    {\n",
       "      \"value\": \"0.00001000\",\n",
       "      \"scriptPubKey\": \"OP_DUP OP_HASH160 8efb2874941ae0a85e2c94ee6b267e8ad70fb5cf OP_EQUALVERIFY OP_CHECKSIG\"\n",
       "    },\n",
       "    {\n",
       "      \"value\": \"0.00000000\",\n",
       "      \"scriptPubKey\": \"OP_RETURN 4bd0372fc54d125900f2068006a96eaa716a4919e5d842f5c591c20b2175625d\"\n",
       "    }\n",
       "  ]\n",
       "}\n"
      ]
     },
     "metadata": {},
     "output_type": "display_data"
    }
   ],
   "source": [
    "\n",
    " \n",
    "let mutable txBuilder = new TransactionBuilder() \n",
    "let mutable tx:Transaction = txBuilder\n",
    "                                .AddCoins(myCoins) \n",
    "                                .AddKeys(sender_bitcoinPrivateKey)\n",
    "                                .Send(dest_address, new Money(1000m, MoneyUnit.Satoshi))\n",
    "                                .SetChange(sender_address)\n",
    "                                .SendFees(new Money(0.001m, MoneyUnit.BTC))\n",
    "                                .Send(TxNullDataTemplate.Instance.GenerateScriptPubKey(hashValue), Money.Zero)\n",
    "                                .BuildTransaction(true)\n",
    "\n",
    "printfn \"%A\" tx"
   ]
  },
  {
   "cell_type": "code",
   "execution_count": null,
   "metadata": {},
   "outputs": [],
   "source": []
  },
  {
   "cell_type": "code",
   "execution_count": 11,
   "metadata": {},
   "outputs": [
    {
     "data": {
      "text/plain": [
       "true\n"
      ]
     },
     "metadata": {},
     "output_type": "display_data"
    }
   ],
   "source": [
    "let verify = txBuilder.Verify(tx)  //check fully signed\n",
    "printfn \"%A\" (verify)"
   ]
  },
  {
   "cell_type": "code",
   "execution_count": null,
   "metadata": {},
   "outputs": [],
   "source": []
  },
  {
   "cell_type": "markdown",
   "metadata": {},
   "source": [
    "[visualizza la transazione](https://live.blockcypher.com/btc-testnet/address/mtYy84R9Ezc6UxWGfHgMj4TmxXFqSy7SPf/)"
   ]
  },
  {
   "cell_type": "code",
   "execution_count": 13,
   "metadata": {},
   "outputs": [],
   "source": [
    "//printfn \"%A\" (tx.GetHash().ToString())\n"
   ]
  },
  {
   "cell_type": "code",
   "execution_count": 14,
   "metadata": {},
   "outputs": [],
   "source": [
    "//printfn \"%A\" (tx.Sign(sender_bitcoinPrivateKey,myCoins))"
   ]
  },
  {
   "cell_type": "code",
   "execution_count": null,
   "metadata": {},
   "outputs": [],
   "source": [
    "\"d5e087d429a1a42b3d42f5ce717621583988f8bf469f64afdff2c6060dab692b\""
   ]
  }
 ],
 "metadata": {
  "kernelspec": {
   "display_name": "F#",
   "language": "fsharp",
   "name": "ifsharp"
  },
  "language": "fsharp",
  "language_info": {
   "codemirror_mode": "",
   "file_extension": ".fs",
   "mimetype": "text/x-fsharp",
   "name": "fsharp",
   "nbconvert_exporter": "",
   "pygments_lexer": "",
   "version": "4.3.1.0"
  }
 },
 "nbformat": 4,
 "nbformat_minor": 2
}
