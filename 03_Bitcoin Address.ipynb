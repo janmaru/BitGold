{
 "cells": [
  {
   "cell_type": "code",
   "execution_count": 1,
   "metadata": {},
   "outputs": [],
   "source": [
    "#load \"Paket.fsx\"\n",
    "Paket.Package\n",
    "  [ \"NBitcoin.Mono -Version 3.0.0.47\"\n",
    "    \"FSharp.Data -Version 2.4.6\"\n",
    "    \"Newtonsoft.Json -Version 10.0.3\"\n",
    "  ]    \n",
    "#load \"Paket.Generated.Refs.fsx\"\n",
    "\n",
    "open System\n",
    "open NBitcoin\n",
    "open NBitcoin.Crypto   \n"
   ]
  },
  {
   "cell_type": "code",
   "execution_count": null,
   "metadata": {},
   "outputs": [],
   "source": []
  },
  {
   "cell_type": "code",
   "execution_count": 2,
   "metadata": {
    "scrolled": true
   },
   "outputs": [
    {
     "data": {
      "text/plain": [
       "NBitcoin.Key\n",
       "0396ac64cf4b5c39a6f52789a0a94c074fc418d00024d27929963342527d66ba54\n",
       "NBitcoin.Key\n",
       "020781887b892c8d3868dddca6835e08964bc8fa57610692cb017d0c272773d111\n"
      ]
     },
     "metadata": {},
     "output_type": "display_data"
    }
   ],
   "source": [
    "RandomUtils.Random <- (new UnsecureRandom():>IRandom)\n",
    "\n",
    "let sk1 = new Key()\n",
    "let pk1  = sk1.PubKey\n",
    "\n",
    "printfn \"%A\" sk1\n",
    "printfn \"%A\" pk1\n",
    "\n",
    "let sk2 = new Key()\n",
    "let pk2  = sk2.PubKey\n",
    "\n",
    "printfn \"%A\" sk2\n",
    "printfn \"%A\" pk2\n"
   ]
  },
  {
   "cell_type": "code",
   "execution_count": null,
   "metadata": {},
   "outputs": [],
   "source": []
  },
  {
   "cell_type": "code",
   "execution_count": 5,
   "metadata": {},
   "outputs": [
    {
     "data": {
      "text/plain": [
       "NBitcoin.Key\n",
       "0338bc43e84caf31762d44cd2484f2ac8c6a58bfe347f94651d912a45b8c04c4a0\n"
      ]
     },
     "metadata": {},
     "output_type": "display_data"
    }
   ],
   "source": [
    "RandomUtils.AddEntropy(\"devday napoli\")\n",
    "RandomUtils.AddEntropy(Array.init 10 (fun i -> byte(i*i)))\n",
    "\n",
    "let sk3 = new Key()\n",
    "let pk3  = sk3.PubKey\n",
    "\n",
    "printfn \"%A\" sk3\n",
    "printfn \"%A\" pk3\n",
    "printfn \"%A\" sk3."
   ]
  },
  {
   "cell_type": "code",
   "execution_count": null,
   "metadata": {},
   "outputs": [],
   "source": []
  },
  {
   "cell_type": "markdown",
   "metadata": {},
   "source": [
    "In Bitcoin, a **private key** is a 256-bit number, which can be represented one of several ways. \n",
    "Here is a private key in hexadecimal - 256 bits in hexadecimal is **32 bytes**, or **64 characters in the range 0-9 or A-F**."
   ]
  },
  {
   "cell_type": "code",
   "execution_count": 5,
   "metadata": {},
   "outputs": [],
   "source": [
    "type ISimpleWallet =\n",
    "     abstract member PrivateKey:  unit -> Key\n",
    "     abstract member PublicKey: Key-> PubKey\n",
    " \n",
    "type SimpleWallet() =\n",
    "     interface ISimpleWallet with\n",
    "        member this.PrivateKey(): Key = \n",
    "                (new Key())\n",
    "        member this.PublicKey (k:Key) = \n",
    "                if (k=null) then\n",
    "                  (new Key()).PubKey\n",
    "                else\n",
    "                  k.PubKey \n",
    "                  "
   ]
  },
  {
   "cell_type": "code",
   "execution_count": null,
   "metadata": {},
   "outputs": [],
   "source": []
  },
  {
   "cell_type": "code",
   "execution_count": 6,
   "metadata": {},
   "outputs": [
    {
     "data": {
      "text/plain": [
       "NBitcoin.Key\n",
       "02b0f7feb2d9c5a268c8928697e2c0420f37a3bbbc38e417dcff5f615eb0af3491\n",
       "02b0f7feb2d9c5a268c8928697e2c0420f37a3bbbc38e417dcff5f615eb0af3491\n"
      ]
     },
     "metadata": {},
     "output_type": "display_data"
    }
   ],
   "source": [
    "let sw = new SimpleWallet()\n",
    "let sk = (sw:>ISimpleWallet).PrivateKey()\n",
    "printfn \"%A\"  sk\n",
    "printfn \"%A\"  sk.PubKey\n",
    "printfn \"%A\"  ((sw:>ISimpleWallet).PublicKey(sk))"
   ]
  },
  {
   "cell_type": "code",
   "execution_count": 7,
   "metadata": {},
   "outputs": [],
   "source": [
    "type Wallet =\n",
    "    static member PrivateKey: Key = \n",
    "        (new Key())\n",
    "    static member PublicKey (k:Key) = \n",
    "        if (k=null) then\n",
    "          (new Key()).PubKey\n",
    "        else\n",
    "          k.PubKey "
   ]
  },
  {
   "cell_type": "code",
   "execution_count": 8,
   "metadata": {},
   "outputs": [
    {
     "data": {
      "text/plain": [
       "022050cece8e2a5b270eb9a1a192af8bb6f542ee7c45048c9905ac0ac3167308ea\n",
       "022050cece8e2a5b270eb9a1a192af8bb6f542ee7c45048c9905ac0ac3167308ea\n"
      ]
     },
     "metadata": {},
     "output_type": "display_data"
    }
   ],
   "source": [
    "let sk4 = Wallet.PrivateKey\n",
    "printfn \"%A\" sk4.PubKey\n",
    "printfn \"%A\" (Wallet.PublicKey sk4)"
   ]
  },
  {
   "cell_type": "code",
   "execution_count": 9,
   "metadata": {},
   "outputs": [
    {
     "data": {
      "text/plain": [
       "3\n",
       "<fun:clo@5>\n",
       "3\n"
      ]
     },
     "metadata": {},
     "output_type": "display_data"
    }
   ],
   "source": [
    "let a = 3\n",
    "let a'() = 3\n",
    "\n",
    "printfn \"%A\" a\n",
    "printfn \"%A\" a'\n",
    "printfn \"%A\" (a'())"
   ]
  },
  {
   "cell_type": "code",
   "execution_count": 10,
   "metadata": {},
   "outputs": [],
   "source": [
    "type Wallet with\n",
    "     static member BitcoinSecretMain (k:Key) = \n",
    "            if (k=null) then\n",
    "                Wallet.PrivateKey.GetBitcoinSecret(Network.Main)\n",
    "            else\n",
    "                k.GetBitcoinSecret(Network.Main)\n",
    "     static member BitcoinSecretTest (k:Key) = \n",
    "            if (k=null) then\n",
    "                Wallet.PrivateKey.GetBitcoinSecret(Network.TestNet)\n",
    "            else\n",
    "                k.GetBitcoinSecret(Network.TestNet)    \n",
    "     static member WifMain (k:Key) = \n",
    "            if (k=null) then\n",
    "                Wallet.PrivateKey.GetWif(Network.Main)\n",
    "            else\n",
    "                k.GetWif(Network.Main)\n",
    "     static member WifTest (k:Key) = \n",
    "            if (k=null) then\n",
    "                Wallet.PrivateKey.GetWif(Network.TestNet)\n",
    "            else\n",
    "                k.GetWif(Network.TestNet)"
   ]
  },
  {
   "cell_type": "markdown",
   "metadata": {},
   "source": [
    "![private key](data:image/jpeg;base64,iVBORw0KGgoAAAANSUhEUgAAAPcAAADiCAYAAACSl1F7AAAAAXNSR0IArs4c6QAAAARnQU1BAACx\n",
    "jwv8YQUAAAAJcEhZcwAADsMAAA7DAcdvqGQAAF6fSURBVHhe7b1nmBbXle97P53P9/t5nnnuc2bO\n",
    "eMZhZhxHDuM0Y1u2x2kcZVmycpbIIEQUAiEJEEIgQASRc845NjTQ0DShySJn6Jwj/7t+u97VXbxu\n",
    "EJJoOqgWrK6qXbt27aq3fnutHWrX/6NE7lxu3DCtk+prbbVO9bZZa8GobVmYrQWts/UbUXSUQz0m\n",
    "xxOYSCLNLAncH0cCpUBbbyjXN4CNGrIRs7bPYtheKwNiyjHsC5ESthO5B5LA/TElArc+wPw3cDfo\n",
    "DdtGo/AIbv4kcCdy7ySB+2MKXAJrHOxaC8RFd27BPw43YakdjZpIIs0sCdwfUyLLHbPMBmpklVMr\n",
    "pnG4g9W2f4F+V/ufSCLNLQncH1sgE2TdxXY1lFMa4R+QDhri1tu+oMQNgYkk0qySwP0JJGoJN4jr\n",
    "zSm/URNTti3c9tcHhWXiGuz1NbYkDtuRNqaV0J7I3ZcE7k8gAV66w+qrjd4q00oLrLZwusjqzUCz\n",
    "39xyDLYt681i11vceoPbUL4JaF/37UQSuVuSwP0xBQSDBiDNEhvYN1DVGLx1BnQEd7znq67Owtln\n",
    "/xod9kgSuBNpLkng/pgCg6HaHICkfl1r4Naq1tZrLIwGNuM7gF1fi+tuOFu42fSgoUYejo1gdrB9\n",
    "O5FE7pYkcH9MgcHgbgOxbdQZxbWmVQZxddg2eM1S36irVWneVR3Ys0tXLpxVTW1N2Bf2myZAJ9Lc\n",
    "ksD9MQUco8YyA9UIr0UtzJW6eE15kY7uzdTyWeM1fugATR/3rnbv2KaystIGoNPhTmBP5G5LAvfH\n",
    "koC2gc24chxsLLFBbZY8LGtqdO7kUa1ZMFXT3umr2e/21tYF72vO+2/p3Tde1cypk24JeAJ3Indb\n",
    "PtNwg1K6xuXmMNbox6ZLi5ZxGtNqzVLXq8789GuXL2v9ymWaMmaopgzvoy1zRujM9rk6vX2+1k5/\n",
    "R92ffED/c/8PdeXi+dDA5jAnUCfSXNIm4XboonrvzWr/g9ywjUjpY/ZQC3eY7L+hepMGxsIf2rSx\n",
    "0JFVDsHhb6o/u960LlqWFxcqO3OrZo4fqcnDB2rl1Hd0ZMscnd+9RHuWj9O4gS/ora5/1YTB3fTH\n",
    "n3xLp48dVElxcUM+0jWRRO6WtF24DYRas4AAWGc+ca0p6yiMNMJt4Q3a2HpNHID2urLDHcWnD9us\n",
    "sm3XpOLV3zDY66ssTrXq66pVV1WhU4f3a/4HozV52KtaPnGYDqyZofM7l+jY5hla8n4/Den2kEa/\n",
    "+pxWTHpDx7bM05O//p6OH9itq1eupPLQCHR8PZFE7oa0WbccEOrqaq2ei2scNW5R70VhJEBqK2Z4\n",
    "Uy92AHoErf0JBYThav/oe04Bj5WOw21xSM9OkYK7xs5Zaa71Ga2YP00Th/XXojGDlL3ofZ3fvkAX\n",
    "di5WxryRGtnrUb3T7c9aNKKrjq6eoIuZ83Rx13I9/qsf6PjBbF26eLEBZtdEErnb0kbhjtC8YZa4\n",
    "rrbGLCn1XlquIxjNOKcgjYCvSYUHsM3qEgGeGtu5zTYTAM0BtjrV1jKiLPIIzEGwsHqVlORr4/pl\n",
    "enfoq5o2eqAyFozR2W1zVZC9xCCeqCmDXtDgF3+vmW91VM6CYbqyeaKKM2eocKfBvWOZHv/1j3U8\n",
    "d58uXDhv6d0Mt2siidwtabNwhwEkBnYAHPcckAPQuN4RxCxp7KpJQc4xEdym1J1Nsdt2RMqykzRp\n",
    "Y6Fxy6M0a6qqdGRftj4Y9aYmDu+nNbNH6UjGXF3eu1zndizQ2omDNLTjnzTWLPaWSQN0ccM4Veyc\n",
    "rLJtE1ScMUX5O+bqXOZSPWZwHzuY0wB3uJJwvkZNJJG7JW0b7jparlMWGrBDWKXKCy7r0omDOnf8\n",
    "oK5dPKeqygqMdXCtQ2MY48FvoAZ/zH4HtvhjcDNOvLa2zlzoC5o9eaLeGdBDK6cM15GNswLUl/cs\n",
    "VfaSMRrT60kN6figlozuryNmvQu2T1P59omq3va+KrePV+nOGbqaOV9bZr2nwS+/pJNHDury5cuh\n",
    "QEokkeaUtgl3sHJYa6wuLjeuc51qKoq1c90ivdH9GQ3r+aze6vmC+nd7QW8N7KddmdtDHzOWPXp7\n",
    "y+rV1KOx2pZGymhHadMKXlqgVUsXaWDvbpo9dpgOrDaody1WgYF9cvNsTR/cUf0e+6mmDXpJ+5aM\n",
    "08Xt85Rv7nfxjukqz5xkgI9X5a7J5pLP1IXMBRrU6VGtXzZHF898qMLCwpDfxFon0pzSJuGOoDAw\n",
    "bWl2OMBdXVGq3ZuWa+rQV7R9/hjlrJisvatmKHPFTM18f7he6ficJowZpauXL1oCFAlgzT/bdCVN\n",
    "c9sPZG3TwJc7atI7g5S5fIbO7FihvL2rdW3nQu2YOVRDXvyTRnR9WNtnDNPZTVanzlqo/MxZKtox\n",
    "M8BdtnO6SndMsfWpKsiap/VT39TQfh11LHevrtn5q8zNd7gpoBJJpDmkDcMdNaDRVVVVWamcbes0\n",
    "+a2eOrRqkq7sWqQre1bowLqZGv7K03rqf36oB3/6bT3w8x/omUf+rJ1b1qmyvDi46bjj1ZYOLeqM\n",
    "AR895DW93fM5ZS0wa2wWtzBnlfKyV+johhka3ftJ9X7sF1r4bl+d3DhT13fMN6BnG8gzTWcELTK4\n",
    "S3bNCha7YJdZ6mC1H9baZVbvPn8qWO2ampoAtV9HIok0h7RRuKk/Y7GlSrOCe7Zv1rjBBvbqKSrM\n",
    "Xqz8vUv04ZbZGjfgRY0f2CFY8SMbZuvIpgVaN2e83uzdSdmZm1VdVaHaunpLo0Zz5s5Ut2cf1Yop\n",
    "I3Q2Y6GK9y5V2b5lum6u9qqxfdTlTz/QmL7PaP+qqTq3bYHydhn4u2ar3EAu3zFNpZmTVYbVBuzM\n",
    "mcrbMUdXspZo7dThGjHwZR3av0eXrl5RpRVEcZc8gTuR5pK2C7dZW5zqY4cPaEjfztq/eqoKDcii\n",
    "7AVWx52rCYM6aOxrHXRqx1Ll7V+l4n0rVHZgla5mr9TBzYv0avfndShnp7asXamXnv6rxg/rp6MG\n",
    "df6+VSrav1pFtsxZOl6vPf0b9Xr0fmXMHq6zW+coL8ug3j1HpbtnqXSX1a+zZhjQBvdOU3PDS7ZP\n",
    "te25KtyzTHtXTFffDk9pzfIlOnvqtIoKi/8G7ATuRJpL2jDc9Sq6fkVLZ03SjBH9dS17mQqyFypv\n",
    "9wLNGdZVI/o8rSNbF+ragbUqOrBSZTmLVLZnnsr3L9f1g2u1YMIQ9XnxMb3Zs4Oy1y/QlYOblH9g\n",
    "tUpzV+vqrqWaPqijnvnVtzV3RG+d27FI13YvNqgXBne7ZNcUlez8wOrUk1S8c4rKds80nWVhplnz\n",
    "dXHzLC15b5D6v/Skls+do3Onz+ryxSuqqqhuqGOnw52AnsjdlrYHtz3/QFBn9dZjOVnq9+JfdWrb\n",
    "fBWY1S7Yu1hrJwzQmD5Paa+56Hm561V4cI2Kcpao6sBS1exbrPI9CyzeMl3eu0Ld//IzLXv/DV3J\n",
    "Waf8Q5tD/E0zhumhH/6rBjz9O53dvkiXdi7S9T0G9Z75Ktk9zwqI2Qb3NBVnmZXebUsDHc0zl/y6\n",
    "wZ+9bJLe7Pac3hnQR7m7d+jyqVPKu3hJtdXUsxuBjmu4rNh6IoncDWmDcBsEZv0Krl/VvA/e0+Kx\n",
    "ryl//0oV5CxV1oJ3Nar349owfYgKc9eqcP8Kc8eXqMLALjGrXrbXrPf+JSrOsXq5Af9ez8c14dUO\n",
    "urBntXI3zNHwno/p6V/epx3zRutq1nIVmGtdZGCX7p2vYrPMxTtnG8gGd9ZMs+AzrM49PYQXZM3R\n",
    "6a2zNH14X/Xt/JxWLLKqwekzun7xsmpKSlVv9WwmcKB1H7vtCCdAJ9Kc0krg5gG/w4fcYKirrdYB\n",
    "s4q9X/irLmUtU75Z7Uu7FmnO8J4a/erzysO9PrBMVfsWqCpnnir2LVSRWfWSfStVagVB2b5Ftr5Y\n",
    "22ePVN+n/6jRA7rqsd98T6P6Pq1rZtULzQUv37NUpVnmxmfPVUGmWWkDumLvPAuba1bbPIUdBrtZ\n",
    "8ktWv8+YN0pv9HxBI4e/pf37c3Xp8nUV5Reata6WZdbyXKfKmmrVOtwJ1IncA2kxuB1ne8zDw58a\n",
    "+9kYngKgQT2Munbhdc2aOFrzxgxWyQFzuw3aHfPf05h+z2nH4vdVcGCVyg4sDmBXGZwVZr1LDqyw\n",
    "eGbJc5ZZ/Xuhyq0Ofn33Mr380M/U75k/KGf1VF3NXq7i7CUq3T1fFQZuBQ1nBnV5dmStS7Jmq2DX\n",
    "XKvXWx08a5GOrJms6W+/osEG9toVi3Xm3HldzitSWVX0RtkNs9YONyPhot71xmtLJJHmlBaBuwFg\n",
    "NIAdAQDCjeEAwMshjCRjaCndXzdUaxbw/OkT6t/pSR3bYvXgnOU6mzFXU4eZ1e77nLnia0KjWOmB\n",
    "5arcv9is7QKDeamBbeCalhno5QZ3hWkZ1nyvuelm+dGS7MUqtbo11rnCXPHS3bODlu2Za2Cbpbbw\n",
    "PIP/9K4lWjf3PQ3r86Imj3xDxw7uUf61qyouK1NlbV3qVRSstI9/s8w3XJhpIoncA2n1cGPrWGdS\n",
    "QpbVFRXK3LBCQ3o+o+v7zGqbG71r3rt6s9sj2r18olns1SqxunaJwV1qdesKA7hi//LIcls9mzo3\n",
    "VhvAy/ca5NkLTM1Sp7TM4A5q4aW2TSNaKWpgF+6ao/Pmhi+ePESv93pRW1YvVN7FMyouLFBVZVUo\n",
    "fOh7B25eGE29khJdUcOFmSaSyD2Qloebh9/hBmgPT8EdaSPcxUX5GjtsoFZMGW7u9zpd2bFIc4d1\n",
    "1dBuD6vg0Hqz2Ga1gXvfMlVYvbvGIK/YZ1bZQC8FbNNSgxzwy0zLDeLybHPBg5q1xnLvWWDu+QIV\n",
    "2Tpasmeeynab9Ta4c1dN1Ng3e2rzKotz7YJqysss64Zxbb1qTYG70Wqb1+HOuOW94eISSeQeSCuo\n",
    "c2PZgBsA4uH84eWQGPRW375y6Zy6PfuwueQMOFmrEwwL7fW4Zg7rpqLcdSo7uEblVucuP7jSlstU\n",
    "SWu5AV1iVhqwyw30UleAx20PgEcK2GhJ9iIVZs0LcBcDu8GdlzlLqye8rjFv9dWVsx9GYBvQ9TV2\n",
    "FbWmDQxH7ngCdyItKS0Od9TE1ATc4U8j3KG+XVurI/v2qMfTD6ogd6MKD6zR7sXjNPD532r3otEq\n",
    "MrCjBjYaz5Ya3FbHxjqjKasdwW2WG8WC710UNHSToSnAS7Da5o5jwQttu2D3Qh1dNUHjXuusTSsW\n",
    "qcRcccC+wUwQ/DeGaT8L+Q7XBNQ46Cm4U1ebSCL3SloJ3NHD72FBw5+IFtaBu7KyXCvnz9J7A7up\n",
    "4OA6Xd2zTKsmDTG4fxf6uosN7uLc9Sox97z44Cpz0Vea1V5hEBu0+xZGjWnmrofRakFpUFus4tCo\n",
    "FoFOfbvcrHRp1myrk5tLnr0wjFe/sHOhVk96S2Pe6KUr505ZXqyObdkOWUQbLyO1EdW8E7gTaSlp\n",
    "xXDbX6MmstoR3GWlRRo+sLfWzRodRp6d2jpXY82Sjuj1pFnt1Qb2Wp3NXKI9S8fpxKbpwYKX7ltu\n",
    "FpuXQMzaBsiXhpbyytCKTpjBnbM0dJEBevmeuarMmqXK3TNCNxp92fl7VyhnzQwrVF7WplXmyhcX\n",
    "RgWOZTssjV80uhTyzUoCdyItK60W7hBmcIcP6xlBQE7/dqcn/qzDW6wObHAfXDNVr3b4q5ZOeEvF\n",
    "h6z+vXmWZr7dS290/LM+eO05HVj+vopyaDU3uPcvNo3q2uU5C1SZPc/ccN7+WpSCe6nBbfXuPXNU\n",
    "tXumqrNnmQWfYy75Qp3fuVxLpozS8MGv6vKFc6qsqmzMdTzTbASwAToOd/q1JZJI80uLwd0oESY8\n",
    "/o0Pv/1N+bvAHUZ22fLSudN69oH/1tX9G1Swf7Uy5o5Sj6f+pKPbluninqWa+24vdXvk1xo/qJNG\n",
    "9XpM4/s/pQ/XTzfrvCzUsWlBLzUtN4iBuyIFd4mBHerfoTvMLHf2HFNzza2ufT17pbYvmaLhg/po\n",
    "w7q1KiwujmEby3WTYCdwJ9Jy0krgTn/4LSzVPQb2YTKFujrt3Zmhvi88rILcTbqye7kWjX1NPZ/9\n",
    "sy4f2qbMhWP0ZueH9XbvF7V25ijbHq23u/xFaya8Hoad0nIO5Gi5gUzLeIWBTWNbiVlnWsdpTCuj\n",
    "O8zq2cVWz2ZwzMpJb2vc269p2qRxunDposqrawxZbwcnd8DrUDcNNnLz9SWSSPNLK4A7kpsf/ka4\n",
    "sdrAzewlq5fM1ah+HVSYuzFM/j/lre7mlj+qU3vWaf7oVzWkx5OaOKSPFox7QwfWTtPQzg9q0bt9\n",
    "VGxWHotdtn9F0FKGoNKAZkCXmvUG7mIDOjSu2b687OXaNvc9TR7SSxOHD9QqO+/ZMydVVlGeQrgR\n",
    "bDC/GWhXhz66opuvL5FEml9aEG4e/Fs9/BHcDD3lm9cB8OoqzZ38vqYP66WCg+t1avtCjXn1eQ3v\n",
    "9Zz2b5yviW921+S3+2ni0H5a+sEw5a6fEeCeP6KXipiswcClvl3GaDXg3hfVxalTE1aQvVT5Oavs\n",
    "uOjtrvFD+2vB1HE6nJOlovxrqrHz11l+wvRI4Z/D7RY7rn5d0dUgN19fIok0v7QKuHng40g43Lz9\n",
    "BdgokwpOHDkkfOGjMHe9TmQs0PCeT2jSm920Y+lkvdP3Bc0bPyy0aG9ZMF65Kcu9cGQfFfI2GN1g\n",
    "tJqHlvNl4QWREgO8IGe58vau0IWs5Voy/i29N6inZowboR1bN+j6lYuqKCsNBUv4CkkocCynlp8o\n",
    "p34Nrh4eXUUiibSktG6466x+ayBhvauqKjXqzVe1etIQFR3aoGOb52pwp79o4ah+2rZwnN7q+azm\n",
    "TXhbI/p1Ve6m+dq1aLSGdHxAqycMNrhxx+njpo69SBVW56ZOXWIW+8qeZdoyd4zGvv6yJowYpLVL\n",
    "5+ucueCl5WWqrK4O+QrdcVjtumiu8wZ+gbwBdLRx7eZQpPF6E0nkXkgLwt34+PO34dEPQcBNH3dd\n",
    "ADvAXVmudwf31bqpw1WQu0G5G2ap3zO/De9kbze4+3V4RBOG9ddk0wvZa7RywgC90+1BZS8aa3Vu\n",
    "LDdjyXkbbIEqbL3EAD+4YrzeeeWpYO2XzJqk3P17VFRUoHLzEqjnowFu/tG4B9wGeSrbjRqT9F2N\n",
    "uxuuMGwlkkhzS6toUHMD6OorfO8rvIhh9dyqyjKNGTpASycN0/VDm7V39XT1+OvPdXLTXO1c8oG6\n",
    "PfOA3unfWVnLp+ncruWa9PoLmjboOV3JnK/ifVbnBvCcxarkbTBz0RngMnN4b737Wg9tW7/SXPBL\n",
    "Ki0tUU1tjZ2T7jcFbcSRPPG1kk8K99+GJJJIc0qLwd3wqIc/hlCDWoD9D6PSfNPqudWVxZr83hDN\n",
    "HjtYVw9v155VM9T5wR/r8u6Vyl0/R4O6Pamxg7rpcvZaZcwZqfd6PabMmW+Ztbb6tYFcEOrdSw3s\n",
    "xba9VNdyVoX517asXqrrV6+qosqqAGEqpKgFPGowC1kJGv4GlxwF+UQSad3SquHGaoNRcM8N7mVz\n",
    "PtDowT115Uimdq+eoe6P/EyH1s/QlZw1WjFpqLo89Av1fOx/9FbHh7R+4mBd27FAzHZaSgv5/mUq\n",
    "PbA0zKnG3GqHNs5U/45PKHfPTpWUlKrKThZGjgZH/BZwp/ZFuUokkdYtrRJuwtLhrqst177MDer1\n",
    "0qO6dDhT2etmqvtjP9OWeSNVdHiTLmYtV8bcsVo+YZhylk7S1Z20jq8M3VwMVAnjyM1qFx1YrvyD\n",
    "azR3zGsaP3ygzp44El4C4Uug4Zx1fKAogTuRti+tBG7743AHqPgXoRTBbWF11bp+/qSef+QPOpm9\n",
    "SfvXz1bXh+/XErPQeYc2qvjQJoN2va6aFS8wl7s0tJBjtXkLjPe2Fwa4Cw+sVF7uRg3s+qRWLZyp\n",
    "axfPh1dJaZXnXA53BHgqa6w05CiBO5G2Ia0EbjQCO4KbeUwaJykKE/nX16ikKE/9ur2krctm6vCG\n",
    "ORr80p80YXBXg3urinI3mK41XRWmWIrccatvH1iWmrRhaXj9s+jAamWtnKY3+nRUbvZO5V+7Fr4C\n",
    "wnnCkgazFNxBPH/hD3CjISCRRFq1tBzcxkdkEdlAbw83M4nSHbZ03myrd/fWhV0r9MGAF/V6p4cb\n",
    "4C7OXa3igwZxLhM1LAn1a+Bm4ApwV5rVLjqwRu/276j5Myfo/JmT4cP60be9U+ehRdzhDt6ErYZ8\n",
    "8sfzmEgirV9aDO5GaFwcnJvhZu608MonANrG2ZMn9NxDv9fZzOVaMW6Qej31W109YG557joDeYVK\n",
    "DwKz1bH3LVKZrZccjN7nrjItt/0nNs/RgG7PKDNjg/LzzGrXRNMQ15pBZrAKo9D+Bu4gCdyJtC1p\n",
    "Obj/RhycCG5q3QFuA66WljX+G4WFefl6943+Wj93jHau+EA9n/ytNs4YblAzV/kqleeuCXVtvjJS\n",
    "bmCXGtBMlMh2se2fOryXZnwwUocP7Q9f3KynldzAbuh2u+H16nTLzYJ/CdyJtA1pdXBHYJvdNrCw\n",
    "2K5YVWYXrTY3eufW9XqtxzPav2WJxg7uoXd6Pq4yc8mBu4x5y3MimCv4ACDAG+AlB1fo6NZ5GtTz\n",
    "BW3dtEYFhfmq5vtdKbgBG7c86ucmIBXYAHcENppIIm1BWhHckThLkYvcqNFH9KLwgvxrGvvuUM2b\n",
    "Mlar5k5W/xf/osPrpwXLDNDVuStUmbsserXz4FoVH1qvi/vXadyw/po7Y5JOfnhMJaVlAWZOFgw0\n",
    "ynk4Xzh/PDOm9ieBO5G2JC0I903k3LTVoICW0jqrb/t6dXW1Dh7IUdcOL2iRwTry9Vc0ZlAnFRxY\n",
    "Y275SgN7hS2pf69SyaFNurBvo2a8/7Ymvz9Khw7s1/W866quqbG07CRAjZEOcNMWHuEbEI5nxv4k\n",
    "cCfSlqQF4XaEAjnhbwNHLI200HqNxaYxzdbDh+ttHw1g1VXVytmzVwNe6aFOzz6m7i88qu1LJ6nI\n",
    "gC4+uFJFh9eFjxSc3rVK08a8rUkTx+nwwVzlXTOwccdD+lHafmJWw5hy26Tm3ZChoAncibQtaWG4\n",
    "IzsJNjGGwkqd1YUdPL7oEVlvxn7b0g4Nu2yl4NoVzZs5VU/89QH17PCYdqycpuM7luvo9mXauXKm\n",
    "xr7ZWx+MeVcHDhjY1wtUWVEZCooavg5Sa+f3xExJ2+FGPS9hxUx7AncibUlaGG5GgQH438KNq0xj\n",
    "F4DTXYUEwA2yiEf2EalKdVVlOnxgnwb0660Xn3tKr3R5Sa90eFZ9ujyvhTMn6cyHRw3sa6qooJ5N\n",
    "11fUWEd6VmIwh5MtowLEwf4buFNgJ3An0lakReH2b4EBG2AFhFgCk/2vq7Fwt6wmDjfLyE2n3mxa\n",
    "j9aHuviZM+e0c8dO7d29S6dPHFHelYsqKsxTDd/K5lxxuIPFtvRJ05ZxuHHLw1n5Q34c7tT5wy7S\n",
    "aGI9kURag7Qg3HAFbJECRgQsQ0Abtx2a9PVGNcuPpsI5vq621tzvclWUl1ndnL7sUINuON6VQiPU\n",
    "560AiacPorfCNH58/BjPD+uJJNIapEXhdigcaF7gcEjiSrzQmJYGUgA5LZzteNosfTuu8eM4b3zf\n",
    "nQjx4nnzPMXPmUgiLSmtwnI7HHFgXH0fkh6evp5+LOqSHsZUycS/3TFNSXpczh0/v6eXHjeRRO61\n",
    "tBjc/tCnw5UOChq3rGz78X5sPK6HxdXj+3p6fFc/9+3E00E5Jr4e306Pm0gi91paDO50MNJBiO9r\n",
    "ChoPwwKXlpY2uPTp8Xw9Lp6mq8fxQuR2wn4/hnMz5bKHsU6jXjzNRBJpKWlRuOOK1XQoNm/erOnT\n",
    "p2vSpEmaOnWqtm3bFsJdieswnz9/XvPmzdORI0caLC+KxI+JS/yc6OHDhwOUxCP8dkIcjikrK9Ou\n",
    "XbuCcszVq1e1ZMkS5eTkBMjjeUk/fyKJ3AtpUbfcAYsvCX/yySf1zDPPqE+fPnrllVf0m9/8Rnv2\n",
    "7An743HRCxcuaObMmdq9e3cDoA6Tr/u2S3o6Xbp00bFjxxrCbyekRZxr167p7bff1ogRI1RYWBgK\n",
    "oRdffFHr169XSUlJk4108fVEEmluaXHLHQfA9aGHHtKiRYt0/fr1oF/96lf15ptvBmiwlJmZmVq2\n",
    "bJmWLl2qs2fPasWKFQH+7OzssPR0AHbr1q3Bqh49elRz584NBcHs2bMDnJyfY//hH/5BL7/8cthH\n",
    "GGBu375dkydP1oIFC4I1RkjT802awI2uXr1anTp1CulfvHgxVBOw7Bs2bAjnmjNnjk6fPh3SJS7X\n",
    "4JYdK4/F9zwnksjdklYBd9wSs/3ggw8GuPPz8wMQX//61zV48GBdunRJAwcO1F/+8hd169ZNEydO\n",
    "DPA+8sgjASLgxNJfuXIlpIVb37dv3wD54sWLNWzYsADs888/rwkTJqigoEBTpkzR//k//yek8cYb\n",
    "b6i8vDwUHk8//bRGjx4dztG9e/eGQsPzSeEwfPjw4GVQMIwZM0ZnzpxRcXFxqIuT/549e4bzvP76\n",
    "6yFfFAjvvPNOSNvbCbD0jz32WDgmgTuRuykt7pa7su3dU8ALzAsXLgwwADfAUb8Gkh/96EcBCqw2\n",
    "9fNf//rXmjFjRrDmwLZq1aoAeO/evYPFv3z5crDcJ0+eVFFRkd577z394Q9/CHVtgPvmN78ZCgK2\n",
    "Af7ZZ5/Vq6++Go7D4gIvVYR445m75f/xH/8R8otFBmzisA+Ax48fHwqk48eP6xe/+IU2btyoQ4cO\n",
    "6Rvf+IZyc3PDZBGPPvqohgwZEo4F9kQSuVvSYnAjcbBZ8nCzxHJT537ttdeCdcQq5+XlBRAB9o9/\n",
    "/GNw17GyuM+/+tWvQp0XcLDUb731VoD/hRde0KxZswI4FA4UFFhvYPzOd76jrKyscE4ApSCh7oxF\n",
    "ZR/nJx3Ae+mll4L1pmBwd9rhxuI/99xzIR71f/ZTiDzwwAPq0KFDON+oUaP005/+NLjfVC1++9vf\n",
    "hmPPnTun++67LxQqnnYiidwtaTV17vg68I0cOVIZGRk6depUAALogBS4f/e73wWXHRh27NgRLPe0\n",
    "adOC1QXyjh07BkuLxd27d2+ACIuP2411pwHt+9//fjiWRrjvfve7wY3mPFhetolDGPGXL18eWuyB\n",
    "3/PtcONy07IP5PPnzw/W2OFmH8ejFB606JMGef3hD3+ocePGhYIKsKmjk24iidwtaXG33IFG3Sr+\n",
    "+c9/DmABENYZ68o+4APu3//+9w31cRqnaE0HaiDBklOHBVAsNfGoc+P+AiGuPFYYa71z585QFcBS\n",
    "E5d4wE59HlipBlCo4FafOHHipi4uh3vo0KEhTZa44hQY5JPqQf/+/YM1J00KKgof1vE6Pve5z+m/\n",
    "/uu/Auhscy2km0gid0ta3C3ngXZr6Nq1a1etXbv2JjcYxbrRoIa7CyjE3bdvn5566qngugMV0FHP\n",
    "xppjLQlDcY3pqqKRa8CAAXr44YdD6zpwAyauMukCGRaWRjfq3sTFAsdb4TkvhQaNc1hf0sc7GDRo\n",
    "UCgkAHrTpk3Bg/DzUYenasHxXBOFzT/+4z8GK49HQlgiidxNaVG447CwBCzWsZI0RAF3PA77P/zw\n",
    "w1BHBS7CAYNtGr68BRqLC4y49O7u0jhGHRsLun///gA2EAI3dXnq5Fu2bAmFBhYaa00DGGEch3Wu\n",
    "qKhoyAvH0Wjn5wVOzku9n/QAnkKC85EG56PgwXJzPIUHgJMG6RJG2okkcrekReFGHN74Ogos7qqm\n",
    "q8MVDyM+Gt8mTlNhKGl7GghpArXDRzj7qUN73HhaLoSln4P4noYfG18STkMaLf0A31S6iSTyaaXF\n",
    "4W4pAT40HU5XhxO9m+JpM+CFurZ7J56HRBK5W/KZhdvBddgcLIcsDjfrdxN20qKhkCqDW/K7lXYi\n",
    "ibh8JuF2kOLAxsNc43Hj+mkkXnhQBfA0WU8kkbspn3m4m3LJXdmHxo9BP43E04mf38+TSCJ3Sz6T\n",
    "cMeBBjCW8XAkvs/X7yaAfi5PlyWaSCJ3Sz4V3P7gt0WlZdxbtVk6YCxdfdtb0NGm0vokGk+L9fS6\n",
    "d6KfTb2b8pm03LxEwhtkY8eODS93xJfvv/9+0HgYcRm9Buh3S+JwJ5JIc8hnEm7e4GJ8+ve+970w\n",
    "xvyjlNFrK1euTB2dSCJtQxK4m4A5XRO4E2mLksDdBMzpmsCdSFuUBO4mYE7XBO5E2qIkcDcBc7om\n",
    "cCfSFiWBuwmY0zWBO5G2KAncTcCcrgncibRFafdwxwcIeJ8yEyjG4U5f+rpvO9zpabm6pG8nkkhL\n",
    "SruE2yGLjyqLr2O5maopDvIPfvCDJuFG/+d//qcB7vT0fDu+L5FEWoO0S7jj4DGqLB2+NWvWBGsc\n",
    "hzkONPOv+b47gTuuiSTSWqTdWm5AY4n6OHHfxi0H7qbATocbJS4zoLp4OnGgfZ3wRBJpDdJu69xx\n",
    "+IDbLTjb7pY7zLjkzIYK1A66u+nMjEr93OF2sH09DnQCdyKtSdqt5WbSQSZTZGJC/4YYS+Yx52UQ\n",
    "Zkd1Cx2Hm22WDjfhTJ3M54I4FuXbYSxJj4kUmVElHfREEmlpaddwY6H5MAFfHkGZcRTliyb/+Z//\n",
    "GQAG5DjkLLHeHsY6cfnIgKfBkmmSmf+cjxEy0ylgJ3An0pqk3brlCFMk83khvi3m7jbL+DoQx7dZ\n",
    "pmtT4T/+8Y/DV03i3wVP4E6kNUm7rnMzAQLuON/6wvqmQ+3r8XBf9+340pVPAfHJXtzzONgJ3Im0\n",
    "JmnXcKPMuMJ3svnCiMPpsLob7q651709zOO7upXnI4F8Noi0HegE7ERam7RruN2aUifmA/h8dA9I\n",
    "HW5awuMWPL4EdIedMIf/oYce0rp168LUxJ6+g+3LRBJpDdJuG9TiCnR8fojveP385z9vANVhxs0m\n",
    "zEF2mNnvoLPkm97z5s0LnzDydONwuyaSSGuQdg+3D2BB+ZYXX968//77A7woIGPBWTrsHu5hbNN1\n",
    "xof//OOErvFzuSaSSGuQdgs3MDuADjfrtG7zsXy3xvFlU4Cz/NnPfhY+ou8fHyQtX7r6eRO4E2kt\n",
    "0q7hdggdcNZpQee73NSdgRdX3AH3xjTU4aYbjc/v8sE+TyM9fV/38ySSSGuQdg13OoQOH/OQ83F/\n",
    "Rp4BcdxaO9xsAz1dXnzq19NIV9L0dD1OIom0BmnXde7brfNp3tGjRweX24GOgw3ofD+bb3wDrx/r\n",
    "x7vEw9P3JZJIS0q7hPujxC0sXWS9e/cOrjeNag43FpvXPPmov3/Dm2P8qyCJJNIW5DMJt1tZgL10\n",
    "6ZIef/xx/dd//VcD2AwtpV7uhYDHdU0kkbYgnwpuf/DbuvJ5IV7rxHozTHXZsmU37Y9/xysOfKKJ\n",
    "3m29m/KZtNzxOrS73Vu2bNEvfvELTZkypeEmexwUwBNJpC3JZ9otT1fGi8ddb8LSLXUiibQVSSy3\n",
    "WW633q4OtIPu68RLJJG2Ip9JuF0cZheHHmHp2w54Iom0JflMw51IIu1ZErgTSaSdSgJ3Iom0U0ng\n",
    "TiSRdioJ3Ikk0k4lgTuRRNqptEO46bJq7LbyraCxjdhq0Ab5mwCXxti3jHKTNMZPJJGWkLYJd4oZ\n",
    "YHV8GpFjdFldKuRGwxZa3xg5hId9rJsSHP74jlRYpL6jztbqbI10LfRG1P8d4hCfFZcbdsag7GA7\n",
    "pp9RCfcqdZN8/EBc4vuR9O2WEB/j4Jq+3ZqlXcEdUA5A1YYlIUDNuDI0DjdQo7WmAW7TsBI0ikNQ\n",
    "pPwlpVpbqw141wewGeQC5tHx8fxEeag2bQTc43wWxcFwZYBQOiiuHj++3VLieYwv4/luzdKm4VYA\n",
    "KwIOsMPNBs46ozM1uozXPQyxADcwh9+DpcW7QZx61GLVmbIefrQoXipqCIsCYuczeAPcnNdOZ4eG\n",
    "KBQBKPt1o9K0ytQeZNsZvIRUmp8l4f7Fh/yyHlcPR9PhYX98+16r5yf+ZmA8T61Z2iTc3NPovoJK\n",
    "lcFSHUFGGEEps8zNB2633AE60/AnWGgLqbc9dYZ/PVa2xg7DLjfGbYgf1P4Ea11th9txUG1hYRGt\n",
    "huM4ZzhzgButCUUChQxphzQ/Q+KQOBy+7pCgcWCaittSmp4/V9/fmqVtwt2goAK2lKrccB4kU4JT\n",
    "FAVDHmKwxNJafPtx2BGsd6ASEEmnJkBrP2UqfqSkEZ0wShyrXB8g5/hUhOAB2ANg+6NjSYU4vJRS\n",
    "G+DmDKlsfebEYUAdEITl9evXtX//fmVmZgZlogze0ENZb2klH7t27dLly5cbwAZ2lq1Z2ijc/LOb\n",
    "HBTgInWQg/vLfU8pu9mO8DI3OVhsOzKoradc6Bt15RbXVJWWMpBHENe7215nx5uVv1Fv3gJw8wN7\n",
    "uMUJLr7BTR4AHLUQS4d/LC2aKdn6LIkD7TDEAb969aqmTZsWvpzKjDhPPPGEnnzyyYb1p556Kmy3\n",
    "pD722GN69tlnNWPGDF28ePFvrqe1StuGO1jREBCWAGw4mmIzI9AaiApURc5xvdXJAVu1Bnp1iRFY\n",
    "bJpvu03rCy1uUaR1prW2XVtgRt2WNRYvLG2bY2pLbVlhcUkz5VaGnJGHqEoQLL/9C/kNSoY/WxKH\n",
    "IQ421m/9+vX685//3DB/HcrklD61tIex3hJKPvwjkn/60580YsSIm6oQrVnaINzc0BStwMumaYDb\n",
    "/tUGi1sVFOtKtAbF2lI/NyBv1Bar7tox5R1Yp2u7Fykve6GuZi/S1b1LTJfqWvZi5e1ZqII984Lm\n",
    "71lg24RZXAu/ZnGLDq1TzfVDVkBct/TKLDvmgtuJ0OhvlCdvgIs8BHBv3Q9Fc4hD7e4sitV+++23\n",
    "w+ecHOo4zL7u2y2hXsi4/v73vw9VCL+G1ixtE+4ANeAaLKEE5eFxkAxeXOvgXgNVtC+QFtxqs7gl\n",
    "J5SfNUsfzu6tXUP+pKxB/609r/1Eewb9VLsH/ky7bXv3wJ9rz8D7tXfQT5Qz6H5l2/oe25c96GcW\n",
    "7347xvTNX+nQBy/o4ob3VH5mh1n0fDsZgEf2OYBOg5258aHBjvVmhruph87D3NrErY7vuxeSfm7m\n",
    "ruvevXsDRMw4y/Zrr72mAQMGBGW9OdXP4zpw4MCGdd//yCOPNHy84qc//amWLl0a8t/ape3BzYPR\n",
    "ADfKw2Kb7AoE0+pdaeEVqjX4a8z9riUOcJmLXX12p47N6aOdBur2Xt/Vli5f1dbO/6aMjl/S9k6m\n",
    "HT6vbS/9s7Z1+IKFfVEZnUw7f1FbbbnFtjfb/s22P7PLlyzs89rS1Y7t/yNljHpGl3KW2en55BAe\n",
    "QiqvoUBxuC2/4cEOe++6xK2ibztMcbBaCm4kfr5Dhw6pc+fODZa5Q4cOysjICB+BoG7LzLTx9eZU\n",
    "zhFXwvzco0aNCmCTRz4kyQctuAbub2uWNgh34wPS8KDwrARlHfDNhtuNB+oaC6ujscvqzbWnNurI\n",
    "xOe0vee/B2j3v/lLnZraSUdm9FLujP5myfvr5MxeOjOjh05N665Ttn5yTn8dnd1Ph2f2tmVvHZ/b\n",
    "VyfmmM7ormMTntaO136sdV2+ojXdvq39H3RS+bk9dnq656Ls2BNgWmt5sCqDBVDVJ7g5xKGN98mi\n",
    "cchZZz/bTBvlBcK9Es8TEocbxWpjzcmb5zcevzmEtOP3IH5Oz8OECROCZ4H+93//txYuXNgQpzVL\n",
    "m4Ob24l9prHKG6zCPU7T+josNrbcfri6ElWZxT408XlldP+KthjYR4b/VqWHZqvmapaq8k+oquCs\n",
    "qgvOmOE9oZq8I1aXPmx6zNaPqzrvpKoKT9p+1o/Z8kOLd1jV17JUnD1Zpz54Utv7fFeZg36p6weW\n",
    "W6asTm95CArNeA+20dz93P7ApcMd1zjkFRUVN4F0L8TzgaRbbuDmQ42ep3uRL8+Pq4PuinzwwQfB\n",
    "cqPMkJvA3UzC7QRqc3SD/g3cLGxZb0DRTXWjuljVZ3bpwKQu2tz9Pm3p/C/a/e4jKjq2Xjcqzloi\n",
    "1y2RclNz5WtsWWvL0ApelgqviLTe1ustLCwrDVoD2OrvNypOq3jfHGW/84AOvPuQyk9sCPHJgyv5\n",
    "Ypgr+W5OuBEeTofCIWebdX9wCwoKNHXqVG3YsKFhP3ovhPOhiMPtDWk9evTQsWPHwn5c4pUrV2r+\n",
    "/PlasGBBsynp+zlwt1nu27cvfE/O8wrc5I984pYncDeTcDsB2mqyQW8Fd2jIMle8+twOHTSwV3e6\n",
    "Txs6fUX7DMKi4xtVX0W3FiBTP6eeDghm51N91VE3Gg121JXNza4xYE2pP98wUPAKaqxuXV9Xault\n",
    "UtZ7T+nQ2KdUeWqrxTH4yUNDvgwe2wCf5rbcDnZ83aFmeebMmQDUX/7yF61YseImK38vJH6uptxy\n",
    "4CafFDz0MdO//N5772nSpEnNooA7fvz4sET5vBTbxcVWcKfy6pYb7wK3nALgXt2vTyNtD267p654\n",
    "vMBNn3ZkxyNIQ6t0bZFqz27RkQnPaFOXL5vF/opyRjyqoiNmsavoy7ZjgstscRmVdqNa5bU1Bmy9\n",
    "pQIU7DeY6ds2gG/UlJiaRa+lG406K4fbj29x8o5uVebIZ5Q79mmDOyMUAABtMaKlKWhHaudsJrkV\n",
    "2Kxjifbu3Rv6anlQ+cLp8uXLb4p/L8TPhzjcQAPc3bp1C3Vu9q9duzYUQLRenzt3Lny4sbm0vLw8\n",
    "VFFYzp07N8DMd+Q8nxMnTgyt5VjuuFve2qUF4Y4efh52blP6rfKwuIa/wMKDyEAU24zq3cBtFji0\n",
    "kmONzWKf36HDk180sP9Fm62OfeDtP6j48GqLwqAUe+Dt4PD7AHewtNXBEldZIL3kEdz2A5eeVUnO\n",
    "Ch1e+K4ubJkjXTtuZQiw11hWyEe58gPczxrcz9wMd0zvBdw8cG6lfR1o0dmzZ9/0PTTgxnJ7XPRe\n",
    "SPxc6Zbb4UYY3EJBNHjw4PBt9OYSLwT9PtHNBcwON4qFpwDyBjVvLffraK3SQnDbAx+wrDEsGXgS\n",
    "hfDwR2uhGSyE0wiFgm+4mbxGSb9xrSFo0NDVVQdAwVqby1xtFvvMVh3/4Blt7vJFZXT5vPaOfFiF\n",
    "RzcakAVWTzYo6/gxLSn+BNfbjjUlvWpLD8Cra6tVW35JF9eO1bpO/66Mjv+qjV2+pZzxXXTjyiE7\n",
    "F/VwO9bSLDqyRlkjn9LBsc+q4tS2FNzk1TSkj3KuVJj9/yTiD1Rc/eFE0+Owr6ioKPTV+sMJRKz/\n",
    "9re/bbDcXiDcTjy9+DJd70TicdMb1OJw45Y/8MADAW7GnjeXxPOPLlmy5CbLjbLtBVAC90dJsGb2\n",
    "wAd3OIIbeK3sjACnn9jC6+zmVdv9Qxvh5kUMNCpp6cuuZ3w3YFcWqOr0Th2d1EkbO/+btnT5gg68\n",
    "8zsVH1lu+4vstNH56gwyO9S2Lb3gntv5aHyzberS1eTP4lZcO6ZNbz2k3S/9vY52/N/a89L/py39\n",
    "7tfpbWbBzVUPBU1tnqW/SrtHPqGD7z+jitPbLJ3GrjBeJ42UhyEVZvs+ifgDBYx0YzUFmdehWQIK\n",
    "46IZARYH2+FevHhxcNerqqqCe8r6rZT9xGOdZVPnvhOJx4275ajXuZGNGzeGYalvvPFGs8KdLsCN\n",
    "pS4ttd83JU3B3RakheA2hS7giv6n4GYd6gC/0drBGs8D8YLan9DVZe51eF+a1unqQtWczdSHkztq\n",
    "bcevmjv+VR0c/bi54iutdLhsccrsGHsoDWIAj9xyErIkgiU3aMLpCKewKFHFlVxtHfxnZRnU+5/5\n",
    "f235vw3u/9TRdZPC/gB3XYEKj63TjpFPGtxW5z6zzdKpCgUWStGFH8K4NfMPUtf4ycTBiGvc6jpw\n",
    "1B9XrVqlP/7xjwEawMYV9weUbT5TjKUcM2ZMaLAaPXr0HSnxcZlpcEoH/E4kHjeBu3mlBeGOlN85\n",
    "euBTP3qw2lgf4DZ4I+LCPo/jfccR/FZfrrqqqjMZOjali9Z0MrC736ec955Q4cEVUVdXqvsqxOXN\n",
    "L0avUSAAhqVTWx3BDoxmD+0cxC1RTdFZHZ//pjJf/rZ2dvqCNnf/ivaMfkqlJzON3LKQVyx4wfHN\n",
    "Vud+SgeagDtCm0a6T9/P7WAANBrv3kLZpptr3Lhx+slPfhIagYCGTxN7ay8PqAPvy29/+9sN+26l\n",
    "7Cceab7++uu6cuVKOGc8X3ci8bgJ3M0rLdegZr8vvzEWO1g4QAnuNihEDjpWHABxkcM6MQP0NIIR\n",
    "boVAdYmqz2zXmanPa2OnfzGwv67d7z2t67nrzWIX2vG8ogmElVYVzlf++YMqKzhth9q+GgMdOGoi\n",
    "V9Zq0SoLOAKu/bi2v/rKhzo+b6g2D31Kuya8rPwDqy3dAss0dX9DtbZc+ce2K3PU8wb3M6o0tzwO\n",
    "t3erUcXgWj8N3IjDgdV0ZRu3+eTJk+rZs2dww4EFEH/0ox/dBDIaB93B9bBbafyYQYMGNcDteWF5\n",
    "J+LHIAnczSstBjc/Lw86rmpwV2NwG2ohDBjCFEgBbtQtOnCb5a0qMEu5W8endtcGxn13/VftHf2I\n",
    "CnLNYpvbTINZZODtgTK4y659qJVThypz/nCVXMiyggFILU1zy3H9K+yho75dz0snoRvMzlVjEFfm\n",
    "mV627F2zsqU4KjA4gEIjBfeOUS/q0NjnVHlqu8FdnQKbC7M4QW2DbddPIEBBXTveN43yIDLJAe8+\n",
    "+xtWwIhitQEnHXBXh9vXb6XsJx7rDnfca7hTicdP4G5eaUG4sWQRshHcBktwxyP32GrSQamzeqwI\n",
    "bnswDJYbNUWqOp2ps5M7aVOHf1NGty9r73sP6+rBZQakwUhrugGFVamrM2eb0WY1+TqTvVwbzcoe\n",
    "md03GgdeZSDXmuWhpLG4oSDBe8AroLyptZzS7VVTZfll8IqpVRXwI2jYU12JwZ2hnSOf1+Gxzwa4\n",
    "6w3uwDJp0tgX1AIorQi7cxZuEq7drbW75Tz48+bNC68iOiRYbB5EhxEwAd0fUDS+7fH8+KY0Hg+3\n",
    "nNc1HVTXO5F43ATu5pUWgtt+YHvS+Qe6wAwMgQZTXNga26aOWmvb9QZ9mBHF1sNsJ9VFZrEzdWxy\n",
    "N23p+A1ldLE69qhHVXBwsQFkD0KoM9PYRdeYWXAGnzB01AoEVV/Vld3ztGnEszo4+w1Vnt9rcejW\n",
    "4txWnDCs1M5XA0AWRJtdqI+bVtn5GeASzX9KIWDH1RUY3Fu1Y+QzOjL2SVWfzrCk7LyW//AMk8hd\n",
    "ghtxuGm1/vDDD8P70AysSAfQ17HkDruHeRy3xr7t602p72fJwJIE7tYvLQQ3T7g98AHaqC4afu8A\n",
    "NzQBsYVbYLXBEfqyscJG2o2qUgN7p05O7qj1nb+mrV0N7Hef1PX9ayzJAjuOcd8Gdm2Z6sou6/rx\n",
    "nco/nW1V7qsWZtab2VdqCnVuzzJtHf6UTmDBL+TYaaMC4EZ9qeWpyryGWobFBCUfUXcWQNM0BrwU\n",
    "Aow1N7iPbzG3/Gmz3I+p6tRGi8e75Kl/4ZpQu8BwjaafUBwM6teMNqN+Tat3Opjplpvt+P5Pq+mW\n",
    "++NI/JgE7uaVloObunPKDee3jiAwKHF1g0uM6wngxmIA28KqzGKfMos9pas2dP6qtnT/hnJGPqGC\n",
    "fUujRi7cb4tfj3W3OnlN0TntWjpem6YM1LXcNQb7FYPb0g+A5+n6nrna9M5T2jdnsCovZNupaYDj\n",
    "TSmr12KlLUuov4Tic6hh4evNO6gLLe7FyjuxXdtHPZeCe70dUGzXiE+C+x6utoFr9JMK9wqrTTfU\n",
    "5MmT9etf/7oBYqyw15vZxu32MHfBHaJPqwncCdy3EUAGbrPS/NDhqbdt2qvDPN8GEQ8BULFkVFlV\n",
    "oSpPb9eJD140i/0VbaZV/J2HlH+QfuxrBmuJ8VRpdWvzBgxuZjHFGl89uVPbp/bT7ok9lHdgrQFu\n",
    "D0p4+4v413Qxe4k2v/2UDk/vr/LzB618MVttdfCgNLRRH6+xfOKfWwETXGwrfDgH9d56Syvv+A5l\n",
    "jHxBh95/2tzyjRbH3H/Ob9fJVaFxwD+tcE94AYT+aeraDm8cbtTXHXQP/7SawJ3AfVvhwQ8/Mhbb\n",
    "1qPBHozsMrhwfbG+ZqXCbKPV+ao9u11HJ76kjV2+qs3dvqbs9x5TwQEsNrDaDwHcFbZebu53XTSf\n",
    "Waj7mmUt/HC7dk0doF0T+6hw3yrdKLtgccz95mUQKxjyshdp4zvPK2fGQNVc2BvSogGt3qw8XWV1\n",
    "NcBs+aXgMMWrCI6G7WOCxcIj5paPfF6Hxj5rlnuTpW2WOwW3xYiq2lxqeKg/Hgxx4Xivc6P5+fma\n",
    "M2dOeMGCunUcYnfF/aFkn0P0aTWBO4H7ttL4mPPoM683o7hoqKIZrdoeXoMDC15TpBtX9+rDSQa2\n",
    "WexNXf5N+0Y9rOsMUKFVPPUaZm1Vga4dzdTZ7QtVefWIWdwSM7y41wakwV9wIktZH/RRzrjOViis\n",
    "VF35ZSs3Si2eHW+AX96/TJvefkS5s3qp7NJug7cwuN005NVYQVNry1ordOrIVwDb/nDu4jPKy5yp\n",
    "zLce1N4Rj6jkGO9zRwNc7DFuuM7wPIcDo6v+JAIUwVuIAc5DyHvPvBrJiyEOiltx9G5abTSBO4H7\n",
    "thI9+PwD6LrQCg3WrBMWlJFlFed1YdlQbej4ZWV0/jftGfFXFYburnzjh8YzxpRZ4WBu+6ndq7Vh\n",
    "zCs6vHy0Ki7nmPE0QM361tdYIWH19eLjW5U1uZd2TOhhaZgFr6DLjDo43WRXdTVnkdYMf0p7Z/VV\n",
    "9flMS9+suwEUvHQDswa4KSxoE2BCh+JTKsqaodxRjyij539o5+DfKI90aXEP/2IS4E7pJxQHgzzF\n",
    "Iafve9u2bWGyAwatONDe553AfeeSwH1XxIgxBQFstyEWlFB++mD3aotUdniVtvb9uTI6fFHZg36u\n",
    "gtw1FpGBJLjddKWlOtRuVKqy4JRObJqujLHddHDREJWeyzaomZSBBjSzsjUFKjiVqR1TeilrYnfl\n",
    "5W40I4v1pw5u1tbOd2Hfam0f8YQOTu+r4gtH7TyWE8tg9FByHqoM9sOXnlJB1jRlv/1Hbe78L9ra\n",
    "/Ss6Mv4plZ+xQoHqQLiOlKWONiK9C+JQow4LmpubG2C4//77G4D2h9IBuhuawJ3AfVuxnzj8A2N7\n",
    "TMEzWG5AJ5R1JjU8v+BVg+dr2tLtGypYP9zqyFet3mtAWySOwaLWARx9zvXF5sWf1tmMOdpmgO+f\n",
    "82Y0DpwRZmEYKnXoIhWeNsCn9tP2cd1UvH+56isu27H0cVuKZu2Zv3z9qG7aPGeMKvOtfk7BEPrN\n",
    "TYM3cVFFe+cHsDd2/aq29f6OjkzvpJIjq6zOf9nyQiFgV2LpGYHRBeGSN1zd3REHxRXYz549q/ff\n",
    "fz88hADDAxmvi/tD6mG+7YB9lHJMc8PN/nv1yifieUJ5n5ueiPRXPskf98nh9n2tWVq+zk0rudWN\n",
    "GaCC5fbH31CzXXk6OPJhbev4BW3u82Pp2g7dqMo3mIEauI0dOy5YU7Pc9E/X11eaAT6nq1mLtXtc\n",
    "D+2d0ldFH26z0qLQ+CKeWVUrBApO79Seyd2UNfZ55R1abWzbAxS6uiwvVhicP7hFO5ZMssNO2YmY\n",
    "ucUsO6PcDN7i/SuUPeoJber8VWX2/q6Oz+2p8guWN14rpTWdH53rssKkOeFuSgCcl0eYUYTJDhxc\n",
    "oEQdaurnjz76aAAKd57lRynxeJOMiR84xyd5wOPHpMNN2j5BosPdpUsXrVmzpuHbYc2h/j0whvAO\n",
    "Hz48vHgD3O4ZAbcXhPGpjT/utd9raQVw2wMfLB32Gzc9ctVD67LVg3OG/U6ZHT+vzX1/anXcfRZW\n",
    "ZHBbTDR0STE9L/VunHP+2vFWF1fpRRXmrNKOca8oa0q/MG+aqsyqMsCkLnLRS89sU+bkntoyuqPK\n",
    "D69JzdJiUNKlVl2ismvnjEc+N2QuGnXs8msq2b9S2e8+qnVd7tOWl7+nozNeVsX57VZ48Cki2gks\n",
    "3+Td82gboe+94crCVTeL+FhvHsqysrLg2gKwQ+1WGmVUGzOO8M43QLHEat5KfT9L5vSmnu8P+Md5\n",
    "0ONxm7LcDrfPxPLLX/4yXEP697vulvq3yXzJa7J8Mgi33PMK3PQ+cA8TuO9AuC2R2l9uUgryoFg4\n",
    "KKm5otPTOoSPBqzr8m2VZ880t/yK/fhRdxmWEatNCzZ19HCkJQVUYTbTsisqOLhBuyf2VNaELio8\n",
    "vDq8ABLq1+yvLlDh2Syz7r2U8e4Lyj+8zZK1fVW8GmoFjsEa8kODm1n2kmNblf3es9rc9Wva3P2b\n",
    "OjS1m8qsgIhmULV8MOiGU1sesNHkx5VtbDfX3FwCFHEFQEaydezYscHyOOh83YNpluLx/YG9E/X4\n",
    "iIfdicTjxuEmbz4TC/v5ZM8777yjPn36hEkL75VyPmaoYT41CkuUOjj3jW+G8cURnyCRfa1ZWgRu\n",
    "flpuS8MDbwHhBw+Amysb1PZU5akye67W9PiBNnb6iva//SfVHF8buq5okcZiWwlgx2K9seJYLntQ\n",
    "LSms+w2mO6q4quKjG7Xzg1e0dWxXFRxYEVzrMG8a9XCzzOUXsrVlfG+tGvWKyk/nhDo2fezhDbTQ\n",
    "VZanspOblTPmeW3u8R1l9Ph3HZ70osrPbLU8XrM40Usq/NbA3RTUQcN12kozij90cWCxuNSTgcjH\n",
    "mjOHGhM6fFywm4rrYXcifgzicAMOiuUmr6SH5eRrH6dPn25WZTDQqVOnGrYZr5+Xl3fTPcRy+9t1\n",
    "P/vZzxomSGRfa5YWhTt6+O3BQPnBg0Zw22018My6lpxRzqSeZi2/oc2dv6zskY+r9tQm28d8aLaf\n",
    "IaDEtx/DLW2ovxtJvMEV+pzLL6r4VKaypr1mLnhX5e2zOnYFBQR1cBrZSlR08YAOLBunmvxjUZqh\n",
    "u8uOrbmusnM7lGVgbwxj2b+mg2OfUPkJ3uu+YnGr7EGILDbZB+CboW68PvY3p+nmHP5Q+sPn28wD\n",
    "zpS9WB5Ais+h5vFvJ/E0PS7LuN6JxOM63FhtwGGs/PHjx5s8R3MK98jP4eueBzS9QQ3LzX60NUuL\n",
    "wQ0A2N06s9ZhsIoB6S41MPCiSBhvbi542fm92v/e41rf8cva2uNbOjj+WVWf22kHM57c6tAhjdRD\n",
    "AJS46SnFbQ9vg1VeMkh3a8e0N7RxZGcV7rV6U+l5i1tlEDNGvFRVhbbNJIqEhdFtRaq4uEt7xz1r\n",
    "9etvaXs3A3vUoyo/zgcNLlmBwksmnNuyEerbpuFfuJxIQzXDlGXwTGwvEZpB/B74DC3xB5R1LBJW\n",
    "B7B9amPC/f3w20k8LZT041DcqfjxSLpbTt0aFxiPgoE55I/15lbOdTt95ZVXQv7weJIvjnyEcEtS\n",
    "j7w9NPaXbijgtu0Gi2eReKCCe11TqLKzm7V3+EPaYhZ8Xbdva8+kLtLVvZYILdQGsR0T7jXWG4ts\n",
    "WmuFRvhwAOnXFoc6dtmlw9o7a7A2Dn9OZ3csNK8bCx69SRa6yoCa1vfaQlVe3a9dE7uGaZs2W70/\n",
    "e/ifVIHFrrxmpyF9A8M0FEgGbwQyRNsiXAzrrAC2q20340ORDrUrYSgvnWzatEmdOnW6qc79UQ8q\n",
    "+ykEPG78ONc7kXjcuOVGecPtV7/6VSh80N/97nfNrrQ9NBXGmH2WKK44+cPjSb448hHCLYnUHo4A\n",
    "t1lXe+ixew43Vju4xhYeRqJZ3bbU3PGdQ/+iNZ3v07qe39XBqd2kaweNHYaRYrHtOB44g7TWIK+0\n",
    "gEr7ARg6Sv069FPXlKvy+nHtWzxaC4d00tV9661sKU6dizTM1a8pVk3hUR2Y2EUbX/6+1nf5d+0Y\n",
    "+qAqjq03sHmzLKpjg3L0cT/yzdVEfy2hFNy2tPXwL0CNhqszbR6JP3S+jjqMKK+M0h9O/dKtrx9z\n",
    "O4nHu9V6U9JUXJT6Nd1rDrcrljyuPtLO99EgyPJW8YGQpXf7pe+PvwLb1PEextKP9zAKn927d990\n",
    "Ta1VWgTuIIFEwE6pbRuWAezw+AcrB/SmwB8mXrim4hPrlPHG77Why1e0qdf3tG96b6nQ6sm1ZcYO\n",
    "9WcgBegbAexyu//MQw6AYWLFMCa8XNWF53Quc6mBfszSjd4oC8pLKiUnlTOlpzK6f1cZBnbG4D+o\n",
    "8ugaqYyGOPMCsI6W38AveU0tyX8Et6k3m0f/wx7/1xLiD6MrUPuHANlm2Vzi5/Rz+DaFzLRp04LF\n",
    "Tu+qi2v8JRgattgGOrY9nDDUjyGcOHG4CWebwsK3fd+tlLjemMb6c889F/LNteDJtGZpYbgjS+Y/\n",
    "tv03BRHARtkfwY3bXG9u9Q2rOxcdXqbMAT/Vlk5f0o5e39WHs/tKQEoBEOq+1DmrjK9ag9xYNq0y\n",
    "0JiTPLxGGsCrVl2ZufR0fVXTjx01ztVXntWhyZ21ues3tbXTV7Tt1V+qKnelxCg2XhPFsuO+G848\n",
    "qinjHJCNlH9cW6MS4gUBxxCvJaTxPkegxbfR5pT0c6HkgcEw69at09ixY8MrrCNHjgzKN7Fd2WZa\n",
    "Zd/2dcKZiYa544CPAoIGQ7rU2Mdcbw8++GCDpcfFpquLffRls7wT9fMy8o9JKMn7J2lvuNfSgnDb\n",
    "jeFHjj/4IYjH36wvdhAwaM2mHkyjVwC9XDfKz6ho/0zt7PtDbe/wBW3t9QN9uGpkGBYa9ofCANCZ\n",
    "ywzA6xvgjs5xI5pGySCPrDmeAXXyC8qdN1CbzSvI7PwFbev/U9XkLorAZnRa+PJnhSXQCDeHB1qD\n",
    "OsjknnVKdrbYZq3l4HaYfJkOd3NK/DzxagB5YNs/enA7ZVAOnoavo6wXFhYGwN1KU1dftmxZ6Kdm\n",
    "QAxuv1v0F154IbjUpONp3akSnzS93cHz3pqlxeC237ZBA18WFj389sPbvxozuZErDaSmWNoqrGbU\n",
    "OHaj5LSKdk/X9t7f15aOX1JGz+/o1LK3DMTzZqpxsw1GKwzqairCm2FhuKr9GKEv3KCjlTtqkeek\n",
    "NWbaL+jkgn7a9PLXtaPz57Spx7+r+tAyA/6aZczSoqAwrTXXnxQijfIP1F69oEAiPCqeeJAjDyQ8\n",
    "zFwr0U3vtdwKLN9Gm0s8fc7nYMTD2fZ1NL6vKfV0WAc6rKu744wwo4Wb/bQpeEs31hu4s7Oz/yad\n",
    "jxLvTXDlmDvpYWhpaSG4G29UuFl2jyK4bZ19LFPhwcU21zk0eIUfFGW9UjdKz6hw+zhl9vm+tpml\n",
    "3f7qj3R2w9hg2UPruLna0bzl9kCRnqURhqsa9HzVs56GOiZQrLqio4uHaUOP+8zV/5w29/iabuRM\n",
    "NgPNvGvR8TwI0Zh2oHY1WMljyFOq+gDcFmZFkGwrnJcwS8SW0fVy/fdawn3mPoR7GOUjrnfykH9S\n",
    "ST8X99LhaCo/6cfE43Csh2Hx0+Gmlds/cIgL3atXr+CSs+/FF18M3972tFw/SjhX+P1T53Ztznt2\n",
    "N6SF4LabEiydubf20OO8RrcJCAyZlFWNwIluYjT7aVR/RmsJo65celrXN4/Wpp7f1sbO/2qu9E90\n",
    "cfM48855m8ssLrOpWNyoL9wKCrP8uOqhb92se33ZWeWtHKZtPb+vzS/+szb3/p5KsufaPgao0P/N\n",
    "uW0VtRX6s6M8kmZUKFmRYf8MbgC3cOIDt/kZ4dqIhysfNBxBwL0Vv48N9zO2zrI5JX6edG0q3I9x\n",
    "bSoOoBFO1x71Zwf4D3/4Q+gfB3pa4xkY4/vcLU+3xB8lDjVyp8e0BmkVcDc+7sCNGxuQCGEoP6L9\n",
    "vAEabyALkyaGG20YFR3XtbXDtLnXd8JXRzJf/7UuZc5QPXXw8E1ti4PVBu5QSNiPxVRMZad1adU7\n",
    "2tbj29r64j9pW6/vqyhjrP2a5ooHUMkf1jo6L+cD3iiPPHBxuAEXgKNwOzoAfhPcN733dm8lXIc9\n",
    "1C7+kLo2p/g5HNLwe5oivu5xbqdxKBk3z4cReEONFz4cYN5lp0GNxjmG3PJOuO/DqmPl6V+n/ux5\n",
    "uJ34+QDct+MWvDVLyzWoAXJQu0nhr0tjeLqEePwxsN3Vxk2mH7w+/4guLX9dW3p+M1jw3W/9Rtez\n",
    "ppkFNxe9hpFs5oIb1GHQibnPdRUXVLJtjHb0/Q9t6WAWu8e3dGXdKHPRL1raBn4KVnsUA6DAHf2Y\n",
    "lrcAuK2ahDyFfzfnm0cBbQy5ef9nSbhvcYhZAgiw0jCG9UV5zRL17XSl8czj5OTkhNZvwHV4vVWc\n",
    "9Xi4L71hjb5qRsLxdpundyuNn5/x7t6o5tfRmqUF4f6EAhvBhLtVNQxp9a4tVf21vbqwsI+24qJ3\n",
    "+lftHfZ7Fe6Zptq8vbpRcdaOMcjpxy48ruvbJivD6uibOn5eGb3+Q9fXDLO6+lkrKJhznB8P68wy\n",
    "qkPjkkdQt4zlbQ/C7+XKZ4APHDgQIOPtL96jptWbJdtofNvXccGHDh0a6s9ASws5UHv/t4PsULPf\n",
    "w30wDNs0vL366qshzdtpPG9YfSakZPw7kLd2aXtwpyR6SCLYoi+UYBlKVXNpjz6c/Yq2vvwtbeny\n",
    "Ze0deL9OT35Rebsmq+TUehUfXqozM7tr2yvf1YYO/6otvX6ok4veVF0JkzJURKWyWdiQNgVzgwkG\n",
    "7gj4aEcidyoONJaO+4vVPnjw4E1vhKEA6OpwovH9DioK1MSjb5thoz5slXHzWHVf93Be+uC1TT/O\n",
    "Lbmn15SyH/U8UEDg3jOEt7VLG4QbyOxhqTeoack22HC1Ky24GvBqC1VxZpuOzTTAX/25Nnb/ttZ3\n",
    "+YbWdf6m1cl/rPUv/0CbO35V27t8TbsG/kKnFr1uh5ywg8sCwGFQSjiHEQ3QN8HNSgL3xxUH2+uq\n",
    "DFyZMmVKGKft8MRBYh2Q4uEOG+EOONaaGWX69+8fGtFoJaePG2UdJZxtlnxbnDq4Q+2Qe9pNqcdz\n",
    "5Zy49XyfrbVLG4Ub8OiisrqzQV5tQdX20NRRB+I10NoiVV47pqtZC5U7racyB/xc27t9Xds6f1nb\n",
    "un1DO3r9QLvfflhXt042i/2hGeOSUFiE0WuB29Q5KCxSYZY8oUET+fgC1A73iRMnwuAS4AEYAMXy\n",
    "Mq0S7jIAMgsL6x7GNsqIs/j8cFhtppQiXRfWUQqUeP2eCSBeeumlcCxDXrHmpMk5bqWeD5QXSMgv\n",
    "56fASOrcd1344erCW1l0ZzEwJXw00CCMhpemoARyq1/XX81V3rZpOj6nj/ZPfEkfzumli6veVfWF\n",
    "Xaqvumw/UJn98PR724NgZpsp0PjJzDE3jdzz8LCEfwncn1QcNpb+HXG3wH/961/DO9NMrcRQVNf4\n",
    "Nutr164N86lRV/aCATd71qxZ0W8UU4B2uF1phKM7DOvPtEozZswI6X6Ucv7Vq1eHAoljsdzAzTla\n",
    "s7TJOjfA1TIfOUsDmlsclB/WfsTw2md4iYRRZVW2WWZaaMxfF/OT19cU2Tb160orGGpDfT28WpoC\n",
    "mXbyaBAKTjg485cOL4BPAP8kAlwOA5b75ZdfDpYXWDp06BAa14jD/fela/o23V9uubHAWG7i3O54\n",
    "FLg5F8cx6wsNY+y/nXhaDEFlfDnHAvfixYtTMVqvNBvc8ZvrNzC+3pT4jbydsBfAwmgxfrQGKFF7\n",
    "eEL/OUp/Nq3p3rts56a+bLAHN832EWY1dnPnvXWcY6KPGgE3ynmi/m6rAlgc6ve3z+Gdid+Lj7re\n",
    "9iJcp/++cbhRXvxgyCiwoexvat2VFmysNsf+5Cc/CXDzm/r99HXOFz83o9NoZec4lsyw6ue4lTIQ\n",
    "BmWcOp8uplBJ4E7daL+xrr4d34/yg6C+71bCHjPWAU4+gh+gZGx4ULO1WGwGrIS0IqtuMYJGs6Yw\n",
    "kCXqu2YONurt0SAXLD0DXYCb8WZ2LCDjBQA/9XuDHEv/aXBMv+64tlfh2uK/P9DER44xuwnuMmG4\n",
    "voAfX6aH8W00juP4j2O543DzhVTWPc3bqU/rTP2bY90tJ83WLPcU7niJmq4Otse5lURwWxoGXnQs\n",
    "Fhf4zE2n9Tw1UaKn5wNdolFmEbDR0FZbN6jDJIrAbaDz/W8fPx7mX6PA4P1whqCSNysceJvs02AY\n",
    "5bnxIURYp8GnvYpfqy+pczPTqMONuiVGPZwlbjvKfpYel3X28/kk+r7pWuOLKyx9Pb7NqDRmUHns\n",
    "scduSsvPczv1uL5kumWqBv77tVZpdri5ATy4LF19n+/3JfpRcKfwtjgGbwDZjrOwRqANWuDFvBMO\n",
    "zJZegNtCIott52a/W/sarDfpAX+qEDDYo1dBDW44pxpPOuTX0vikEr9+8ouwznDK9izx39i7wmh1\n",
    "dkiBJt6HzTYQOlzxMIeMMPqdadXm4wVM4cz0UfSfU7dmPa40onn3WzzNj1LixvNCvplkorVLs8Pt\n",
    "FrTBksYeblfE9/n+W4vtS7nLuN7AChYcER1v4cGqW0iwvgYnBQHwm0ZdXlbi2v5ozjS60yJrHvss\n",
    "d7DspGcZN2Vp50Bt9dOIX58XYmzH71F7FL9Olq7nzp3T9OnT1a9fvwAlMDqcvs7SIWUJtHRlsQ+g\n",
    "HXI0Xgig3pft+3wdJR5j0B9//PGGc91OOb+vU4jQX3748OHU1bVeaTa4EX5ExuPyQ54/fz7M28X4\n",
    "YH5olIH/WVlZ4VtQ8R8evaWwz45FARiw6QqLgK6zc5zWocO5quHrncCN9Q0QA7WF4YJDcOCW1z9p\n",
    "UruhvOIyZWzP0roNm3X1en6AuzrEs8SBjg/ww95tsnanAsSuDrWvt0fh93S4/XpZ580t5g2npRzX\n",
    "mSVKfzTbLFHca+rL8X1YflxyhzoOtsMcX/dtXwdSurj83LdTzunnJi9FRUUN19GapVktNzeA7zBR\n",
    "OtOPOWDAgDCaiC4J9vNtJt7c4QYitEAyMbx/qqZJIRjgcKNZhFXApjGsTus3bdL4SR8ov6jAwiKw\n",
    "g9VO5Sd8shd3HqAsnG6wwtIy9er3qrp37aFBrw3UwNcG6Nr1KyHdCG57MIlvaXxatxzxB53qCq8g\n",
    "Mr2uP/DtVRyG+JLrvZXG47l6OIph4LM+vK9NYxdvgnnDl6tvs2S/rzNOHKPCSyukeTvxc/Jbxc/v\n",
    "eWvN0uxw04jxzDPPaM+ePeEhfv7558PreNxYviixa9cuXbt2LcTn1T1aISnRb3nTCXbgYC8o68Bd\n",
    "r1PmIeTkHlRpJZ+DAWxax2+oCq6toI1ccurqWO3I8i+2c37nO9/S+rWrlJO9w/K5WMXFeVYAMAou\n",
    "Og9ue5Wdk1dN7waCXB+TDfBSAu4h27e85jYuXJcD4dcZfrPUelPKftf04/xYgGO2Fe+uakq9+ywe\n",
    "xhdKb2tAYuLnjeehLYCN3BO4aRllnTeB3nrrraC4NnzHiknnuPlMevd//+//Dd0idFEwgT7CmziM\n",
    "SEKnTp0awmiQGfHOCHOtulrJ3VvDrSQ+b64/cG/ZlqHJ06YqvyBfW7dusXrdNA21/S/36qM+ffvr\n",
    "yJGjljd+KAPcMLW1kIevfe3Lys+7aiBHI9/QmprK4FXgbfTt11+vv/GmNm3ZEq6N6gYjpsgX3SV8\n",
    "zYPCihFUvDnEd6Wpz3FtVDto0SUdlMYYHi7GJ9Mg9Hd/93dhOiD6XdujOBSuDmc6JKzH93lcD0vX\n",
    "OHAu8f3xcCQe1tT+W4nHjWtbkHsCN40f9EUy+ABwsc483AzmZ9/WrVuDe0q9idkp2c8rdSwfeeSR\n",
    "8LVKHnwaMnjHlu8nP/vss6HORLoMgsDV4nyA81KHl3Tu/DlNmDAhdFsMGTpUay1up06dNWzYMHPp\n",
    "Lje4WfyjawbInjALCpj+A1LA0PfKLJpbDOpJdl4aV6h3kV9cQmbtJB98tB2QeR2RuuCbb74Zri8/\n",
    "Pz94KqTDNtfCW0UMayQdvrLxzW9+M2xTJWmv4s8DS6BsuP+p8LiyLw5uunqh4NrcwrOanp97cd5P\n",
    "K80Gt/9IwE3XAaN7qPfwCh4A4BoBBIP3N2/eHG6YFwK45chDDz0U6urcWG7w5cuXQ12LeDSoEE5c\n",
    "xggzPpmX72mBpUWVBjwKAwYeACZ5YR+Wkw+/kT9/UNhHtYE2AfLHgAqsMA2ADJIAXsClsHn66acD\n",
    "pFwXcHtjIIUOVQ0sNuekrYE8cx4GXfDeMjDjRrKNO07eaY/g9UTPT3sVv9csuVbWXT3M43gYv4uH\n",
    "x5X98fDmFs6Vng8Pa83SrJYbpdED95RWUSwksAII78MuXbo0wA18xOVtIF4C8ClwaN3EorHuPzjQ\n",
    "YmWB0W8wcQCG9AGY8/HhO9xt+jY97vz580MhA9zxH4h10qdwwCIzpJECCEt63333NcyVjXcwZMiQ\n",
    "kF8sNmBybFwHDx4cJq5nuKKHAW/fvn2DBafAwQXnvlBNIQ0KFI/bHoXrit/ruKaHs+7wogAej+9x\n",
    "WFJ4NrfEzxXPg2trlmaDG+Hi+SIiLqnfJN6uwcpi/bCEuKjAwn4sHpbb4WbAARDR8MQ2ikXlTSBc\n",
    "btLD+mFFgRg32i03cAMSbi9wE7cpuH2J8lDxI3K8F0hUFWjVx4pzbjwHrDTeQteuXUP9nzQ8HVr/\n",
    "aTT0j8gTDrzki8KHfKG0OQA31RCHu72K3x+/R35fbrXumn5sunqB35zi5/G8xQub1i7NDjcWCus8\n",
    "bty40DiGq81gBNxcAOc9Xoeb1nKsOtadBivqz8BFQxr1bKBjLivqzVhXGqQAmzQpBPgR4nDTyAX0\n",
    "dHuQPnBTfwZufzBYYj1xsYkPnN/61rdCwUM1gJZs3HQKCNoGyBOuOHmmkMLNnzhxYoCUsKbgxppT\n",
    "iNHYRl8pbQ+02lJocQ14B5yPIZLtUbgH3Iu4ehhLjxOP5+Eu8fjxOCybU5o6H0vX1izN3qAGFLSW\n",
    "AxUuLQ8zFpESkAcd68qDTnxapnF9gReLCOBYSBqnAISBDMCIBQV4wqgn4x0QH8HKcg7qv7j+1M05\n",
    "H3mhdZ7ZOeh68x8Mpf4PcKRHPpm4Ho+APFII0dJNnt59993geWDd2U/jGHVs8kyDH/nl7SYKGFx8\n",
    "fwBoVCOMNFAKA47n3HgbeBO4/tyH9ih+H/x++zaKEBa3jmhT9W3f9rjuKjen4EVSnfI84G3F89Ka\n",
    "pdnh5mb47JG4og4N+7FcQBjf9lknOZZw4nMcYf6D8+Ny0wlnxBvv2vr5iO/bnJt4PATscyg5nv1+\n",
    "DEvAJD3y6flBiev7yIP/uCj59WM8nGVT5yDM7wHX7OflXKTr523P4veCJfcBDw0vi8ZHB5ZqGQUw\n",
    "98TvX7p6GnhgzS0YnK997Ws3nTe+3pql2d1yvwG+3pS63Grbw+LbcXVJ33aJh/t6+nZ8/VbqEt+O\n",
    "7/cwl/R9H6XtWdKvE+8Jj+Wf/umfQs8BBSX78NJoCMUT8wISiR8LWOyjOoP358J+9vl6UxoX4rqy\n",
    "L76OsGQ05Re/+MW/CXdtzdKscCeSiAsgAKSvUxWiisL8afSSUN0hHOAdboDC88LCAz1VMbaJx7Gf\n",
    "+9znQs8DbjNVLxpZHVDeGaerlbgoIyEZdIRXh7fHPtLgWHpF3HPgHHgEtOEwHBqvwuHGm+Ac3kCL\n",
    "tmZJ4E6k2QUIHDqvItHrQBsMXY60dbAOPLRhABZtEVRTmBCR8RG0bzBYiUFEVGFoGwE6XgABUHoi\n",
    "eNMLGDmW/XSlMraAgoJRkXgIQM8AKBpuaeyl8ZPGTtxvzsdEDMxwynloAKZr9POf/3zIG4UBPToO\n",
    "dgJ3Ip95icPt61huYKMhkZ4CrDeWkgZSxhQAJPA9/PDDoSGVdg8A/vrXvx7gxtJ+6UtfCvtIj94R\n",
    "H6lITwUjGxnKTEEB8HRbkj4NrPTKEEZesOL0ejDmgvYSH3DFOdhPI+zf//3fB88hPh4hXmVorZLA\n",
    "nUizCxDE4Uax3FhTQKa+DTz0qtDtiFtODwM9JbyeSXcp4xWYRQWrihXFA8ByUycmXdz1mTNnhgFD\n",
    "GRkZIT7WG8vOkGKsP+43BQpdn3Rzep6AHdefdBmujMvuDaTA/b/+1/8KQ4TpLSGvfhzamiWBO5F7\n",
    "Ig61K2MF6H7EpQaSbdu2BXcZV5ruUeBmXALWmO5IP87deiD7whe+0PC9bcIYJ0AdnoKCcQu8hYgF\n",
    "965Y4jGWgfcbeD+bbTwCxjJQkAA31hkLT92cNIEbt5yuTgoaxjKQB89Pa5YE7kSaXRwEYGGJS4vl\n",
    "xooCskPCQCe6nYAetxyo+SQvA5VwyVEsNXVjLCut5TRw+TgGGsKIzwhG0iIuw5KpiwMvcWhUY2AT\n",
    "DWfUvxmUBNy49+QDV57qQBzuf/7nfw7nw3LjGVClIG5r77pM4E6k2QUQHGAX4KVPm1GKLsCMlWXy\n",
    "Qa/zEocRiPSHY8UZo+/jBGiEY/Qj9WniUn/GvWYbcPEOGDDE8Of4tEi43dTlaazD1ScPfj5GT+LW\n",
    "u/uNN0B7AOukz4QPFEhtQRK4E0mknUoCdyKJtFNJ4E4kkXYqCdyJJNJOJYE7kUTaqSRwJ5JIO5UE\n",
    "7kQSaaeSwJ1IIu1UErgTSaSdSgJ3Iom0U0ngTiSRdioJ3Ikk0k4lgTuRRNqpJHAnkkg7lQTuRBJp\n",
    "p5LAnUgi7VQSuBNJpJ1KAnciibRTSeBOJJF2KgnciSTSTiWBO5FE2ql8Krh9VstEE0307ujdlMRy\n",
    "J5JIO5UE7kQSaaeSwJ1IIu1UErgTSaRdivT/AzvXpaEfpYP/AAAAAElFTkSuQmCC)\n"
   ]
  },
  {
   "cell_type": "code",
   "execution_count": 11,
   "metadata": {
    "scrolled": true
   },
   "outputs": [
    {
     "data": {
      "text/plain": [
       "NBitcoin.Key\n",
       "Main KxyfTr8pqayFNkez3sFUECARCgfWtwNGqt6sHLg5vYH3baqTf8qh\n",
       "Test cPLevm8gGefWYC8FSH4bbWfUpuxvZPTxuvFLPm8bRew3rKzFF1N9\n",
       "Wif Main KxyfTr8pqayFNkez3sFUECARCgfWtwNGqt6sHLg5vYH3baqTf8qh\n",
       "Wif Test cPLevm8gGefWYC8FSH4bbWfUpuxvZPTxuvFLPm8bRew3rKzFF1N9\n"
      ]
     },
     "metadata": {},
     "output_type": "display_data"
    }
   ],
   "source": [
    "let secret:Key =  Wallet.PrivateKey\n",
    "\n",
    "printfn \"%A\" secret \n",
    "printfn \"Main %A\" (Wallet.BitcoinSecretMain secret) // Bitcoin Secret or...\n",
    "printfn \"Test %A\" (Wallet.BitcoinSecretTest secret) // Bitcoin Secret or...\n",
    "printfn \"Wif Main %A\" (Wallet.WifMain secret) //wallet import format\n",
    "printfn \"Wif Test %A\" (Wallet.WifTest secret) //wallet import format\n"
   ]
  },
  {
   "cell_type": "code",
   "execution_count": null,
   "metadata": {},
   "outputs": [],
   "source": []
  },
  {
   "cell_type": "code",
   "execution_count": 12,
   "metadata": {},
   "outputs": [],
   "source": [
    "type Wallet with\n",
    "     static member BitCoinAddressMain (k:Key) = \n",
    "        Wallet.PublicKey(k).GetAddress(Network.Main) \n",
    "     static member BitCoinAddressTest  (k:Key) = \n",
    "        Wallet.PublicKey(k).GetAddress(Network.TestNet) \n",
    "     static member PublicKeyHash (k:Key) = \n",
    "        Wallet.PublicKey(k).Hash \n",
    "     static member BitCoinAddressMain2 (k:Key) = \n",
    "        Wallet.PublicKey(k).Hash.GetAddress(Network.Main) \n",
    "     static member BitCoinAddressTest2  (k:Key) = \n",
    "        Wallet.PublicKey(k).Hash.GetAddress(Network.TestNet) "
   ]
  },
  {
   "cell_type": "code",
   "execution_count": null,
   "metadata": {},
   "outputs": [],
   "source": []
  },
  {
   "cell_type": "code",
   "execution_count": 13,
   "metadata": {},
   "outputs": [
    {
     "data": {
      "text/plain": [
       "Bitcoin Address 03830b579c4d6702891ae25aeb20f4ebb66f7946e6aee11090ff68848e72c5e015\n",
       "Bitcoin Main Address 16cX5JoxMvkMqShzw9StoicWPDDz1rQx4w\n",
       "Bitcoin Test Address mm8UNMtwAxBccZBceiRGddpqFCpgwd8RGw\n",
       "Bitcoin Hash Address 3d904ad4c70bd80658752009eab84ecf522d5761\n"
      ]
     },
     "metadata": {},
     "output_type": "display_data"
    }
   ],
   "source": [
    "let BitCoinAddressMain = Wallet.BitCoinAddressMain secret\n",
    "let BitCoinAddressTest = Wallet.BitCoinAddressTest secret\n",
    "let PublicKeyHash = Wallet.PublicKeyHash secret\n",
    "\n",
    "printfn \"Bitcoin Address %A\" (Wallet.PublicKey secret)\n",
    "printfn \"Bitcoin Main Address %A\" BitCoinAddressMain\n",
    "printfn \"Bitcoin Test Address %A\" BitCoinAddressTest\n",
    "printfn \"Bitcoin Hash Address %A\" PublicKeyHash\n"
   ]
  },
  {
   "cell_type": "markdown",
   "metadata": {},
   "source": [
    "Bitcoin uses a scripting system for transactions. Forth-like, **Script** is simple, stack-based, and processed from left to right. It is intentionally **not Turing-complete**, with no loops."
   ]
  },
  {
   "cell_type": "code",
   "execution_count": 15,
   "metadata": {},
   "outputs": [],
   "source": [
    "type Script = \n",
    "   static member PublicKeyHash (Pk:string) = \n",
    "       new KeyId(Pk) \n",
    "   static member Main  (Pk:string) = \n",
    "       Script.PublicKeyHash(Pk).GetAddress(Network.Main).ScriptPubKey\n",
    "   static member Test  (Pk:string) = \n",
    "       Script.PublicKeyHash(Pk).GetAddress(Network.TestNet).ScriptPubKey \n",
    "   static member Main  (k:Key)  = \n",
    "       Wallet.PublicKeyHash(k).GetAddress(Network.Main).ScriptPubKey \n",
    "   static member Test  (k:Key)  = \n",
    "       Wallet.PublicKeyHash(k).GetAddress(Network.TestNet).ScriptPubKey \n",
    "   static member BitCoinAddressMain (k:Key) = \n",
    "      Script.Main(k).GetDestinationAddress(Network.Main)\n",
    "   static member BitCoinAddressTest  (k:Key) = \n",
    "      Script.Main(k).GetDestinationAddress(Network.TestNet)"
   ]
  },
  {
   "cell_type": "code",
   "execution_count": null,
   "metadata": {},
   "outputs": [],
   "source": []
  },
  {
   "cell_type": "code",
   "execution_count": 19,
   "metadata": {},
   "outputs": [
    {
     "data": {
      "text/plain": [
       "Bitcoin Main Script 1BWoanWjqDnbyGyaSQodR5jNzHcDXreBG6\n",
       "Bitcoin Test Script mr2ksqbieFDrkPTC9yn1EzwhrHCvTX96K5\n"
      ]
     },
     "metadata": {},
     "output_type": "display_data"
    }
   ],
   "source": [
    "printfn \"Bitcoin Main Script %A\" (Script.BitCoinAddressMain secret)\n",
    "printfn \"Bitcoin Test Script %A\" (Script.BitCoinAddressTest secret)"
   ]
  },
  {
   "cell_type": "code",
   "execution_count": 16,
   "metadata": {},
   "outputs": [
    {
     "data": {
      "text/plain": [
       "Bitcoin Main Script OP_DUP OP_HASH160 3d904ad4c70bd80658752009eab84ecf522d5761 OP_EQUALVERIFY OP_CHECKSIG\n",
       "Bitcoin Test Script OP_DUP OP_HASH160 3d904ad4c70bd80658752009eab84ecf522d5761 OP_EQUALVERIFY OP_CHECKSIG\n"
      ]
     },
     "metadata": {},
     "output_type": "display_data"
    }
   ],
   "source": [
    "\n",
    "printfn \"Bitcoin Main Script %A\" (Script.Main secret)\n",
    "printfn \"Bitcoin Test Script %A\" (Script.Test secret)"
   ]
  },
  {
   "cell_type": "markdown",
   "metadata": {},
   "source": [
    "[You need a certain (huge) amount of Testnet Bitcoins?](https://testnet.manu.backend.hamburg/faucet)"
   ]
  },
  {
   "cell_type": "code",
   "execution_count": 17,
   "metadata": {},
   "outputs": [
    {
     "data": {
      "text/plain": [
       "Secret: [\"*\"; \"*\"; \"*\"; \"*\"; \"*\"; \"*\"; \"*\"; \"*\"; \"*\"; \"*\"; \"*\"; \"*\"; \"*\"; \"*\"; \"*\"; \"*\";\n",
       " \"*\"; \"*\"; \"*\"; \"*\"; \"*\"; \"*\"; \"*\"; \"*\"; \"*\"; \"*\"; \"*\"; \"*\"; \"*\"; \"*\"; \"*\"; \"*\";\n",
       " \"*\"; \"*\"; \"*\"; \"*\"; \"*\"; \"*\"; \"*\"; \"*\"; \"*\"; \"*\"; \"*\"; \"*\"; \"*\"; \"*\"; \"*\"; \"*\";\n",
       " \"*\"; \"*\"; \"*\"; \"*\"]\n"
      ]
     },
     "metadata": {},
     "output_type": "display_data"
    }
   ],
   "source": [
    "open FSharp.Data\n",
    "open FSharp.Data.JsonExtensions\n",
    "\n",
    "type secretJson = JsonProvider<\"\"\"{\n",
    "  \"secret\": \"\"\n",
    "}\"\"\">\n",
    "      \n",
    "let sj = secretJson.GetSample()\n",
    "//printfn \"%A\" sj \n",
    "  \n",
    "let json_uri = @\"/home/nbuser/library/secret.json\"\n",
    "let wwif = secretJson.Load(json_uri).JsonValue?secret.AsString()  \n",
    "\n",
    "printfn \"Secret: %A\" (wwif.ToCharArray() |> Array.toList |> List.map (fun x-> \"*\")) \n",
    "\n",
    "//printfn \"Secret: %A\" (wwif)"
   ]
  },
  {
   "cell_type": "code",
   "execution_count": 18,
   "metadata": {},
   "outputs": [
    {
     "data": {
      "text/plain": [
       "mnnaUEKBKJVFjCqVnVPmwefk6CwuVsyRRj\n",
       "4fbd5152456bee3dc0ffe25118a6de17126e5c19\n"
      ]
     },
     "metadata": {},
     "output_type": "display_data"
    }
   ],
   "source": [
    "let old_key = Key.Parse(wwif, Network.TestNet) \n",
    "\n",
    "//printfn \"%A\" (old_key.GetWif(Network.TestNet).ToString())\n",
    "printfn \"%A\" (Script.BitCoinAddressTest old_key)\n",
    "printfn \"%A\" (Wallet.PublicKeyHash old_key)\n",
    "\n",
    "//Sent! TX ID: 516c43b617a6fa6dee5f3e9b34d99365b3b89d1381dc9aebcca1e8822c8cb5f4"
   ]
  },
  {
   "cell_type": "code",
   "execution_count": null,
   "metadata": {},
   "outputs": [],
   "source": []
  },
  {
   "cell_type": "code",
   "execution_count": null,
   "metadata": {},
   "outputs": [],
   "source": []
  }
 ],
 "metadata": {
  "kernelspec": {
   "display_name": "F#",
   "language": "fsharp",
   "name": "ifsharp"
  },
  "language": "fsharp",
  "language_info": {
   "codemirror_mode": "",
   "file_extension": ".fs",
   "mimetype": "text/x-fsharp",
   "name": "fsharp",
   "nbconvert_exporter": "",
   "pygments_lexer": "",
   "version": "4.3.1.0"
  }
 },
 "nbformat": 4,
 "nbformat_minor": 2
}
