{
 "cells": [
  {
   "cell_type": "code",
   "execution_count": 1,
   "metadata": {},
   "outputs": [
    {
     "data": {
      "text/plain": [
       "[|8uy; 28uy; 191uy; 253uy; 208uy; 244uy; 32uy; 14uy; 13uy; 231uy; 186uy; 244uy;\n",
       "  132uy; 158uy; 193uy; 109uy; 153uy; 5uy; 155uy; 134uy; 52uy; 231uy; 242uy; 43uy;\n",
       "  105uy; 23uy; 40uy; 76uy; 199uy; 22uy; 143uy; 121uy|]\n",
       "---------\n",
       "[|87uy; 181uy; 62uy; 236uy; 51uy; 7uy; 252uy; 175uy; 122uy; 171uy; 235uy; 5uy;\n",
       "  166uy; 132uy; 73uy; 114uy; 87uy; 27uy; 72uy; 144uy; 122uy; 182uy; 13uy; 48uy;\n",
       "  19uy; 156uy; 224uy; 231uy; 238uy; 241uy; 214uy; 122uy|]\n"
      ]
     },
     "metadata": {},
     "output_type": "display_data"
    }
   ],
   "source": [
    "#load \"Paket.fsx\"\n",
    "Paket.Package\n",
    "    [\"Curve25519 -Version 1.0.1\"\n",
    "     \"DotNetAES -Version 1.0.1\"\n",
    "     \"NBitcoin.Mono -Version 3.0.0.47\"\n",
    "    ]    \n",
    "  \n",
    "#load \"Paket.Generated.Refs.fsx\"\n",
    "\n",
    "open System.Security.Cryptography\n",
    "open System.Net.Security \n",
    "open System \n",
    "open System.IO \n",
    "open System.Text \n",
    "open Elliptic\n",
    "open NBitcoin\n",
    "open NBitcoin.Crypto   \n",
    "open DotNetAES\n",
    "\n",
    "// ALICE\n",
    "let aliceRandomBytes = Array.zeroCreate 32\n",
    "for i in 0..9 do\n",
    "   aliceRandomBytes.[i] <- byte(i*i)\n",
    "   \n",
    "RNGCryptoServiceProvider.Create().GetBytes(aliceRandomBytes) \n",
    "\n",
    "let alicePrivate = Curve25519.ClampPrivateKey(aliceRandomBytes)\n",
    "let alicePublic = Curve25519.GetPublicKey(alicePrivate)\n",
    "\n",
    "printfn \"%A\" alicePrivate\n",
    "printfn \"---------\" \n",
    "printfn \"%A\" alicePublic\n"
   ]
  },
  {
   "cell_type": "code",
   "execution_count": null,
   "metadata": {},
   "outputs": [],
   "source": []
  },
  {
   "cell_type": "code",
   "execution_count": 2,
   "metadata": {},
   "outputs": [
    {
     "data": {
      "text/plain": [
       "[|144uy; 41uy; 63uy; 234uy; 168uy; 170uy; 234uy; 200uy; 228uy; 234uy; 35uy;\n",
       "  186uy; 138uy; 252uy; 181uy; 133uy; 103uy; 229uy; 161uy; 203uy; 109uy; 212uy;\n",
       "  32uy; 54uy; 13uy; 222uy; 89uy; 35uy; 195uy; 104uy; 234uy; 107uy|]\n",
       "[|218uy; 199uy; 253uy; 150uy; 110uy; 68uy; 8uy; 201uy; 40uy; 74uy; 123uy; 218uy;\n",
       "  237uy; 27uy; 24uy; 29uy; 178uy; 92uy; 88uy; 71uy; 211uy; 41uy; 141uy; 229uy;\n",
       "  246uy; 16uy; 76uy; 129uy; 175uy; 138uy; 108uy; 3uy|]\n"
      ]
     },
     "metadata": {},
     "output_type": "display_data"
    }
   ],
   "source": [
    "// BOB\n",
    "let bobRandomBytes = Array.zeroCreate 32\n",
    "for i in 0..9 do\n",
    "   bobRandomBytes.[i] <- byte(i*i)\n",
    "   \n",
    "RNGCryptoServiceProvider.Create().GetBytes(bobRandomBytes);\n",
    "\n",
    "let bobPrivate = Curve25519.ClampPrivateKey(bobRandomBytes)\n",
    "let bobPublic = Curve25519.GetPublicKey(bobPrivate)\n",
    " \n",
    "\n",
    "printfn \"%A\" bobPrivate\n",
    "printfn \"%A\" bobPublic\n"
   ]
  },
  {
   "cell_type": "code",
   "execution_count": null,
   "metadata": {},
   "outputs": [],
   "source": []
  },
  {
   "cell_type": "code",
   "execution_count": 3,
   "metadata": {},
   "outputs": [
    {
     "data": {
      "text/plain": [
       " Verifica: true\n",
       "[|24uy; 125uy; 122uy; 231uy; 210uy; 50uy; 103uy; 255uy; 107uy; 223uy; 156uy;\n",
       "  85uy; 50uy; 86uy; 125uy; 118uy; 79uy; 112uy; 54uy; 219uy; 83uy; 71uy; 18uy;\n",
       "  117uy; 145uy; 132uy; 156uy; 195uy; 28uy; 86uy; 193uy; 9uy|]\n"
      ]
     },
     "metadata": {},
     "output_type": "display_data"
    }
   ],
   "source": [
    "// what Alice does with Bob's public key\n",
    "let aliceShared = Curve25519.GetSharedSecret(alicePrivate, bobPublic) \n",
    "\n",
    "// what Bob does with Alice' public key\n",
    "let bobShared = Curve25519.GetSharedSecret(bobPrivate, alicePublic) \n",
    "\n",
    "printfn \" Verifica: %A\" (aliceShared = bobShared)\n",
    "\n",
    "printfn \"%A\" bobShared"
   ]
  },
  {
   "cell_type": "code",
   "execution_count": null,
   "metadata": {},
   "outputs": [],
   "source": []
  },
  {
   "cell_type": "code",
   "execution_count": 4,
   "metadata": {},
   "outputs": [
    {
     "data": {
      "text/plain": [
       "Encrypted \"NnDVEQ03ffXKuZPbalL3evYKadObbzA7abtIrlnbyEUu9EkY9CARbFOqBSlmG8ZFMRwt1pLILX+Vmt12PZQeEKnwSbElNN3NnkvE98yesFE=\"\n",
       "---------------------\n",
       "Decrypted \"questo è un messaggio segretissimo!!!!\"\n"
      ]
     },
     "metadata": {},
     "output_type": "display_data"
    }
   ],
   "source": [
    "let message = \"questo è un messaggio segretissimo!!!!\";\n",
    " \n",
    "let biv:byte[] = AES.CreateByteIV();\n",
    "\n",
    "//Encrypts the string\n",
    "let encryptedString = AES.EncryptToString(message, bobShared, biv) \n",
    " \n",
    "\n",
    "printfn \"Encrypted %A\" encryptedString \n",
    "printfn \"---------------------\" \n",
    "\n",
    "let decryptedString = AES.DecryptToType<string>(encryptedString, bobShared, biv) \n",
    "printfn \"Decrypted %A\" decryptedString \n",
    " \n",
    " "
   ]
  },
  {
   "cell_type": "code",
   "execution_count": null,
   "metadata": {},
   "outputs": [],
   "source": []
  },
  {
   "cell_type": "code",
   "execution_count": 5,
   "metadata": {},
   "outputs": [],
   "source": [
    "let alice_secret = new Key(alicePrivate)\n",
    "let alice_wif = alice_secret.GetWif(Network.TestNet)"
   ]
  },
  {
   "cell_type": "code",
   "execution_count": 6,
   "metadata": {},
   "outputs": [
    {
     "data": {
      "text/plain": [
       "cMrUGMybUDuwPxbCVrym1F557NYBPsKpxA4VTMSF4RepaQcP29nP\n"
      ]
     },
     "metadata": {},
     "output_type": "display_data"
    }
   ],
   "source": [
    "printfn \"%A\" alice_wif"
   ]
  },
  {
   "cell_type": "code",
   "execution_count": 7,
   "metadata": {},
   "outputs": [
    {
     "data": {
      "text/plain": [
       "[|2uy; 240uy; 152uy; 198uy; 75uy; 201uy; 65uy; 223uy; 136uy; 11uy; 66uy; 133uy;\n",
       "  218uy; 149uy; 191uy; 253uy; 143uy; 234uy; 126uy; 104uy; 236uy; 58uy; 238uy;\n",
       "  133uy; 40uy; 145uy; 123uy; 230uy; 204uy; 101uy; 154uy; 134uy; 143uy|]\n"
      ]
     },
     "metadata": {},
     "output_type": "display_data"
    }
   ],
   "source": [
    "let alice_public_key = alice_secret.PubKey.ToBytes()\n",
    "printfn \"%A\" alice_public_key"
   ]
  },
  {
   "cell_type": "code",
   "execution_count": null,
   "metadata": {},
   "outputs": [],
   "source": []
  }
 ],
 "metadata": {
  "kernelspec": {
   "display_name": "F#",
   "language": "fsharp",
   "name": "ifsharp"
  },
  "language": "fsharp",
  "language_info": {
   "codemirror_mode": "",
   "file_extension": ".fs",
   "mimetype": "text/x-fsharp",
   "name": "fsharp",
   "nbconvert_exporter": "",
   "pygments_lexer": "",
   "version": "4.3.1.0"
  }
 },
 "nbformat": 4,
 "nbformat_minor": 2
}
