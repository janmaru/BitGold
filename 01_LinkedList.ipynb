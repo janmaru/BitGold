{
 "cells": [
  {
   "cell_type": "markdown",
   "metadata": {},
   "source": [
    "What is Paket?\n",
    "Paket is a **dependency manager** for **.NET** and mono projects. It is designed to work well with **NuGet** packages and also enables referencing files directly from **Git repositories** or any **HTTP resource**. "
   ]
  },
  {
   "cell_type": "code",
   "execution_count": 8,
   "metadata": {},
   "outputs": [],
   "source": [
    "#load \"Paket.fsx\"\n",
    "Paket.Package\n",
    "  [ \"Base58Check -Version 0.2.0\"   \n",
    "    \"FSharp.Data -Version 2.4.1\" \n",
    "    \"Newtonsoft.Json -Version 10.0.3\"\n",
    "  ]   \n",
    "#load \"Paket.Generated.Refs.fsx\"\n",
    "\n",
    "  \n",
    " \n",
    "open System.IO\n",
    "open System.Security.Cryptography\n",
    "open Base58Check \n",
    "\n",
    "let toStream (s:string) = \n",
    "    let stream = new MemoryStream()\n",
    "    let writer = new StreamWriter(stream)\n",
    "    writer.Write(s)\n",
    "    writer.Flush()\n",
    "    stream.Position <- 0L\n",
    "    stream"
   ]
  },
  {
   "cell_type": "code",
   "execution_count": 9,
   "metadata": {},
   "outputs": [],
   "source": [
    "let SHA256 (content:string) = \n",
    "          let hashstring = new SHA256Managed()\n",
    "          hashstring.ComputeHash(toStream(content))\n",
    "\n",
    "let SHA256Encoded bytes = \n",
    "          Base58CheckEncoding.EncodePlain bytes\n",
    "\n",
    "let SHA256EncodedPlain (content:string) = \n",
    "          Base58CheckEncoding.EncodePlain (SHA256 content)        "
   ]
  },
  {
   "cell_type": "code",
   "execution_count": null,
   "metadata": {},
   "outputs": [],
   "source": []
  },
  {
   "cell_type": "markdown",
   "metadata": {},
   "source": [
    "[Genesis Block] (http://api.qbit.ninja/blocks/000000000019d6689c085ae165831e934ff763ae46a2a6c172b3f1b60a8ce26f)"
   ]
  },
  {
   "cell_type": "code",
   "execution_count": null,
   "metadata": {},
   "outputs": [],
   "source": []
  },
  {
   "cell_type": "code",
   "execution_count": 10,
   "metadata": {},
   "outputs": [
    {
     "data": {
      "text/plain": [
       "{\n",
       "  \"hash\": \"000000000019d6689c085ae165831e934ff763ae46a2a6c172b3f1b60a8ce26f\",\n",
       "  \"ver\": 1,\n",
       "  \"prev_block\": \"0000000000000000000000000000000000000000000000000000000000000000\",\n",
       "  \"mrkl_root\": \"4a5e1e4baab89f3a32518a88c31bc87f618f76673e2cc77ab2127b7afdeda33b\",\n",
       "  \"time\": 1231006505,\n",
       "  \"bits\": 486604799,\n",
       "  \"fee\": 0,\n",
       "  \"nonce\": 2083236893,\n",
       "  \"n_tx\": 1,\n",
       "  \"size\": 285,\n",
       "  \"block_index\": 14849,\n",
       "  \"main_chain\": true,\n",
       "  \"height\": 0,\n",
       "  \"tx\": [\n",
       "    {\n",
       "      \"lock_time\": 0,\n",
       "      \"ver\": 1,\n",
       "      \"size\": 204,\n",
       "      \"inputs\": [\n",
       "        {\n",
       "          \"sequence\": 4294967295,\n",
       "          \"witness\": \"\",\n",
       "          \"script\": \"04ffff001d0104455468652054696d65732030332f4a616e2f32303039204368616e63656c6c6f72206f6e206272696e6b206f66207365636f6e64206261696c6f757420666f722062616e6b73\"\n",
       "        }\n",
       "      ],\n",
       "      \"weight\": 816,\n",
       "      \"time\": 1231006505,\n",
       "      \"tx_index\": 14849,\n",
       "      \"vin_sz\": 1,\n",
       "      \"hash\": \"4a5e1e4baab89f3a32518a88c31bc87f618f76673e2cc77ab2127b7afdeda33b\",\n",
       "      \"vout_sz\": 1,\n",
       "      \"relayed_by\": \"0.0.0.0\",\n",
       "      \"out\": [\n",
       "        {\n",
       "          \"addr_tag_link\": \"https://en.bitcoin.it/wiki/Genesis_block\",\n",
       "          \"addr_tag\": \"Genesis of Bitcoin\",\n",
       "          \"spent\": false,\n",
       "          \"tx_index\": 14849,\n",
       "          \"type\": 0,\n",
       "          \"addr\": \"1A1zP1eP5QGefi2DMPTfTL5SLmv7DivfNa\",\n",
       "          \"value\": 5000000000,\n",
       "          \"n\": 0,\n",
       "          \"script\": \"4104678afdb0fe5548271967f1a67130b7105cd6a828e03909a67962e0ea1f61deb649f6bc3f4cef38c4f35504e51ec112de5c384df7ba0b8d578a4c702b6bf11d5fac\"\n",
       "        }\n",
       "      ]\n",
       "    }\n",
       "  ]\n",
       "}\n"
      ]
     },
     "metadata": {},
     "output_type": "display_data"
    }
   ],
   "source": [
    "open FSharp.Data\n",
    "\n",
    "type block = JsonProvider<\"\"\"\n",
    "{\n",
    "    \"hash\":\"\",\n",
    "    \"ver\":0,\n",
    "    \"prev_block\":\"\",\n",
    "    \"mrkl_root\":\"\",\n",
    "    \"time\":0,\n",
    "    \"bits\":0,\n",
    "    \"nonce\":0,\n",
    "    \"n_tx\":0,\n",
    "    \"size\":0,\n",
    "    \"block_index\":0,\n",
    "    \"main_chain\":true,\n",
    "    \"height\":0,\n",
    "    \"received_time\":0,\n",
    "    \"relayed_by\":\"\",\n",
    "    \"tx\":[]\n",
    "}\"\"\">\n",
    "      \n",
    "let sblocks = block.GetSample()\n",
    "  \n",
    "let pool_uri = @\"https://blockchain.info/it/rawblock/000000000019d6689c085ae165831e934ff763ae46a2a6c172b3f1b60a8ce26f\"\n",
    "\n",
    "let block =  block.Load(pool_uri)\n",
    " \n",
    " // Print general information\n",
    "let rb = block.Hash \n",
    "\n",
    "printfn \"%A\" (block) "
   ]
  },
  {
   "cell_type": "code",
   "execution_count": null,
   "metadata": {},
   "outputs": [],
   "source": []
  },
  {
   "cell_type": "code",
   "execution_count": 11,
   "metadata": {},
   "outputs": [
    {
     "data": {
      "text/plain": [
       "Hash prev block init \"7TTGKXuhDL4XHeo2J2ZfKijhY4J8wYhPMHagzdUh6ZSQ\"\n",
       "[|41uy; 224uy; 22uy; 120uy; 114uy; 139uy; 110uy; 111uy; 136uy; 34uy; 190uy; 37uy;\n",
       "  134uy; 177uy; 224uy; 193uy; 130uy; 85uy; 89uy; 33uy; 154uy; 242uy; 150uy;\n",
       "  116uy; 18uy; 97uy; 179uy; 133uy; 48uy; 33uy; 43uy; 63uy|]\n",
       "\"3pTuCWUyJ44KXeDHJcJHRNNk1jbcz7eoraXkgS8gfTTt\"\n"
      ]
     },
     "metadata": {},
     "output_type": "display_data"
    }
   ],
   "source": [
    "\n",
    "let previous_block_data = \"\"\"0\"\"\"\n",
    "let hashInit = (SHA256EncodedPlain previous_block_data)\n",
    "printfn \"Hash prev block init %A\" hashInit\n",
    "\n",
    "let data = \"\"\"t(x1) + t(x2) + t(3)\"\"\"\n",
    "\n",
    "printfn \"%A\" (SHA256 data)\n",
    "let hashData = (SHA256EncodedPlain data)\n",
    "printfn \"%A\" hashData\n",
    "\n",
    "let sum = hashData + \"|\" + hashInit\n",
    "let hashBlock = SHA256EncodedPlain sum\n"
   ]
  },
  {
   "cell_type": "code",
   "execution_count": null,
   "metadata": {},
   "outputs": [],
   "source": []
  },
  {
   "cell_type": "code",
   "execution_count": null,
   "metadata": {},
   "outputs": [],
   "source": []
  },
  {
   "cell_type": "code",
   "execution_count": null,
   "metadata": {},
   "outputs": [],
   "source": []
  },
  {
   "cell_type": "code",
   "execution_count": 12,
   "metadata": {},
   "outputs": [
    {
     "data": {
      "text/plain": [
       "System.Collections.Generic.LinkedListNode`1[FSI_0027+Block]\n"
      ]
     },
     "metadata": {},
     "output_type": "display_data"
    }
   ],
   "source": [
    "open System\n",
    "open System.Collections.Generic\n",
    "\n",
    "type Block = { PreviousHash:string; Data:string; Hash:string }\n",
    "\n",
    "let genesis =  {PreviousHash = hashInit; Data = data; Hash = hashBlock }\n",
    "\n",
    "// Create a new LinkedList.\n",
    "let blockchain = new LinkedList<Block>()\n",
    "\n",
    "let first_block= new LinkedListNode<Block>(genesis)\n",
    "\n",
    "blockchain.AddLast(first_block)\n",
    "\n",
    "printfn \"%A\" first_block"
   ]
  },
  {
   "cell_type": "code",
   "execution_count": null,
   "metadata": {},
   "outputs": [],
   "source": []
  },
  {
   "cell_type": "code",
   "execution_count": 13,
   "metadata": {},
   "outputs": [
    {
     "data": {
      "text/plain": [
       "0"
      ]
     },
     "execution_count": 13,
     "metadata": {},
     "output_type": "execute_result"
    },
    {
     "data": {
      "text/plain": [
       "Node belongs to a linked list with 1 elements.\n",
       "Previous node is null.\n",
       "Value of current node:  \n",
       "{PreviousHash = \"7TTGKXuhDL4XHeo2J2ZfKijhY4J8wYhPMHagzdUh6ZSQ\";\n",
       " Data = \"t(x1) + t(x2) + t(3)\";\n",
       " Hash = \"FFpCGaPwPRpDoqjpHGuu5uaFigTgMU4DxuBENRxJDjTz\";}\n",
       "Next node is null.\n"
      ]
     },
     "metadata": {},
     "output_type": "display_data"
    }
   ],
   "source": [
    "let DisplayProperties (nodes:LinkedListNode<Block>) =\n",
    "          if (nodes.List = null) then\n",
    "             printfn \"Node is not linked.\"\n",
    "          else\n",
    "             printfn \"Node belongs to a linked list with %A elements.\"  nodes.List.Count\n",
    "          if (nodes.Previous = null) then\n",
    "             printfn \"Previous node is null.\" \n",
    "          else\n",
    "             printfn \"Value of previous node: %A\"  nodes.Previous.Value\n",
    "          \n",
    "          printfn \"Value of current node:  \\n%A\"  nodes.Value     \n",
    "          if (nodes.Next = null) then\n",
    "             printfn \"Next node is null.\"\n",
    "          else\n",
    "             printfn \"Value of next node:     %A\" nodes.Next.Value         \n",
    "          0\n",
    "      \n",
    "DisplayProperties first_block"
   ]
  },
  {
   "cell_type": "code",
   "execution_count": 14,
   "metadata": {},
   "outputs": [
    {
     "data": {
      "text/html": [
       "<table><thead><tr><th>PreviousHash</th><th>Data</th><th>Hash</th></tr></thead><tbody><tr><td>7TTGKXuhDL4XHeo2J2ZfKijhY4J8wYhPMHagzdUh6ZSQ</td><td>t(x1) + t(x2) + t(3)</td><td>FFpCGaPwPRpDoqjpHGuu5uaFigTgMU4DxuBENRxJDjTz</td></tr><tbody></tbody></table>"
      ]
     },
     "execution_count": 14,
     "metadata": {},
     "output_type": "execute_result"
    }
   ],
   "source": [
    "blockchain |> Util.Table"
   ]
  },
  {
   "cell_type": "code",
   "execution_count": 17,
   "metadata": {},
   "outputs": [
    {
     "data": {
      "text/plain": [
       "System.Collections.Generic.LinkedListNode`1[FSI_0027+Block]\n"
      ]
     },
     "metadata": {},
     "output_type": "display_data"
    }
   ],
   "source": [
    "let data1 = \"\"\"t(x1)' + t(x2)' + t(3)'\"\"\"\n",
    "\n",
    "let sum1 = (SHA256EncodedPlain data1) + \"|\" + hashBlock\n",
    "let hashBlock1 = SHA256EncodedPlain sum1\n",
    "\n",
    "let one =  {PreviousHash = hashBlock; Data = data1; Hash = hashBlock1 }\n",
    "\n",
    "let second_block = new LinkedListNode<Block>(one)\n",
    "blockchain.AddLast(second_block)\n",
    "\n",
    "printfn \"%A\" second_block\n"
   ]
  },
  {
   "cell_type": "code",
   "execution_count": 19,
   "metadata": {},
   "outputs": [],
   "source": [
    "\n",
    "//------------------------------------------------------\n",
    "\n",
    "let data2 = \"\"\"t(x1)'' + t(x2)'' + t(3)''\"\"\"\n",
    "\n",
    "let sum2 = (SHA256EncodedPlain data2) + \"|\" + hashBlock1\n",
    "let hashBlock2 = SHA256EncodedPlain sum2\n",
    "\n",
    "let due =  {PreviousHash = hashBlock1; Data = data2; Hash = hashBlock2 }\n",
    "\n",
    "let third_block = new LinkedListNode<Block>(due)\n",
    "blockchain.AddLast(third_block)\n"
   ]
  },
  {
   "cell_type": "code",
   "execution_count": 9,
   "metadata": {},
   "outputs": [
    {
     "data": {
      "text/html": [
       "<table><thead><tr><th>PreviousHash</th><th>Data</th><th>Hash</th></tr></thead><tbody><tr><td>7TTGKXuhDL4XHeo2J2ZfKijhY4J8wYhPMHagzdUh6ZSQ</td><td>t(x1) + t(x2) + t(3)</td><td>FFpCGaPwPRpDoqjpHGuu5uaFigTgMU4DxuBENRxJDjTz</td></tr><tr><td>FFpCGaPwPRpDoqjpHGuu5uaFigTgMU4DxuBENRxJDjTz</td><td>t(x1)&#39; + t(x2)&#39; + t(3)&#39;</td><td>7DYwN5hHovwwHDdWf77eP1PX6z235294H74p3B6ZQfNt</td></tr><tr><td>7DYwN5hHovwwHDdWf77eP1PX6z235294H74p3B6ZQfNt</td><td>t(x1)&#39;&#39; + t(x2)&#39;&#39; + t(3)&#39;&#39;</td><td>9eXUMhKXzDPa27GDDPaomehg46vLK2XBfgRPzJrjLdc3</td></tr><tbody></tbody></table>"
      ]
     },
     "execution_count": 9,
     "metadata": {},
     "output_type": "execute_result"
    }
   ],
   "source": [
    "//------------------------------------------------------\n",
    "blockchain |> Util.Table\n"
   ]
  },
  {
   "cell_type": "code",
   "execution_count": 20,
   "metadata": {},
   "outputs": [
    {
     "data": {
      "text/html": [
       "<table><thead><tr><th>PreviousHash</th><th>Data</th><th>Hash</th></tr></thead><tbody><tr><td>FFpCGaPwPRpDoqjpHGuu5uaFigTgMU4DxuBENRxJDjTz</td><td>t(x1)&#39; + t(x2)&#39; + t(3)&#39;</td><td>7DYwN5hHovwwHDdWf77eP1PX6z235294H74p3B6ZQfNt</td></tr><tr><td>7DYwN5hHovwwHDdWf77eP1PX6z235294H74p3B6ZQfNt</td><td>t(x1)&#39;&#39; + t(x2)&#39;&#39; + t(3)&#39;&#39;</td><td>9eXUMhKXzDPa27GDDPaomehg46vLK2XBfgRPzJrjLdc3</td></tr><tr><td>FFpCGaPwPRpDoqjpHGuu5uaFigTgMU4DxuBENRxJDjTz</td><td>t(x1)&#39; + t(x2)&#39; + t(3)&#39;</td><td>7DYwN5hHovwwHDdWf77eP1PX6z235294H74p3B6ZQfNt</td></tr><tr><td>7DYwN5hHovwwHDdWf77eP1PX6z235294H74p3B6ZQfNt</td><td>t(x1)&#39;&#39; + t(x2)&#39;&#39; + t(3)&#39;&#39;</td><td>9eXUMhKXzDPa27GDDPaomehg46vLK2XBfgRPzJrjLdc3</td></tr><tr><td>7DYwN5hHovwwHDdWf77eP1PX6z235294H74p3B6ZQfNt</td><td>t(x1)&#39;&#39; + t(x2)&#39;&#39; + t(3)&#39;&#39;</td><td>9eXUMhKXzDPa27GDDPaomehg46vLK2XBfgRPzJrjLdc3</td></tr><tr><td>7TTGKXuhDL4XHeo2J2ZfKijhY4J8wYhPMHagzdUh6ZSQ</td><td>t(x1) + t(x2) + t(3)</td><td>FFpCGaPwPRpDoqjpHGuu5uaFigTgMU4DxuBENRxJDjTz</td></tr><tbody></tbody></table>"
      ]
     },
     "execution_count": 20,
     "metadata": {},
     "output_type": "execute_result"
    }
   ],
   "source": [
    "// Move the first node to be the last node.\n",
    "let genesis_bis:LinkedListNode<Block> = blockchain.First\n",
    "blockchain.RemoveFirst()\n",
    "blockchain.AddLast(genesis_bis)\n",
    "\n",
    "blockchain |> Util.Table"
   ]
  },
  {
   "cell_type": "code",
   "execution_count": null,
   "metadata": {},
   "outputs": [],
   "source": []
  }
 ],
 "metadata": {
  "kernelspec": {
   "display_name": "F#",
   "language": "fsharp",
   "name": "ifsharp"
  },
  "language": "fsharp",
  "language_info": {
   "codemirror_mode": "",
   "file_extension": ".fs",
   "mimetype": "text/x-fsharp",
   "name": "fsharp",
   "nbconvert_exporter": "",
   "pygments_lexer": "",
   "version": "4.3.1.0"
  }
 },
 "nbformat": 4,
 "nbformat_minor": 2
}
