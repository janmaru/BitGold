{
 "cells": [
  {
   "cell_type": "code",
   "execution_count": 1,
   "metadata": {},
   "outputs": [],
   "source": [
    "open System.Linq\n",
    "\n",
    "type MerkleHash = byte[]\n",
    "\n",
    "type MerkleNode = { \n",
    "    Hash: MerkleHash;\n",
    "    Left: MerkleNode option;\n",
    "    Right: MerkleNode option;\n",
    "    Id: string;\n",
    "} with \n",
    "    member this.IsLeaf = (Option.isNone this.Left) && (Option.isNone this.Right)\n",
    "//true if the option is None.\n",
    "\n",
    "type MerkleTree = {\n",
    "    RootNode: MerkleNode;\n",
    "    Depth: int;\n",
    "    Leaves: int;\n",
    "} with \n",
    "    member this.RootHash = this.RootNode.Hash \n",
    "\n",
    "module Constants =\n",
    "    let hashLength = 32\n",
    "\n",
    "module MerkleHash =\n",
    "    let ofByteArray (buffer:byte[]) : MerkleHash = System.Security.Cryptography.SHA256.Create().ComputeHash(buffer)\n",
    "\n",
    "    let ofString (buffer:string) = System.Text.Encoding.UTF8.GetBytes(buffer) |> ofByteArray\n",
    "\n",
    "    let concat (hash1:MerkleHash) (hash2:MerkleHash) = Array.concat [hash1; hash2] |> ofByteArray\n",
    "\n",
    "    let toString (mh:MerkleHash) = System.BitConverter.ToString(mh).Replace(\"-\", \"\")\n",
    "\n",
    "    let eq (hash1:MerkleHash) (hash2:MerkleHash) = hash1 = hash2 || hash1.SequenceEqual(hash2)\n",
    "\n",
    "\n",
    "module MerkleNode =\n",
    "    let leaf hash id = { Hash = hash; Id = id; Left = None; Right = None; }\n",
    "\n",
    "    let ofNodes left right =\n",
    "        let mh, leftId, rightId =\n",
    "            match left, right with\n",
    "            | l, Some r -> MerkleHash.concat l.Hash r.Hash, l.Id, r.Id\n",
    "            | l, None -> l.Hash, l.Id, \"<None>\"\n",
    "        let id = sprintf \"\\\"%s\\\"-\\\"%s\\\"\" leftId rightId\n",
    "        { Hash = mh; Id = id; Left = Some left; Right = right; }\n",
    "\n",
    "    let ofNodesTuple (left, right) = ofNodes left right\n",
    "\n",
    "    let rec createBranchWithDepth depth leaf =\n",
    "        match depth with\n",
    "        | 0 -> failwith \"Cannot create branch with depth 0\"\n",
    "        | 1 -> leaf\n",
    "        | _ -> ofNodes (createBranchWithDepth (depth - 1) leaf) None\n",
    "\n",
    "    let verifyHash node =\n",
    "            match node.Left, node.Right with\n",
    "            | None, None -> true\n",
    "            | None, _ -> failwith \"Left branch must be a node  if right branch is a node\"\n",
    "            | Some left, None -> MerkleHash.eq node.Hash left.Hash\n",
    "            | Some left, Some right -> \n",
    "                MerkleHash.concat left.Hash right.Hash \n",
    "                |> MerkleHash.eq node.Hash\n",
    "\n",
    "    let eq node1 node2 = MerkleHash.eq node1.Hash node2.Hash\n",
    "\n",
    "\n",
    "module MerkleTree = \n",
    "    module private Append =\n",
    "        type AppendAction = Handled of MerkleNode | Unhandled of MerkleNode\n",
    "        type NodeType = \n",
    "            | Leaf \n",
    "            | FullInternalEdge \n",
    "            | EmptyInternalEdge of left: MerkleNode \n",
    "            | EmptyInternal of left: MerkleNode \n",
    "            | FullInternal of left:MerkleNode * right: MerkleNode\n",
    "\n",
    "        let getNodeType node = \n",
    "            match node.Left, node.Right with\n",
    "            | None, None -> Leaf\n",
    "            | None, _ -> failwith \"Invalid tree with only left node\"\n",
    "            | Some l, None -> \n",
    "                match l.IsLeaf with\n",
    "                | true -> EmptyInternalEdge l\n",
    "                | false -> EmptyInternal l\n",
    "            | Some l, Some r ->\n",
    "                match l.IsLeaf with\n",
    "                | true -> FullInternalEdge\n",
    "                | false -> FullInternal (l, r)\n",
    "\n",
    "        \n",
    "        let append leaf tree =\n",
    "            let rec tryAppend currentHeight node =\n",
    "                let nextHeight = currentHeight - 1\n",
    "                let nodeType = getNodeType node\n",
    "                match nodeType with\n",
    "                | Leaf -> Unhandled node\n",
    "                | EmptyInternalEdge l -> Handled (MerkleNode.ofNodes l (Some leaf))\n",
    "                | FullInternalEdge -> Unhandled node\n",
    "                | EmptyInternal l -> \n",
    "                    let action = tryAppend nextHeight l\n",
    "                    match action with\n",
    "                    | Handled n -> Handled (MerkleNode.ofNodes n None)\n",
    "                    | Unhandled _ -> \n",
    "                        //create new path to the right that is the full height\n",
    "                        let r = MerkleNode.createBranchWithDepth nextHeight leaf\n",
    "                        Handled (MerkleNode.ofNodes l (Some r))\n",
    "                | FullInternal (l, r) -> \n",
    "                    let action = tryAppend nextHeight r\n",
    "                    //if right path changed, create new node. otherwise use old node\n",
    "                    match action with\n",
    "                    | Handled n -> Handled (MerkleNode.ofNodes l (Some n))\n",
    "                    | Unhandled _ -> Unhandled node\n",
    "\n",
    "            let appendResult = tryAppend tree.Depth tree.RootNode\n",
    "\n",
    "            match appendResult with\n",
    "            | Handled n -> { RootNode = n; Depth = tree.Depth; Leaves = tree.Leaves + 1; }\n",
    "            | Unhandled n -> \n",
    "                let right = MerkleNode.createBranchWithDepth tree.Depth leaf\n",
    "                let newRoot = MerkleNode.ofNodes n (Some right)\n",
    "                { RootNode = newRoot; Depth = tree.Depth + 1; Leaves = tree.Leaves + 1; }\n",
    "\n",
    "\n",
    "    let create leaves = \n",
    "        let rec loop depth nodes =\n",
    "            match Seq.length nodes with\n",
    "            | 1 -> { RootNode =  Seq.head nodes; Depth = depth; Leaves = (Seq.length leaves); }\n",
    "            | _ -> \n",
    "                nodes\n",
    "                |> Seq.chunkBySize 2\n",
    "                |> Seq.map (fun chunk -> (Array.item 0 chunk, Array.tryItem 1 chunk))\n",
    "                |> Seq.map MerkleNode.ofNodesTuple\n",
    "                |> loop (depth + 1)\n",
    "        loop 1 leaves\n",
    "\n",
    "    let append = Append.append\n",
    "\n",
    "    //returns the root hash of the recalculated path using hte given hash for the nth item\n",
    "    let verifyNth n hash tree =\n",
    "        let rec loop n height node =\n",
    "            match height with\n",
    "            | 0 -> failwith \"Could not locate nth node due to empty tree\"\n",
    "            | 1 -> hash\n",
    "            | _ -> \n",
    "                //todo this needs to use the NodeType to traverse the tree.\n",
    "                //pull out generic traversal and pass in a fn for handling the node types\n",
    "                let nextHeight = height - 1\n",
    "                let totalDescendants = 2.0 ** ((float height) - 1.0)\n",
    "                let midpoint = int (totalDescendants / 2.0)\n",
    "                let nextN, nextNode = \n",
    "                    match n <= midpoint, node.Left, node.Right with\n",
    "                    | true, Some l, _ -> n, l\n",
    "                    | false, _, Some r -> (n - midpoint), r\n",
    "                    | _ -> failwith \"Attempting to find nth item which does not exist\"\n",
    "                loop nextN nextHeight nextNode\n",
    "        loop n tree.Depth tree.RootNode\n",
    "        \n",
    "      "
   ]
  },
  {
   "cell_type": "markdown",
   "metadata": {},
   "source": [
    "\"MerkleHash is a **SHA256** hash\""
   ]
  },
  {
   "cell_type": "code",
   "execution_count": 2,
   "metadata": {},
   "outputs": [
    {
     "data": {
      "text/plain": [
       "\"26EA0AE294881F1260ECAFEC008426894E80BC4D7DC1CD6557AB9169E1A803EE\"\n"
      ]
     },
     "metadata": {},
     "output_type": "display_data"
    }
   ],
   "source": [
    "let hash = MerkleHash.ofString \"Test 1\"\n",
    "let hashString = MerkleHash.toString hash\n",
    "\n",
    "printfn \"%A\" hashString"
   ]
  },
  {
   "cell_type": "markdown",
   "metadata": {},
   "source": [
    "\"MerkleHash.ofString with different strings are not equal\""
   ]
  },
  {
   "cell_type": "code",
   "execution_count": 3,
   "metadata": {},
   "outputs": [
    {
     "data": {
      "text/plain": [
       "false\n"
      ]
     },
     "metadata": {},
     "output_type": "display_data"
    }
   ],
   "source": [
    "let h1 = MerkleHash.ofString \"Test 1\"\n",
    "let h2 = MerkleHash.ofString \"Test 2\"\n",
    "let h3 = MerkleHash.ofString \"Test 3\"\n",
    "\n",
    "printfn \"%A\" (h1=h2)"
   ]
  },
  {
   "cell_type": "code",
   "execution_count": null,
   "metadata": {},
   "outputs": [],
   "source": []
  },
  {
   "cell_type": "code",
   "execution_count": 5,
   "metadata": {},
   "outputs": [],
   "source": [
    "let createNode text = MerkleHash.ofString text |> MerkleNode.leaf\n",
    "let node1 = createNode \"Test 1\" \"1\"\n",
    "let node2 = createNode \"Test 2\" \"2\""
   ]
  },
  {
   "cell_type": "markdown",
   "metadata": {},
   "source": [
    "\"MerkleNode.ofNodes uses the concat of the hashes of its children\" "
   ]
  },
  {
   "cell_type": "code",
   "execution_count": 6,
   "metadata": {},
   "outputs": [
    {
     "data": {
      "text/plain": [
       "false\n",
       "false\n",
       "[|140uy; 255uy; 218uy; 40uy; 19uy; 253uy; 132uy; 168uy; 136uy; 5uy; 64uy; 41uy;\n",
       "  147uy; 192uy; 202uy; 195uy; 70uy; 99uy; 227uy; 51uy; 233uy; 33uy; 227uy; 64uy;\n",
       "  74uy; 134uy; 220uy; 202uy; 109uy; 76uy; 38uy; 207uy|]\n",
       "([|140uy; 255uy; 218uy; 40uy; 19uy; 253uy; 132uy; 168uy; 136uy; 5uy; 64uy; 41uy;\n",
       "   147uy; 192uy; 202uy; 195uy; 70uy; 99uy; 227uy; 51uy; 233uy; 33uy; 227uy; 64uy;\n",
       "   74uy; 134uy; 220uy; 202uy; 109uy; 76uy; 38uy; 207uy|], \"1\", \"2\")\n"
      ]
     },
     "metadata": {},
     "output_type": "display_data"
    }
   ],
   "source": [
    "let leaf1 = node1\n",
    "let leaf2 = node2\n",
    "\n",
    "let node = MerkleNode.ofNodes leaf1 (Some leaf2)\n",
    "\n",
    "let leaf1Hash = MerkleHash.toString leaf1.Hash\n",
    "let leaf2Hash = MerkleHash.toString leaf2.Hash\n",
    "let hashString' = MerkleHash.toString node.Hash\n",
    "\n",
    "let h1 =  leaf1Hash = hashString'\n",
    "let h2 =  leaf2Hash = hashString'\n",
    "\n",
    "printfn \"%A\" h1\n",
    "printfn \"%A\" h2\n",
    "\n",
    "let h12 =  MerkleHash.concat leaf1.Hash leaf2.Hash, leaf1.Id, leaf2.Id \n",
    "printfn \"%A\" node.Hash\n",
    "printfn \"%A\"  h12 \n",
    "\n"
   ]
  },
  {
   "cell_type": "markdown",
   "metadata": {},
   "source": [
    "The Merkle root is included in the **block header**. With this scheme, it is possible to securely verify that a transaction has been accepted by the network (and get the number of confirmations) by downloading just the tiny block headers and Merkle tree -- downloading the entire block chain is unnecessary."
   ]
  }
 ],
 "metadata": {
  "kernelspec": {
   "display_name": "F#",
   "language": "fsharp",
   "name": "ifsharp"
  },
  "language": "fsharp",
  "language_info": {
   "codemirror_mode": "",
   "file_extension": ".fs",
   "mimetype": "text/x-fsharp",
   "name": "fsharp",
   "nbconvert_exporter": "",
   "pygments_lexer": "",
   "version": "4.3.1.0"
  }
 },
 "nbformat": 4,
 "nbformat_minor": 2
}
