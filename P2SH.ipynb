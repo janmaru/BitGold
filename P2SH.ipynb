{
 "cells": [
  {
   "cell_type": "markdown",
   "metadata": {
    "collapsed": true
   },
   "source": [
    "[Project Euler #6](https://github.com/janmaru/project_euler_fsharp/blob/master/6.fsx)"
   ]
  },
  {
   "cell_type": "code",
   "execution_count": 4,
   "metadata": {},
   "outputs": [
    {
     "data": {
      "text/plain": [
       "25164150\n"
      ]
     },
     "metadata": {},
     "output_type": "display_data"
    }
   ],
   "source": [
    "let first_100 = [1..100]\n",
    "\n",
    "let sum = first_100 \n",
    "            |> List.map(fun x->x*x)\n",
    "            |> List.sum\n",
    "\n",
    "let sSum = first_100\n",
    "            |>List.sum\n",
    "\n",
    "let square = sSum *sSum \n",
    "\n",
    "let diff = square-sum\n",
    " \n",
    "printfn \"%A\"  diff"
   ]
  },
  {
   "cell_type": "code",
   "execution_count": null,
   "metadata": {},
   "outputs": [],
   "source": []
  },
  {
   "cell_type": "markdown",
   "metadata": {},
   "source": [
    "**Pay to script hash**:  a transaction  to be sent to a script hash (address starting with 3) instead of a public key hash (addresses starting with 1)."
   ]
  },
  {
   "cell_type": "code",
   "execution_count": null,
   "metadata": {},
   "outputs": [],
   "source": []
  },
  {
   "cell_type": "code",
   "execution_count": null,
   "metadata": {},
   "outputs": [],
   "source": []
  }
 ],
 "metadata": {
  "kernelspec": {
   "display_name": "F#",
   "language": "fsharp",
   "name": "ifsharp"
  },
  "language": "fsharp",
  "language_info": {
   "codemirror_mode": "",
   "file_extension": ".fs",
   "mimetype": "text/x-fsharp",
   "name": "fsharp",
   "nbconvert_exporter": "",
   "pygments_lexer": "",
   "version": "4.3.1.0"
  }
 },
 "nbformat": 4,
 "nbformat_minor": 2
}
