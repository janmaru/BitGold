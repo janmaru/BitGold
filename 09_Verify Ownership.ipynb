{
 "cells": [
  {
   "cell_type": "code",
   "execution_count": 1,
   "metadata": {},
   "outputs": [],
   "source": [
    "#load \"Paket.fsx\"\n",
    "Paket.Package\n",
    "  [ \"QBitNinja.Client -Version 1.0.3.21\"\n",
    "    \"NBitcoin -Version 3.0.0.33\"\n",
    "    \"FSharp.Data -Version 2.4.6\"\n",
    "    \"Newtonsoft.Json -Version 10.0.3\"    \n",
    "  ]    \n",
    "#load \"Paket.Generated.Refs.fsx\"\n",
    "\n",
    "open System\n",
    "open NBitcoin\n",
    "open NBitcoin.Crypto  "
   ]
  },
  {
   "cell_type": "code",
   "execution_count": 5,
   "metadata": {},
   "outputs": [],
   "source": [
    "type Wallet =\n",
    "    static member PrivateKey: Key = \n",
    "        (new Key())\n",
    "    static member PublicKey (k:Key) = \n",
    "        if (k=null) then\n",
    "          (new Key()).PubKey\n",
    "        else\n",
    "          k.PubKey \n",
    "          \n",
    "type Wallet with\n",
    "     static member BitcoinSecretMain (k:Key) = \n",
    "            if (k=null) then\n",
    "                Wallet.PrivateKey.GetBitcoinSecret(Network.Main)\n",
    "            else\n",
    "                k.GetBitcoinSecret(Network.Main)\n",
    "     static member BitcoinSecretTest (k:Key) = \n",
    "            if (k=null) then\n",
    "                Wallet.PrivateKey.GetBitcoinSecret(Network.TestNet)\n",
    "            else\n",
    "                k.GetBitcoinSecret(Network.TestNet)    \n",
    "     static member WifMain (k:Key) = \n",
    "            if (k=null) then\n",
    "                Wallet.PrivateKey.GetWif(Network.Main)\n",
    "            else\n",
    "                k.GetWif(Network.Main)\n",
    "     static member WifTest (k:Key) = \n",
    "            if (k=null) then\n",
    "                Wallet.PrivateKey.GetWif(Network.TestNet)\n",
    "            else\n",
    "                k.GetWif(Network.TestNet)\n",
    "type Wallet with\n",
    "     static member BitCoinAddressMain (k:Key) = \n",
    "        Wallet.PublicKey(k).GetAddress(Network.Main) \n",
    "     static member BitCoinAddressTest  (k:Key) = \n",
    "        Wallet.PublicKey(k).GetAddress(Network.TestNet) \n",
    "     static member PublicKeyHash (k:Key) = \n",
    "        Wallet.PublicKey(k).Hash \n",
    "     static member BitCoinAddressMain2 (k:Key) = \n",
    "        Wallet.PublicKey(k).Hash.GetAddress(Network.Main) \n",
    "     static member BitCoinAddressTest2  (k:Key) = \n",
    "        Wallet.PublicKey(k).Hash.GetAddress(Network.TestNet) \n",
    "        \n",
    "type Script = \n",
    "   static member PublicKeyHash (Pk:string) = \n",
    "       new KeyId(Pk) \n",
    "   static member Main  (Pk:string) = \n",
    "       Script.PublicKeyHash(Pk).GetAddress(Network.Main).ScriptPubKey\n",
    "   static member Test  (Pk:string) = \n",
    "       Script.PublicKeyHash(Pk).GetAddress(Network.TestNet).ScriptPubKey \n",
    "   static member Main  (k:Key)  = \n",
    "       Wallet.PublicKeyHash(k).GetAddress(Network.Main).ScriptPubKey \n",
    "   static member Test  (k:Key)  = \n",
    "       Wallet.PublicKeyHash(k).GetAddress(Network.TestNet).ScriptPubKey \n",
    "   static member BitCoinAddressMain (k:Key) = \n",
    "      Script.Main(k).GetDestinationAddress(Network.Main)\n",
    "   static member BitCoinAddressTest  (k:Key) = \n",
    "      Script.Main(k).GetDestinationAddress(Network.TestNet)"
   ]
  },
  {
   "cell_type": "code",
   "execution_count": null,
   "metadata": {},
   "outputs": [],
   "source": []
  },
  {
   "cell_type": "code",
   "execution_count": 2,
   "metadata": {},
   "outputs": [
    {
     "name": "stderr",
     "output_type": "stream",
     "text": [
      "The field, constructor or member 'BitCoinAddressTest' is not defined.\n",
      "The field, constructor or member 'Test' is not defined."
     ]
    }
   ],
   "source": [
    "open FSharp.Data\n",
    "open FSharp.Data.JsonExtensions\n",
    "\n",
    "type secretJson = JsonProvider<\"\"\"{\n",
    "  \"secret\": \"\"\n",
    "}\"\"\">\n",
    "      \n",
    "let sj = secretJson.GetSample()\n",
    "//printfn \"%A\" sj \n",
    "  \n",
    "let json_uri = @\"/home/nbuser/library/secret_dest.json\"\n",
    "let wwif = secretJson.Load(json_uri).JsonValue?secret.AsString()  \n",
    "\n",
    "let network = Network.TestNet\n",
    "\n",
    "let dest_bitcoinPrivateKey  = Key.Parse(wwif, Network.TestNet) \n",
    "let dest_address = Script.BitCoinAddressTest dest_bitcoinPrivateKey //Wallet.PublicKeyHash bitcoinPrivateKey\n",
    "\n",
    "printfn \"%A\" (network)\n",
    "printfn \"dest %A\" (dest_address)\n",
    "printfn \"script dest %A\" (Script.Test dest_bitcoinPrivateKey)"
   ]
  },
  {
   "cell_type": "code",
   "execution_count": null,
   "metadata": {},
   "outputs": [],
   "source": []
  },
  {
   "cell_type": "code",
   "execution_count": 10,
   "metadata": {},
   "outputs": [
    {
     "data": {
      "text/plain": [
       "06927bb3aaa2d1800548105d97a4f40ff61a68821f249a90158ddb76b082a7e8\n",
       "1378\n",
       "{\n",
       "  \"hash\": \"06927bb3aaa2d1800548105d97a4f40ff61a68821f249a90158ddb76b082a7e8\",\n",
       "  \"ver\": 1,\n",
       "  \"vin_sz\": 1,\n",
       "  \"vout_sz\": 3,\n",
       "  \"lock_time\": 0,\n",
       "  \"size\": 268,\n",
       "  \"in\": [\n",
       "    {\n",
       "      \"prev_out\": {\n",
       "        \"hash\": \"d5e087d429a1a42b3d42f5ce717621583988f8bf469f64afdff2c6060dab692b\",\n",
       "        \"n\": 0\n",
       "      },\n",
       "      \"scriptSig\": \"3044022078cf72050fd3264fb4a264352105070f5112184b9aac6625ac58b07b3da68536022044148bf20abd1abae42b2368dbaa19267669bdcf32c83020457dca610830950201 0364dfe2fa8c584d9af693fca129f9c031e4108be2b6d31ac3f6846ef1ba7ecdc1\"\n",
       "    }\n",
       "  ],\n",
       "  \"out\": [\n",
       "    {\n",
       "      \"value\": \"0.52980000\",\n",
       "      \"scriptPubKey\": \"OP_DUP OP_HASH160 4fbd5152456bee3dc0ffe25118a6de17126e5c19 OP_EQUALVERIFY OP_CHECKSIG\"\n",
       "    },\n",
       "    {\n",
       "      \"value\": \"0.01000000\",\n",
       "      \"scriptPubKey\": \"OP_DUP OP_HASH160 8efb2874941ae0a85e2c94ee6b267e8ad70fb5cf OP_EQUALVERIFY OP_CHECKSIG\"\n",
       "    },\n",
       "    {\n",
       "      \"value\": \"0.00000000\",\n",
       "      \"scriptPubKey\": \"OP_RETURN 4bd0372fc54d125900f2068006a96eaa716a4919e5d842f5c591c20b2175625d\"\n",
       "    }\n",
       "  ]\n",
       "}\n"
      ]
     },
     "metadata": {},
     "output_type": "display_data"
    }
   ],
   "source": [
    "open QBitNinja.Client \n",
    "open QBitNinja.Client.Models \n",
    "open System.Collections.Generic \n",
    "\n",
    "let client:QBitNinjaClient  = new QBitNinjaClient(Network.TestNet)\n",
    "let transactionId = uint256.Parse(\"06927bb3aaa2d1800548105d97a4f40ff61a68821f249a90158ddb76b082a7e8\") \n",
    "let transactionResponse:GetTransactionResponse = client.GetTransaction(transactionId).Result \n",
    "\n",
    "printfn \"%A\" transactionResponse.TransactionId // 06927bb3aaa2d1800548105d97a4f40ff61a68821f249a90158ddb76b082a7e8\n",
    "printfn \"%A\" transactionResponse.Block.Confirmations  // 190\n",
    "\n",
    "\n",
    "let transaction:NBitcoin.Transaction  = transactionResponse.Transaction\n",
    "\n",
    "printfn \"%A\" transaction"
   ]
  },
  {
   "cell_type": "code",
   "execution_count": null,
   "metadata": {},
   "outputs": [],
   "source": []
  },
  {
   "cell_type": "code",
   "execution_count": 13,
   "metadata": {},
   "outputs": [
    {
     "name": "stderr",
     "output_type": "stream",
     "text": [
      "The value, namespace, type or module 'dest_bitcoinPrivateKey' is not defined."
     ]
    }
   ],
   "source": [
    "let receivedCoins = transactionResponse.ReceivedCoins;\n",
    "let mutable myCoins:Coin = null \n",
    "for coin in receivedCoins do\n",
    "    if (coin.TxOut.ScriptPubKey = dest_bitcoinPrivateKey.ScriptPubKey) then\n",
    "        myCoins<- coin:?>Coin\n",
    "\n",
    "printfn \"%A\" myCoins.Amount\n",
    "\n",
    "for coin in receivedCoins do\n",
    "       printfn \"%A\" (coin.TxOut.get_ScriptPubKey().IsUnspendable)"
   ]
  },
  {
   "cell_type": "code",
   "execution_count": 14,
   "metadata": {},
   "outputs": [
    {
     "name": "stderr",
     "output_type": "stream",
     "text": [
      "The value or constructor 'receivedCoins' is not defined.\n",
      "Lookup on object of indeterminate type based on information prior to this program point. A type annotation may be needed prior to this program point to constrain the type of the object. This may allow the lookup to be resolved."
     ]
    }
   ],
   "source": [
    "for coin in receivedCoins do\n",
    "       printfn \"%A\" (coin.TxOut.get_ScriptPubKey().ToString())"
   ]
  },
  {
   "cell_type": "code",
   "execution_count": 6,
   "metadata": {},
   "outputs": [],
   "source": [
    "let hash:string = \"4bd0372fc54d125900f2068006a96eaa716a4919e5d842f5c591c20b2175625d\""
   ]
  },
  {
   "cell_type": "code",
   "execution_count": 10,
   "metadata": {},
   "outputs": [
    {
     "data": {
      "text/plain": [
       "\"4bd0372fc54d125900f2068006a96eaa716a4919e5d842f5c591c20b2175625d\"\n"
      ]
     },
     "metadata": {},
     "output_type": "display_data"
    }
   ],
   "source": [
    "open System\n",
    "open System.IO\n",
    "open System.Security.Cryptography\n",
    "\n",
    "let  GetStream (s:string) =\n",
    "                let stream = new MemoryStream()\n",
    "                let writer = new StreamWriter(stream)\n",
    "                writer.Write(s)\n",
    "                writer.Flush()\n",
    "                stream.Position <- 0L\n",
    "                stream\n",
    "                \n",
    "//Print the byte array in a readable format.\n",
    "let ByteString (b:byte[]) = \n",
    "        let mutable i = 0\n",
    "        let mutable s:string = \"\"\n",
    "        for i = 0  to b.Length - 1 do\n",
    "            s <- s + String.Format(\"{0:X2}\", b.[i])\n",
    "            if (i % 4 = 3) then\n",
    "                s <- s+ \" \"\n",
    "        s    \n",
    "        \n",
    "let ByteToHex bytes = \n",
    "    bytes \n",
    "    |> Array.map (fun (x : byte) -> System.String.Format(\"{0:X2}\", x))\n",
    "    |> String.concat System.String.Empty\n",
    "    \n",
    "    \n",
    "let Sha256 (doc:string) = \n",
    "    let sdoc = GetStream doc\n",
    "    let sh = new SHA256Managed()\n",
    "    sh.ComputeHash(sdoc)\n",
    "\n",
    "let hash' = (ByteToHex((Sha256 \"SF5128165575\"))).ToString().ToLower()\n",
    "\n",
    "printfn \"%A\" (hash')    "
   ]
  },
  {
   "cell_type": "code",
   "execution_count": 18,
   "metadata": {},
   "outputs": [
    {
     "data": {
      "text/plain": [
       "true\n"
      ]
     },
     "metadata": {},
     "output_type": "display_data"
    }
   ],
   "source": [
    "let vv =  String.Equals(hash, hash',StringComparison.CurrentCultureIgnoreCase)\n",
    "printfn \"%A\" (vv) "
   ]
  },
  {
   "cell_type": "code",
   "execution_count": null,
   "metadata": {},
   "outputs": [],
   "source": []
  }
 ],
 "metadata": {
  "kernelspec": {
   "display_name": "F#",
   "language": "fsharp",
   "name": "ifsharp"
  },
  "language": "fsharp",
  "language_info": {
   "codemirror_mode": "",
   "file_extension": ".fs",
   "mimetype": "text/x-fsharp",
   "name": "fsharp",
   "nbconvert_exporter": "",
   "pygments_lexer": "",
   "version": "4.3.1.0"
  }
 },
 "nbformat": 4,
 "nbformat_minor": 2
}
