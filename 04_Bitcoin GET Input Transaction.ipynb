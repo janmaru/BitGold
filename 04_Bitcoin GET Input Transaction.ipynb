{
 "cells": [
  {
   "cell_type": "code",
   "execution_count": 1,
   "metadata": {},
   "outputs": [],
   "source": [
    "#load \"Paket.fsx\"\n",
    "Paket.Package\n",
    "  [ \"QBitNinja.Client -Version 1.0.3.39\" \n",
    "    \"NBitcoin -Version 4.0.0.48\"\n",
    "  ]   \n",
    "#load \"Paket.Generated.Refs.fsx\"\n",
    "\n",
    "\n",
    "open NBitcoin \n",
    "open QBitNinja.Client \n",
    "open QBitNinja.Client.Models \n",
    "open System \n",
    "open System.Collections.Generic \n"
   ]
  },
  {
   "cell_type": "code",
   "execution_count": null,
   "metadata": {},
   "outputs": [],
   "source": []
  },
  {
   "cell_type": "markdown",
   "metadata": {},
   "source": [
    "U - unsigned \n",
    "INT - integer\n",
    "256 - 256 bits in size"
   ]
  },
  {
   "cell_type": "code",
   "execution_count": 2,
   "metadata": {
    "scrolled": true
   },
   "outputs": [
    {
     "data": {
      "text/plain": [
       "-------------\n",
       "amount: 0.55M\n",
       "pub script: OP_DUP OP_HASH160 4fbd5152456bee3dc0ffe25118a6de17126e5c19 OP_EQUALVERIFY OP_CHECKSIG\n",
       "destination address: mnnaUEKBKJVFjCqVnVPmwefk6CwuVsyRRj\n",
       "-------------\n",
       "amount: 30.30840894M\n",
       "pub script: OP_HASH160 bbdaa6cdc5793ab520c84d9ee0e910ade78759fb OP_EQUAL\n",
       "destination address: 2NANWHLLQDRA6vUMMbWyUNPxte8gWUMq719\n"
      ]
     },
     "metadata": {},
     "output_type": "display_data"
    }
   ],
   "source": [
    "open System.Linq\n",
    "\n",
    "let client:QBitNinjaClient  = new QBitNinjaClient(Network.TestNet)\n",
    "\n",
    "// Parse transaction id to NBitcoin.uint256 so the client can eat it\n",
    "let transactionId = uint256.Parse(\"516c43b617a6fa6dee5f3e9b34d99365b3b89d1381dc9aebcca1e8822c8cb5f4\")\n",
    "\n",
    "// Query the transaction\n",
    "let transactionResponse:GetTransactionResponse  = client.GetTransaction(transactionId).Result\n",
    "\n",
    "let transaction:NBitcoin.Transaction  = transactionResponse.Transaction\n",
    "\n",
    "let receivedCoins:List<ICoin>  = transactionResponse.ReceivedCoins\n",
    "\n",
    "let receivedCoins' =\n",
    "    query {\n",
    "        for coin in receivedCoins do\n",
    "            select ((coin.Amount:?>Money), \n",
    "                     coin.TxOut.ScriptPubKey, \n",
    "                     coin.TxOut.ScriptPubKey.GetDestinationAddress(Network.TestNet))\n",
    "    }\n",
    "    \n",
    "receivedCoins' \n",
    "    |> Seq.iter (fun x-> \n",
    "                        let amount, paymentScript, address = x\n",
    "                        printfn \"-------------\"\n",
    "                        printfn \"amount: %A\" (amount.ToDecimal(MoneyUnit.BTC))\n",
    "                        printfn \"pub script: %A\" paymentScript // It's the ScriptPubKey\n",
    "                        printfn \"destination address: %A\" address)\n"
   ]
  },
  {
   "cell_type": "code",
   "execution_count": null,
   "metadata": {},
   "outputs": [],
   "source": []
  },
  {
   "cell_type": "code",
   "execution_count": 3,
   "metadata": {},
   "outputs": [
    {
     "data": {
      "text/plain": [
       "{\n",
       "  \"hash\": \"516c43b617a6fa6dee5f3e9b34d99365b3b89d1381dc9aebcca1e8822c8cb5f4\",\n",
       "  \"ver\": 1,\n",
       "  \"vin_sz\": 1,\n",
       "  \"vout_sz\": 2,\n",
       "  \"lock_time\": 0,\n",
       "  \"size\": 250,\n",
       "  \"in\": [\n",
       "    {\n",
       "      \"prev_out\": {\n",
       "        \"hash\": \"a8fd6a998d0d9bbf595b1a5d56d704d61cd42e0205e781286dcd723ebf41ed80\",\n",
       "        \"n\": 1\n",
       "      },\n",
       "      \"scriptSig\": \"0014a0fd701a7079bba901b50cca88e2fd9e793ba255\",\n",
       "      \"witness\": \"3045022100c768c68bb16feb17165075a2309ed152f9db4840b69fc3e1d9c69b504dde4b0202205fb1534b40ecaec0bb742a97004dab6ccfce45a22b80c5c4b08d46973804124801 0306ee7e04746dbe0a41b9258d62c6fde85dd7620b4be62a5e5ce768e5122aabb6\"\n",
       "    }\n",
       "  ],\n",
       "  \"out\": [\n",
       "    {\n",
       "      \"value\": \"0.55000000\",\n",
       "      \"scriptPubKey\": \"OP_DUP OP_HASH160 4fbd5152456bee3dc0ffe25118a6de17126e5c19 OP_EQUALVERIFY OP_CHECKSIG\"\n",
       "    },\n",
       "    {\n",
       "      \"value\": \"30.30840894\",\n",
       "      \"scriptPubKey\": \"OP_HASH160 bbdaa6cdc5793ab520c84d9ee0e910ade78759fb OP_EQUAL\"\n",
       "    }\n",
       "  ]\n",
       "}\n"
      ]
     },
     "metadata": {},
     "output_type": "display_data"
    }
   ],
   "source": [
    "printfn \"%A\" transaction "
   ]
  },
  {
   "cell_type": "code",
   "execution_count": 4,
   "metadata": {},
   "outputs": [
    {
     "data": {
      "text/plain": [
       "amount: 1\n"
      ]
     },
     "metadata": {},
     "output_type": "display_data"
    }
   ],
   "source": [
    "printfn \"amount: %A\" transaction.Inputs.Count "
   ]
  },
  {
   "cell_type": "code",
   "execution_count": 5,
   "metadata": {},
   "outputs": [
    {
     "data": {
      "text/plain": [
       "amount: 2\n"
      ]
     },
     "metadata": {},
     "output_type": "display_data"
    }
   ],
   "source": [
    "printfn \"amount: %A\" transaction.Outputs.Count "
   ]
  },
  {
   "cell_type": "code",
   "execution_count": null,
   "metadata": {},
   "outputs": [],
   "source": []
  },
  {
   "cell_type": "code",
   "execution_count": 6,
   "metadata": {},
   "outputs": [
    {
     "data": {
      "text/plain": [
       "{\n",
       "  \"hash\": \"a8fd6a998d0d9bbf595b1a5d56d704d61cd42e0205e781286dcd723ebf41ed80\",\n",
       "  \"ver\": 1,\n",
       "  \"vin_sz\": 1,\n",
       "  \"vout_sz\": 2,\n",
       "  \"lock_time\": 0,\n",
       "  \"size\": 250,\n",
       "  \"in\": [\n",
       "    {\n",
       "      \"prev_out\": {\n",
       "        \"hash\": \"3b8c3a55fcd5a629cd290b4594e8eb6b947c758a2edbe6106102d0c60f51759e\",\n",
       "        \"n\": 1\n",
       "      },\n",
       "      \"scriptSig\": \"001469e90107a63420ec295a2267f365786dd8dc169d\",\n",
       "      \"witness\": \"3045022100a91b5b579f9adc26815e37260a9137d8e86c0cabdfd2baa3116a62e43564374f022004041fa6b5fb5dbdacd07089a180502599427931fb7e66d80302b94b9892660a01 0374931351c5204762b274c54b2c2ed30e02341168a24287fb5f259f19591d8e9f\"\n",
       "    }\n",
       "  ],\n",
       "  \"out\": [\n",
       "    {\n",
       "      \"value\": \"0.00214842\",\n",
       "      \"scriptPubKey\": \"OP_DUP OP_HASH160 a053bffe8bfc5f62e83bc9fe3e715638202fd70a OP_EQUALVERIFY OP_CHECKSIG\"\n",
       "    },\n",
       "    {\n",
       "      \"value\": \"30.85940894\",\n",
       "      \"scriptPubKey\": \"OP_HASH160 c6a37bfc1ce7449b9b1079220865951358dbe429 OP_EQUAL\"\n",
       "    }\n",
       "  ]\n",
       "}\n"
      ]
     },
     "metadata": {},
     "output_type": "display_data"
    }
   ],
   "source": [
    "let transactionId' =  uint256.Parse(\"a8fd6a998d0d9bbf595b1a5d56d704d61cd42e0205e781286dcd723ebf41ed80\")\n",
    "\n",
    "let transactionResponse':GetTransactionResponse  = client.GetTransaction(transactionId').Result\n",
    "\n",
    "let transaction':NBitcoin.Transaction  = transactionResponse'.Transaction\n",
    "\n",
    "printfn \"%A\" transaction' "
   ]
  },
  {
   "cell_type": "code",
   "execution_count": 9,
   "metadata": {},
   "outputs": [
    {
     "data": {
      "text/plain": [
       "a8fd6a998d0d9bbf595b1a5d56d704d61cd42e0205e781286dcd723ebf41ed80-1\n"
      ]
     },
     "metadata": {},
     "output_type": "display_data"
    }
   ],
   "source": [
    "let prevOut = transaction.Inputs.First().PrevOut\n",
    "printfn \"%A\" (prevOut)"
   ]
  },
  {
   "cell_type": "code",
   "execution_count": 10,
   "metadata": {},
   "outputs": [
    {
     "data": {
      "text/plain": [
       "{\n",
       "  \"hash\": \"a8fd6a998d0d9bbf595b1a5d56d704d61cd42e0205e781286dcd723ebf41ed80\",\n",
       "  \"ver\": 1,\n",
       "  \"vin_sz\": 1,\n",
       "  \"vout_sz\": 2,\n",
       "  \"lock_time\": 0,\n",
       "  \"size\": 250,\n",
       "  \"in\": [\n",
       "    {\n",
       "      \"prev_out\": {\n",
       "        \"hash\": \"3b8c3a55fcd5a629cd290b4594e8eb6b947c758a2edbe6106102d0c60f51759e\",\n",
       "        \"n\": 1\n",
       "      },\n",
       "      \"scriptSig\": \"001469e90107a63420ec295a2267f365786dd8dc169d\",\n",
       "      \"witness\": \"3045022100a91b5b579f9adc26815e37260a9137d8e86c0cabdfd2baa3116a62e43564374f022004041fa6b5fb5dbdacd07089a180502599427931fb7e66d80302b94b9892660a01 0374931351c5204762b274c54b2c2ed30e02341168a24287fb5f259f19591d8e9f\"\n",
       "    }\n",
       "  ],\n",
       "  \"out\": [\n",
       "    {\n",
       "      \"value\": \"0.00214842\",\n",
       "      \"scriptPubKey\": \"OP_DUP OP_HASH160 a053bffe8bfc5f62e83bc9fe3e715638202fd70a OP_EQUALVERIFY OP_CHECKSIG\"\n",
       "    },\n",
       "    {\n",
       "      \"value\": \"30.85940894\",\n",
       "      \"scriptPubKey\": \"OP_HASH160 c6a37bfc1ce7449b9b1079220865951358dbe429 OP_EQUAL\"\n",
       "    }\n",
       "  ]\n",
       "}\n"
      ]
     },
     "metadata": {},
     "output_type": "display_data"
    }
   ],
   "source": [
    "let transactionId'' =  prevOut.Hash \n",
    "let transactionResponse'':GetTransactionResponse  = client.GetTransaction(transactionId'').Result\n",
    "\n",
    "let transaction'':NBitcoin.Transaction  = transactionResponse''.Transaction\n",
    "\n",
    "printfn \"%A\" transaction'' "
   ]
  },
  {
   "cell_type": "code",
   "execution_count": null,
   "metadata": {},
   "outputs": [],
   "source": []
  },
  {
   "cell_type": "code",
   "execution_count": null,
   "metadata": {},
   "outputs": [],
   "source": []
  }
 ],
 "metadata": {
  "kernelspec": {
   "display_name": "F#",
   "language": "fsharp",
   "name": "ifsharp"
  },
  "language": "fsharp",
  "language_info": {
   "codemirror_mode": "",
   "file_extension": ".fs",
   "mimetype": "text/x-fsharp",
   "name": "fsharp",
   "nbconvert_exporter": "",
   "pygments_lexer": "",
   "version": "4.3.1.0"
  }
 },
 "nbformat": 4,
 "nbformat_minor": 2
}
