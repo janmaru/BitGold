{
 "cells": [
  {
   "cell_type": "code",
   "execution_count": 4,
   "metadata": {},
   "outputs": [],
   "source": [
    "#load \"Paket.fsx\"\n",
    "Paket.Package\n",
    "  [ \"QBitNinja.Client -Version 1.0.3.46\"\n",
    "    \"NBitcoin -Version 4.0.0.48\"\n",
    "    \"FSharp.Data -Version 2.4.6\"\n",
    "    \"Newtonsoft.Json -Version 10.0.3\"    \n",
    "  ]    \n",
    "#load \"Paket.Generated.Refs.fsx\"\n",
    "\n",
    "open System\n",
    "open NBitcoin\n",
    "open NBitcoin.Crypto   \n",
    "open NBitcoin.OpenAsset \n",
    "open NBitcoin.Stealth \n",
    "open QBitNinja.Client \n",
    "open QBitNinja.Client.Models \n",
    "open System.Collections.Generic \n",
    "open System.Linq\n",
    "open System.Collections   \n",
    "\n",
    "open FSharp.Data\n",
    "open FSharp.Data.JsonExtensions\n",
    "\n",
    "type secretJson = JsonProvider<\"\"\"{\n",
    "  \"secret\": \"\"\n",
    "}\"\"\">\n",
    "      \n",
    "let sj = secretJson.GetSample()"
   ]
  },
  {
   "cell_type": "code",
   "execution_count": null,
   "metadata": {},
   "outputs": [],
   "source": []
  },
  {
   "cell_type": "code",
   "execution_count": 5,
   "metadata": {},
   "outputs": [],
   "source": [
    "let alice = secretJson.Load(@\"/home/nbuser/library/secret.json\").JsonValue?secret.AsString()  \n",
    "let bob = secretJson.Load(@\"/home/nbuser/library/secret_dest.json\").JsonValue?secret.AsString()  \n",
    "let zorro = secretJson.Load(@\"/home/nbuser/library/secret_zorro.json\").JsonValue?secret.AsString()  \n",
    "  \n",
    "let happy = secretJson.Load(@\"/home/nbuser/library/secret_zorro.json\").JsonValue?secret.AsString() \n",
    "\n",
    "let alice_private  = Key.Parse(alice, Network.TestNet) \n",
    "let bob_private  = Key.Parse(bob, Network.TestNet) \n"
   ]
  },
  {
   "cell_type": "code",
   "execution_count": null,
   "metadata": {},
   "outputs": [],
   "source": []
  },
  {
   "cell_type": "code",
   "execution_count": 6,
   "metadata": {},
   "outputs": [
    {
     "data": {
      "text/plain": [
       "0.53990000\n"
      ]
     },
     "metadata": {},
     "output_type": "display_data"
    }
   ],
   "source": [
    "let client:QBitNinjaClient  = new QBitNinjaClient(Network.TestNet)\n",
    "\n",
    "let transactionId = uint256.Parse(\"d5e087d429a1a42b3d42f5ce717621583988f8bf469f64afdff2c6060dab692b\")\n",
    "\n",
    "// Query the transaction\n",
    "let transactionResponse:GetTransactionResponse  = client.GetTransaction(transactionId).Result\n",
    "\n",
    "let transaction:NBitcoin.Transaction  = transactionResponse.Transaction\n",
    "\n",
    "let receivedCoins = transactionResponse.ReceivedCoins;\n",
    "let mutable myCoins:Coin = null \n",
    "for coin in receivedCoins do\n",
    "    if (coin.TxOut.ScriptPubKey =  alice_private.ScriptPubKey) then\n",
    "        myCoins<- coin:?>Coin\n",
    "        \n",
    "printfn \"%A\" myCoins.Amount"
   ]
  },
  {
   "cell_type": "code",
   "execution_count": null,
   "metadata": {},
   "outputs": [],
   "source": []
  },
  {
   "cell_type": "code",
   "execution_count": 4,
   "metadata": {},
   "outputs": [
    {
     "data": {
      "text/html": [
       "<table><thead><tr><th>AssetId</th><th>DefinitionUrl</th><th>Amount</th><th>TxOut</th><th>ScriptPubKey</th><th>Bearer</th><th>Outpoint</th><th>CanGetScriptCode</th></tr></thead><tbody><tr><td>e698a026e7a9cc32002df6d2478bd78425d5b3aa</td><td></td><td>0.53990000</td><td>NBitcoin.TxOut</td><td>OP_DUP OP_HASH160 4fbd5152456bee3dc0ffe25118a6de17126e5c19 OP_EQUALVERIFY OP_CHECKSIG</td><td>NBitcoin.Coin</td><td>d5e087d429a1a42b3d42f5ce717621583988f8bf469f64afdff2c6060dab692b-0</td><td>True</td></tr><tbody></tbody></table>"
      ]
     },
     "execution_count": 4,
     "metadata": {},
     "output_type": "execute_result"
    }
   ],
   "source": [
    "let issuanceCoins':IssuanceCoin[]  = [|new IssuanceCoin(myCoins)|]\n",
    "\n",
    "issuanceCoins' |> Util.Table"
   ]
  },
  {
   "cell_type": "code",
   "execution_count": 7,
   "metadata": {},
   "outputs": [],
   "source": [
    "let mutable tx_out:TxOut = new TxOut(new Money(0.1m, MoneyUnit.BTC),alice_private.PubKey)\n",
    "let mutable tx_out':TxOut = new TxOut(new Money(0.1m, MoneyUnit.BTC),alice_private.PubKey)\n",
    "\n",
    "let mutable issuanceCoinsTransaction  = new Transaction()\n",
    "issuanceCoinsTransaction.Outputs.Add(tx_out)\n",
    "issuanceCoinsTransaction.Outputs.Add(tx_out')\n",
    "\n",
    "let issuanceCoin = new Coin(issuanceCoinsTransaction,tx_out)\n",
    "\n",
    "let goldIssuanceCoin = new IssuanceCoin(issuanceCoin) \n",
    "\n",
    "goldIssuanceCoin.DefinitionUrl <- new Uri( @\"https://zorrocomp.org/la_mia_nota_legale.html\")"
   ]
  },
  {
   "cell_type": "markdown",
   "metadata": {},
   "source": [
    "Typically such coin has a BTC amount **more or less equals to 600 Satoshi**"
   ]
  },
  {
   "cell_type": "code",
   "execution_count": 9,
   "metadata": {},
   "outputs": [
    {
     "data": {
      "text/plain": [
       "9a6b0084085fbb87711768a472f8407bbee718b7\n"
      ]
     },
     "metadata": {},
     "output_type": "display_data"
    }
   ],
   "source": [
    "\n",
    "let goldId = goldIssuanceCoin.AssetId\n",
    "\n",
    "printfn \"%A\" goldId"
   ]
  },
  {
   "cell_type": "markdown",
   "metadata": {},
   "source": [
    "[Open Assets Protocol](https://github.com/OpenAssets/open-assets-protocol)"
   ]
  },
  {
   "cell_type": "code",
   "execution_count": null,
   "metadata": {},
   "outputs": [],
   "source": []
  },
  {
   "cell_type": "code",
   "execution_count": 11,
   "metadata": {},
   "outputs": [],
   "source": [
    "\n",
    "let mutable txBuilder = new TransactionBuilder() \n",
    "let mutable tx:Transaction = txBuilder\n",
    "                                .AddCoins(goldIssuanceCoin) \n",
    "                                .AddKeys(alice_private)\n",
    "                                .IssueAsset(bob_private, new AssetMoney(goldId, 30))\n",
    "                                .SetChange(alice_private)\n",
    "                                .BuildTransaction(true)"
   ]
  },
  {
   "cell_type": "code",
   "execution_count": null,
   "metadata": {},
   "outputs": [],
   "source": []
  },
  {
   "cell_type": "code",
   "execution_count": 12,
   "metadata": {},
   "outputs": [
    {
     "data": {
      "text/plain": [
       "{\n",
       "  \"hash\": \"d125871a223e28aa4dc0de682c72822e70eaa24316e4e8812e9ce20d2f71ad72\",\n",
       "  \"ver\": 1,\n",
       "  \"vin_sz\": 1,\n",
       "  \"vout_sz\": 3,\n",
       "  \"lock_time\": 0,\n",
       "  \"size\": 257,\n",
       "  \"in\": [\n",
       "    {\n",
       "      \"prev_out\": {\n",
       "        \"hash\": \"5923b983626f91c9753d1953523504cac32fcc044b2eb55435dcad49ef9ce671\",\n",
       "        \"n\": 0\n",
       "      },\n",
       "      \"scriptSig\": \"30450221008b0e33a2dc2e0373ca0c9cb01eddaf0224563a82100e689599b8ef3b468ee94d022027e0bbe3ab21e5ed4bd66f91a6cf6fc6dc1cbb877605aae975fe161aa98690ea01\"\n",
       "    }\n",
       "  ],\n",
       "  \"out\": [\n",
       "    {\n",
       "      \"value\": \"0.00000546\",\n",
       "      \"scriptPubKey\": \"OP_DUP OP_HASH160 8efb2874941ae0a85e2c94ee6b267e8ad70fb5cf OP_EQUALVERIFY OP_CHECKSIG\"\n",
       "    },\n",
       "    {\n",
       "      \"value\": \"0.09999454\",\n",
       "      \"scriptPubKey\": \"OP_DUP OP_HASH160 4fbd5152456bee3dc0ffe25118a6de17126e5c19 OP_EQUALVERIFY OP_CHECKSIG\"\n",
       "    },\n",
       "    {\n",
       "      \"value\": \"0.00000000\",\n",
       "      \"scriptPubKey\": \"OP_RETURN 4f410100011e2f753d68747470733a2f2f7a6f72726f636f6d702e6f72672f6c615f6d69615f6e6f74615f6c6567616c652e68746d6c\"\n",
       "    }\n",
       "  ]\n",
       "}\n"
      ]
     },
     "metadata": {},
     "output_type": "display_data"
    }
   ],
   "source": [
    "printfn \"%A\" tx"
   ]
  },
  {
   "cell_type": "code",
   "execution_count": 13,
   "metadata": {},
   "outputs": [],
   "source": [
    "let mutable txRepo = new NoSqlTransactionRepository()\n",
    "txRepo.Put(issuanceCoinsTransaction.GetHash(), issuanceCoinsTransaction)\n",
    "let mutable ctxRepo = new NoSqlColoredTransactionRepository(txRepo)"
   ]
  },
  {
   "cell_type": "code",
   "execution_count": 14,
   "metadata": {},
   "outputs": [],
   "source": [
    "let ctx = tx.GetColoredTransaction(ctxRepo)"
   ]
  },
  {
   "cell_type": "code",
   "execution_count": 15,
   "metadata": {},
   "outputs": [
    {
     "data": {
      "text/plain": [
       "{\n",
       "  \"inputs\": [],\n",
       "  \"issuances\": [\n",
       "    {\n",
       "      \"index\": 0,\n",
       "      \"asset\": \"AVrMtfquooTZtSQzEZWb4e6nanNq8Dn8Pz\",\n",
       "      \"quantity\": 30\n",
       "    }\n",
       "  ],\n",
       "  \"transfers\": [],\n",
       "  \"destructions\": []\n",
       "}\n"
      ]
     },
     "metadata": {},
     "output_type": "display_data"
    }
   ],
   "source": [
    "printfn \"%A\" ctx\n"
   ]
  },
  {
   "cell_type": "code",
   "execution_count": null,
   "metadata": {},
   "outputs": [],
   "source": [
    "(article)[https://coinprism.desk.com/customer/en/portal/articles/1682916-how-do-i-do-a-crowdsale-with-coinprism-]"
   ]
  }
 ],
 "metadata": {
  "kernelspec": {
   "display_name": "F#",
   "language": "fsharp",
   "name": "ifsharp"
  },
  "language": "fsharp",
  "language_info": {
   "codemirror_mode": "",
   "file_extension": ".fs",
   "mimetype": "text/x-fsharp",
   "name": "fsharp",
   "nbconvert_exporter": "",
   "pygments_lexer": "",
   "version": "4.3.1.0"
  }
 },
 "nbformat": 4,
 "nbformat_minor": 2
}
