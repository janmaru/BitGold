{
 "cells": [
  {
   "cell_type": "code",
   "execution_count": 1,
   "metadata": {},
   "outputs": [],
   "source": [
    "#load \"Paket.fsx\"\n",
    "Paket.Package\n",
    "  [ \"QBitNinja.Client -Version 1.0.3.21\"\n",
    "    \"NBitcoin -Version 3.0.0.33\"\n",
    "    \"FSharp.Data -Version 2.4.6\"\n",
    "    \"Newtonsoft.Json -Version 10.0.3\"    \n",
    "  ]    \n",
    "#load \"Paket.Generated.Refs.fsx\"\n",
    "\n",
    "open System\n",
    "open NBitcoin\n",
    "open NBitcoin.Crypto  \n"
   ]
  },
  {
   "cell_type": "code",
   "execution_count": 5,
   "metadata": {},
   "outputs": [],
   "source": [
    "type Wallet =\n",
    "    static member PrivateKey: Key = \n",
    "        (new Key())\n",
    "    static member PublicKey (k:Key) = \n",
    "        if (k=null) then\n",
    "          (new Key()).PubKey\n",
    "        else\n",
    "          k.PubKey \n",
    "          \n",
    "type Wallet with\n",
    "     static member BitcoinSecretMain (k:Key) = \n",
    "            if (k=null) then\n",
    "                Wallet.PrivateKey.GetBitcoinSecret(Network.Main)\n",
    "            else\n",
    "                k.GetBitcoinSecret(Network.Main)\n",
    "     static member BitcoinSecretTest (k:Key) = \n",
    "            if (k=null) then\n",
    "                Wallet.PrivateKey.GetBitcoinSecret(Network.TestNet)\n",
    "            else\n",
    "                k.GetBitcoinSecret(Network.TestNet)    \n",
    "     static member WifMain (k:Key) = \n",
    "            if (k=null) then\n",
    "                Wallet.PrivateKey.GetWif(Network.Main)\n",
    "            else\n",
    "                k.GetWif(Network.Main)\n",
    "     static member WifTest (k:Key) = \n",
    "            if (k=null) then\n",
    "                Wallet.PrivateKey.GetWif(Network.TestNet)\n",
    "            else\n",
    "                k.GetWif(Network.TestNet)\n",
    "type Wallet with\n",
    "     static member BitCoinAddressMain (k:Key) = \n",
    "        Wallet.PublicKey(k).GetAddress(Network.Main) \n",
    "     static member BitCoinAddressTest  (k:Key) = \n",
    "        Wallet.PublicKey(k).GetAddress(Network.TestNet) \n",
    "     static member PublicKeyHash (k:Key) = \n",
    "        Wallet.PublicKey(k).Hash \n",
    "     static member BitCoinAddressMain2 (k:Key) = \n",
    "        Wallet.PublicKey(k).Hash.GetAddress(Network.Main) \n",
    "     static member BitCoinAddressTest2  (k:Key) = \n",
    "        Wallet.PublicKey(k).Hash.GetAddress(Network.TestNet) \n",
    "        \n",
    "type Script = \n",
    "   static member PublicKeyHash (Pk:string) = \n",
    "       new KeyId(Pk) \n",
    "   static member Main  (Pk:string) = \n",
    "       Script.PublicKeyHash(Pk).GetAddress(Network.Main).ScriptPubKey\n",
    "   static member Test  (Pk:string) = \n",
    "       Script.PublicKeyHash(Pk).GetAddress(Network.TestNet).ScriptPubKey \n",
    "   static member Main  (k:Key)  = \n",
    "       Wallet.PublicKeyHash(k).GetAddress(Network.Main).ScriptPubKey \n",
    "   static member Test  (k:Key)  = \n",
    "       Wallet.PublicKeyHash(k).GetAddress(Network.TestNet).ScriptPubKey \n",
    "   static member BitCoinAddressMain (k:Key) = \n",
    "      Script.Main(k).GetDestinationAddress(Network.Main)\n",
    "   static member BitCoinAddressTest  (k:Key) = \n",
    "      Script.Main(k).GetDestinationAddress(Network.TestNet)"
   ]
  },
  {
   "cell_type": "code",
   "execution_count": 6,
   "metadata": {},
   "outputs": [
    {
     "data": {
      "text/plain": [
       "TestNet\n",
       "sender mnnaUEKBKJVFjCqVnVPmwefk6CwuVsyRRj\n",
       "sender OP_DUP OP_HASH160 4fbd5152456bee3dc0ffe25118a6de17126e5c19 OP_EQUALVERIFY OP_CHECKSIG\n"
      ]
     },
     "metadata": {},
     "output_type": "display_data"
    }
   ],
   "source": [
    "open FSharp.Data\n",
    "open FSharp.Data.JsonExtensions\n",
    "\n",
    "type secretJson = JsonProvider<\"\"\"{\n",
    "  \"secret\": \"\"\n",
    "}\"\"\">\n",
    "      \n",
    "let sj = secretJson.GetSample()\n",
    "//printfn \"%A\" sj \n",
    "  \n",
    "let json_uri = @\"/home/nbuser/library/secret.json\"\n",
    "let wwif = secretJson.Load(json_uri).JsonValue?secret.AsString()  \n",
    "\n",
    "let network = Network.TestNet\n",
    "\n",
    "let sender_bitcoinPrivateKey  = Key.Parse(wwif, Network.TestNet) \n",
    "let sender_address = Script.BitCoinAddressTest sender_bitcoinPrivateKey //Wallet.PublicKeyHash bitcoinPrivateKey\n",
    "\n",
    "printfn \"%A\" (network)\n",
    "printfn \"sender %A\" (sender_address)\n",
    "printfn \"sender %A\" (Script.Test sender_bitcoinPrivateKey)"
   ]
  },
  {
   "cell_type": "code",
   "execution_count": null,
   "metadata": {},
   "outputs": [],
   "source": []
  },
  {
   "cell_type": "code",
   "execution_count": 8,
   "metadata": {},
   "outputs": [
    {
     "data": {
      "text/plain": [
       "d5e087d429a1a42b3d42f5ce717621583988f8bf469f64afdff2c6060dab692b\n",
       "1481\n"
      ]
     },
     "metadata": {},
     "output_type": "display_data"
    }
   ],
   "source": [
    "open QBitNinja.Client \n",
    "open QBitNinja.Client.Models \n",
    "open System.Collections.Generic \n",
    "\n",
    "let client:QBitNinjaClient  = new QBitNinjaClient(Network.TestNet)\n",
    "let transactionId = uint256.Parse(\"d5e087d429a1a42b3d42f5ce717621583988f8bf469f64afdff2c6060dab692b\") \n",
    "let transactionResponse:GetTransactionResponse = client.GetTransaction(transactionId).Result \n",
    "\n",
    "printfn \"%A\" transactionResponse.TransactionId // d5e087d429a1a42b3d42f5ce717621583988f8bf469f64afdff2c6060dab692b\n",
    "printfn \"%A\" transactionResponse.Block.Confirmations  // 200\n",
    " "
   ]
  },
  {
   "cell_type": "markdown",
   "metadata": {},
   "source": [
    "Da Dove?"
   ]
  },
  {
   "cell_type": "code",
   "execution_count": 9,
   "metadata": {},
   "outputs": [
    {
     "data": {
      "text/plain": [
       "d5e087d429a1a42b3d42f5ce717621583988f8bf469f64afdff2c6060dab692b-0\n",
       "Vogliamo spendere dal 1u-mo outpoint\n",
       "{\n",
       "  \"hash\": \"3468c529ad2041e993a276478cb23341d8513e90319d60a8d70edccd1583ed04\",\n",
       "  \"ver\": 1,\n",
       "  \"vin_sz\": 1,\n",
       "  \"vout_sz\": 0,\n",
       "  \"lock_time\": 0,\n",
       "  \"size\": 51,\n",
       "  \"in\": [\n",
       "    {\n",
       "      \"prev_out\": {\n",
       "        \"hash\": \"d5e087d429a1a42b3d42f5ce717621583988f8bf469f64afdff2c6060dab692b\",\n",
       "        \"n\": 0\n",
       "      },\n",
       "      \"scriptSig\": \"\"\n",
       "    }\n",
       "  ],\n",
       "  \"out\": []\n",
       "}\n"
      ]
     },
     "metadata": {},
     "output_type": "display_data"
    }
   ],
   "source": [
    "let receivedCoins = transactionResponse.ReceivedCoins;\n",
    "let mutable outPointToSpend:OutPoint = null \n",
    "for coin in receivedCoins do\n",
    "    if (coin.TxOut.ScriptPubKey =  sender_bitcoinPrivateKey.ScriptPubKey) then\n",
    "        outPointToSpend <- coin.Outpoint \n",
    "    \n",
    "if(outPointToSpend = null) then\n",
    "    failwith \"TxOut doesn't contain our ScriptPubKey\" \n",
    "\n",
    "printfn \"%A\" outPointToSpend\n",
    "\n",
    "printfn \"Vogliamo spendere dal %A-mo outpoint\" (outPointToSpend.N + 1u) //base zero \n",
    "\n",
    "let transaction = new Transaction() \n",
    "let mutable fromWhere = new TxIn()\n",
    "fromWhere.PrevOut <- outPointToSpend\n",
    "transaction.Inputs.Add(fromWhere)\n",
    "\n",
    "printfn \"%A\" transaction"
   ]
  },
  {
   "cell_type": "markdown",
   "metadata": {},
   "source": [
    "Verso chi?  destination **mtYy84R9Ezc6UxWGfHgMj4TmxXFqSy7SPf**"
   ]
  },
  {
   "cell_type": "code",
   "execution_count": 10,
   "metadata": {},
   "outputs": [
    {
     "data": {
      "text/plain": [
       "destination mtYy84R9Ezc6UxWGfHgMj4TmxXFqSy7SPf\n",
       "destination OP_DUP OP_HASH160 8efb2874941ae0a85e2c94ee6b267e8ad70fb5cf OP_EQUALVERIFY OP_CHECKSIG\n"
      ]
     },
     "metadata": {},
     "output_type": "display_data"
    }
   ],
   "source": [
    "let json_uri_dest = @\"/home/nbuser/library/secret_dest.json\"\n",
    "let wwif_dest = secretJson.Load(json_uri_dest).JsonValue?secret.AsString()  \n",
    "\n",
    "\n",
    "let dest_bitcoinPrivateKey  = Key.Parse(wwif_dest, Network.TestNet) \n",
    "let dest_address = Script.BitCoinAddressTest dest_bitcoinPrivateKey  \n",
    "printfn \"destination %A\" (dest_address)\n",
    "printfn \"destination %A\" (Script.Test dest_bitcoinPrivateKey)"
   ]
  },
  {
   "cell_type": "markdown",
   "metadata": {},
   "source": [
    "Quanto? **1 satoshi**"
   ]
  },
  {
   "cell_type": "code",
   "execution_count": 11,
   "metadata": {},
   "outputs": [
    {
     "data": {
      "text/plain": [
       "0.10000000\n"
      ]
     },
     "metadata": {},
     "output_type": "display_data"
    }
   ],
   "source": [
    "let mutable toWhereTxOut = new TxOut()\n",
    "toWhereTxOut.Value <- new Money(0.00000001m, MoneyUnit.BTC) \n",
    "toWhereTxOut.ScriptPubKey <- dest_bitcoinPrivateKey.ScriptPubKey\n",
    "\n",
    "//amount: 0.55M\n",
    "\n",
    "// quanto voglio spendere\n",
    "let wantSpend = new Money(0.1m, MoneyUnit.BTC);\n",
    "\n",
    "\n",
    "printfn \"%A\" wantSpend"
   ]
  },
  {
   "cell_type": "markdown",
   "metadata": {},
   "source": [
    "il fee può dipendere dal market price, facciamo 0.00007m"
   ]
  },
  {
   "cell_type": "code",
   "execution_count": 12,
   "metadata": {},
   "outputs": [
    {
     "data": {
      "text/plain": [
       "changeAmount 0.43983000\n"
      ]
     },
     "metadata": {},
     "output_type": "display_data"
    }
   ],
   "source": [
    "let minerFee = new Money(0.00007m, MoneyUnit.BTC);\n",
    "\n",
    "// How much you want to get back as change\n",
    "let myAmount:Money =  (receivedCoins.[(int) outPointToSpend.N].Amount):?>Money\n",
    "let changeAmount = myAmount - wantSpend - minerFee;\n",
    "\n",
    "let mutable changeBackTxOut = new TxOut ()\n",
    "changeBackTxOut.Value <- new Money(changeAmount.ToDecimal(MoneyUnit.BTC), MoneyUnit.BTC) \n",
    "changeBackTxOut.ScriptPubKey <- sender_bitcoinPrivateKey.ScriptPubKey\n",
    "\n",
    "printfn \"changeAmount %A\" (changeAmount)"
   ]
  },
  {
   "cell_type": "markdown",
   "metadata": {},
   "source": [
    "aggiungo alla **transazione**"
   ]
  },
  {
   "cell_type": "code",
   "execution_count": 13,
   "metadata": {},
   "outputs": [
    {
     "data": {
      "text/plain": [
       "{\n",
       "  \"hash\": \"f48a9c132616461ecf559857e56d2d4bdb8c723f98cd58be1810b32ab08acae1\",\n",
       "  \"ver\": 1,\n",
       "  \"vin_sz\": 1,\n",
       "  \"vout_sz\": 2,\n",
       "  \"lock_time\": 0,\n",
       "  \"size\": 119,\n",
       "  \"in\": [\n",
       "    {\n",
       "      \"prev_out\": {\n",
       "        \"hash\": \"d5e087d429a1a42b3d42f5ce717621583988f8bf469f64afdff2c6060dab692b\",\n",
       "        \"n\": 0\n",
       "      },\n",
       "      \"scriptSig\": \"\"\n",
       "    }\n",
       "  ],\n",
       "  \"out\": [\n",
       "    {\n",
       "      \"value\": \"0.00000001\",\n",
       "      \"scriptPubKey\": \"OP_DUP OP_HASH160 8efb2874941ae0a85e2c94ee6b267e8ad70fb5cf OP_EQUALVERIFY OP_CHECKSIG\"\n",
       "    },\n",
       "    {\n",
       "      \"value\": \"0.43983000\",\n",
       "      \"scriptPubKey\": \"OP_DUP OP_HASH160 4fbd5152456bee3dc0ffe25118a6de17126e5c19 OP_EQUALVERIFY OP_CHECKSIG\"\n",
       "    }\n",
       "  ]\n",
       "}\n"
      ]
     },
     "metadata": {},
     "output_type": "display_data"
    }
   ],
   "source": [
    "transaction.Outputs.Add(toWhereTxOut) \n",
    "transaction.Outputs.Add(changeBackTxOut) \n",
    "\n",
    "printfn \"%A\" transaction"
   ]
  },
  {
   "cell_type": "code",
   "execution_count": 14,
   "metadata": {},
   "outputs": [
    {
     "data": {
      "text/plain": [
       "[|83uy; 70uy; 53uy; 49uy; 50uy; 56uy; 49uy; 54uy; 53uy; 53uy; 55uy; 53uy|] 12\n"
      ]
     },
     "metadata": {},
     "output_type": "display_data"
    }
   ],
   "source": [
    "open System.Text\n",
    "\n",
    "let message = \"SF5128165575\"\n",
    "let bytes = Encoding.UTF8.GetBytes(message) \n",
    "printfn \"%A %A\" bytes bytes.Length\n",
    "\n"
   ]
  },
  {
   "cell_type": "markdown",
   "metadata": {},
   "source": [
    "//Data in OP_RETURN should have a maximum size of **83 bytes**"
   ]
  },
  {
   "cell_type": "code",
   "execution_count": 15,
   "metadata": {},
   "outputs": [],
   "source": [
    "open System\n",
    "open System.IO\n",
    "open System.Security.Cryptography\n",
    "\n",
    "let  GetStream (s:string) =\n",
    "                let stream = new MemoryStream()\n",
    "                let writer = new StreamWriter(stream)\n",
    "                writer.Write(s)\n",
    "                writer.Flush()\n",
    "                stream.Position <- 0L\n",
    "                stream\n",
    "                \n",
    "//Print the byte array in a readable format.\n",
    "let ByteString (b:byte[]) = \n",
    "        let mutable i = 0\n",
    "        let mutable s:string = \"\"\n",
    "        for i = 0  to b.Length - 1 do\n",
    "            s <- s + String.Format(\"{0:X2}\", b.[i])\n",
    "            if (i % 4 = 3) then\n",
    "                s <- s+ \" \"\n",
    "        s    \n",
    "        \n",
    "let ByteToHex bytes = \n",
    "    bytes \n",
    "    |> Array.map (fun (x : byte) -> System.String.Format(\"{0:X2}\", x))\n",
    "    |> String.concat System.String.Empty"
   ]
  },
  {
   "cell_type": "code",
   "execution_count": 16,
   "metadata": {},
   "outputs": [
    {
     "data": {
      "text/plain": [
       "[|75uy; 208uy; 55uy; 47uy; 197uy; 77uy; 18uy; 89uy; 0uy; 242uy; 6uy; 128uy; 6uy;\n",
       "  169uy; 110uy; 170uy; 113uy; 106uy; 73uy; 25uy; 229uy; 216uy; 66uy; 245uy;\n",
       "  197uy; 145uy; 194uy; 11uy; 33uy; 117uy; 98uy; 93uy|]\n",
       "\"4BD0372F C54D1259 00F20680 06A96EAA 716A4919 E5D842F5 C591C20B 2175625D \"\n",
       "\"4BD0372FC54D125900F2068006A96EAA716A4919E5D842F5C591C20B2175625D\"\n"
      ]
     },
     "metadata": {},
     "output_type": "display_data"
    }
   ],
   "source": [
    "let Sha256 (doc:string) = \n",
    "    let sdoc = GetStream doc\n",
    "    let sh = new SHA256Managed()\n",
    "    sh.ComputeHash(sdoc)\n",
    "\n",
    "let hash = Sha256 message\n",
    "printfn \"%A\" (hash)\n",
    "printfn \"%A\" (ByteString(hash))\n",
    "printfn \"%A\" (ByteToHex(hash))"
   ]
  },
  {
   "cell_type": "code",
   "execution_count": null,
   "metadata": {},
   "outputs": [],
   "source": []
  },
  {
   "cell_type": "code",
   "execution_count": 17,
   "metadata": {},
   "outputs": [],
   "source": [
    "let mutable messageTxOut = new TxOut ()\n",
    "messageTxOut.Value <- Money.Zero\n",
    "messageTxOut.ScriptPubKey <- TxNullDataTemplate.Instance.GenerateScriptPubKey(hash)\n",
    "\n",
    "transaction.Outputs.Add(messageTxOut) "
   ]
  },
  {
   "cell_type": "code",
   "execution_count": 18,
   "metadata": {},
   "outputs": [
    {
     "data": {
      "text/plain": [
       "{\n",
       "  \"hash\": \"1c20811ce0afe57bfc11d3954b2f0b533071e651dbccee65c24bf8e138217c69\",\n",
       "  \"ver\": 1,\n",
       "  \"vin_sz\": 1,\n",
       "  \"vout_sz\": 3,\n",
       "  \"lock_time\": 0,\n",
       "  \"size\": 162,\n",
       "  \"in\": [\n",
       "    {\n",
       "      \"prev_out\": {\n",
       "        \"hash\": \"d5e087d429a1a42b3d42f5ce717621583988f8bf469f64afdff2c6060dab692b\",\n",
       "        \"n\": 0\n",
       "      },\n",
       "      \"scriptSig\": \"\"\n",
       "    }\n",
       "  ],\n",
       "  \"out\": [\n",
       "    {\n",
       "      \"value\": \"0.00000001\",\n",
       "      \"scriptPubKey\": \"OP_DUP OP_HASH160 8efb2874941ae0a85e2c94ee6b267e8ad70fb5cf OP_EQUALVERIFY OP_CHECKSIG\"\n",
       "    },\n",
       "    {\n",
       "      \"value\": \"0.43983000\",\n",
       "      \"scriptPubKey\": \"OP_DUP OP_HASH160 4fbd5152456bee3dc0ffe25118a6de17126e5c19 OP_EQUALVERIFY OP_CHECKSIG\"\n",
       "    },\n",
       "    {\n",
       "      \"value\": \"0.00000000\",\n",
       "      \"scriptPubKey\": \"OP_RETURN 4bd0372fc54d125900f2068006a96eaa716a4919e5d842f5c591c20b2175625d\"\n",
       "    }\n",
       "  ]\n",
       "}\n"
      ]
     },
     "metadata": {},
     "output_type": "display_data"
    }
   ],
   "source": [
    "printfn \"%A\" transaction\n"
   ]
  },
  {
   "cell_type": "markdown",
   "metadata": {},
   "source": [
    "Sign your **transaction**"
   ]
  },
  {
   "cell_type": "code",
   "execution_count": 19,
   "metadata": {},
   "outputs": [],
   "source": [
    "transaction.Inputs.[0].ScriptSig <- sender_address.ScriptPubKey \n"
   ]
  },
  {
   "cell_type": "code",
   "execution_count": 20,
   "metadata": {},
   "outputs": [
    {
     "data": {
      "text/plain": [
       "{\n",
       "  \"hash\": \"aaaf2e37817b6bbd7088b4fae7118ba6a32edb82104390c574ceccea016a50e9\",\n",
       "  \"ver\": 1,\n",
       "  \"vin_sz\": 1,\n",
       "  \"vout_sz\": 3,\n",
       "  \"lock_time\": 0,\n",
       "  \"size\": 187,\n",
       "  \"in\": [\n",
       "    {\n",
       "      \"prev_out\": {\n",
       "        \"hash\": \"d5e087d429a1a42b3d42f5ce717621583988f8bf469f64afdff2c6060dab692b\",\n",
       "        \"n\": 0\n",
       "      },\n",
       "      \"scriptSig\": \"OP_DUP OP_HASH160 4fbd5152456bee3dc0ffe25118a6de17126e5c19 OP_EQUALVERIFY OP_CHECKSIG\"\n",
       "    }\n",
       "  ],\n",
       "  \"out\": [\n",
       "    {\n",
       "      \"value\": \"0.00000001\",\n",
       "      \"scriptPubKey\": \"OP_DUP OP_HASH160 8efb2874941ae0a85e2c94ee6b267e8ad70fb5cf OP_EQUALVERIFY OP_CHECKSIG\"\n",
       "    },\n",
       "    {\n",
       "      \"value\": \"0.43983000\",\n",
       "      \"scriptPubKey\": \"OP_DUP OP_HASH160 4fbd5152456bee3dc0ffe25118a6de17126e5c19 OP_EQUALVERIFY OP_CHECKSIG\"\n",
       "    },\n",
       "    {\n",
       "      \"value\": \"0.00000000\",\n",
       "      \"scriptPubKey\": \"OP_RETURN 4bd0372fc54d125900f2068006a96eaa716a4919e5d842f5c591c20b2175625d\"\n",
       "    }\n",
       "  ]\n",
       "}\n"
      ]
     },
     "metadata": {},
     "output_type": "display_data"
    }
   ],
   "source": [
    "printfn \"%A\" transaction"
   ]
  },
  {
   "cell_type": "code",
   "execution_count": 18,
   "metadata": {},
   "outputs": [],
   "source": [
    "//forniamo la private key per **firmare** la transazione\n",
    "//transaction.Sign(sender_bitcoinPrivateKey, false)\n",
    "//This construct is deprecated. Use Sign(Key,ICoin[]) instead)"
   ]
  },
  {
   "cell_type": "code",
   "execution_count": 19,
   "metadata": {},
   "outputs": [],
   "source": [
    "let mutable broadcastResponse:BroadcastResponse = client.Broadcast(transaction).Result \n",
    "\n",
    "\n",
    "if not broadcastResponse.Success then\n",
    "    printfn \"ErrorCode: %A\" (broadcastResponse.Error.ErrorCode) \n",
    "    printfn \"Error message: %A\" (broadcastResponse.Error.Reason) \n",
    "else\n",
    "    printfn \"Success!\" \n",
    "    printfn \"%A\" (transaction.GetHash())\n",
    "\n",
    " "
   ]
  },
  {
   "cell_type": "code",
   "execution_count": null,
   "metadata": {},
   "outputs": [],
   "source": [
    "[OP_RETURN](https://opreturn.org/)"
   ]
  },
  {
   "cell_type": "code",
   "execution_count": null,
   "metadata": {},
   "outputs": [],
   "source": []
  }
 ],
 "metadata": {
  "kernelspec": {
   "display_name": "F#",
   "language": "fsharp",
   "name": "ifsharp"
  },
  "language": "fsharp",
  "language_info": {
   "codemirror_mode": "",
   "file_extension": ".fs",
   "mimetype": "text/x-fsharp",
   "name": "fsharp",
   "nbconvert_exporter": "",
   "pygments_lexer": "",
   "version": "4.3.1.0"
  }
 },
 "nbformat": 4,
 "nbformat_minor": 2
}
