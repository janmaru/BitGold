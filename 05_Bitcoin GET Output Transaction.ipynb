{
 "cells": [
  {
   "cell_type": "code",
   "execution_count": 1,
   "metadata": {},
   "outputs": [],
   "source": [
    "#load \"Paket.fsx\"\n",
    "Paket.Package\n",
    "  [ \"QBitNinja.Client -Version 1.0.3.39\" \n",
    "    \"NBitcoin -Version 4.0.0.48\"\n",
    "  ]   \n",
    "#load \"Paket.Generated.Refs.fsx\"\n",
    "\n",
    "\n",
    "open NBitcoin \n",
    "open QBitNinja.Client \n",
    "open QBitNinja.Client.Models \n",
    "open System \n",
    "open System.Collections.Generic \n"
   ]
  },
  {
   "cell_type": "code",
   "execution_count": 3,
   "metadata": {},
   "outputs": [
    {
     "data": {
      "text/plain": [
       "amount: 0.55M\n",
       "pub script: OP_DUP OP_HASH160 4fbd5152456bee3dc0ffe25118a6de17126e5c19 OP_EQUALVERIFY OP_CHECKSIG\n",
       "destination address: mnnaUEKBKJVFjCqVnVPmwefk6CwuVsyRRj\n",
       "amount: 30.30840894M\n",
       "pub script: OP_HASH160 bbdaa6cdc5793ab520c84d9ee0e910ade78759fb OP_EQUAL\n",
       "destination address: 2NANWHLLQDRA6vUMMbWyUNPxte8gWUMq719\n"
      ]
     },
     "metadata": {},
     "output_type": "display_data"
    }
   ],
   "source": [
    "\n",
    "let client:QBitNinjaClient  = new QBitNinjaClient(Network.TestNet)\n",
    "\n",
    "// Parse transaction id to NBitcoin.uint256 so the client can eat it\n",
    "\n",
    "let transactionId = uint256.Parse(\"516c43b617a6fa6dee5f3e9b34d99365b3b89d1381dc9aebcca1e8822c8cb5f4\")\n",
    "\n",
    "// Query the transaction\n",
    "let transactionResponse:GetTransactionResponse  = client.GetTransaction(transactionId).Result\n",
    "\n",
    "let transaction:NBitcoin.Transaction  = transactionResponse.Transaction\n",
    "\n",
    "let outputsCoins:TxOutList = transaction.Outputs \n",
    "\n",
    "let mutable myBitcoinPubKeys = new List<BitcoinAddress>()\n",
    "\n",
    "for out:TxOut  in outputsCoins do\n",
    "       let amount  = out.Value\n",
    "       printfn \"amount: %A\" (amount.ToDecimal(MoneyUnit.BTC))\n",
    "     \n",
    "       let paymentScript = out.ScriptPubKey \n",
    "       printfn \"pub script: %A\" paymentScript // It's the ScriptPubKey\n",
    "       let address = paymentScript.GetDestinationAddress(Network.TestNet)\n",
    "       myBitcoinPubKeys.Add(address)\n",
    "       printfn \"destination address: %A\" address \n"
   ]
  },
  {
   "cell_type": "code",
   "execution_count": null,
   "metadata": {},
   "outputs": [],
   "source": []
  },
  {
   "cell_type": "code",
   "execution_count": 4,
   "metadata": {},
   "outputs": [
    {
     "data": {
      "text/plain": [
       "{\n",
       "  \"hash\": \"516c43b617a6fa6dee5f3e9b34d99365b3b89d1381dc9aebcca1e8822c8cb5f4\",\n",
       "  \"ver\": 1,\n",
       "  \"vin_sz\": 1,\n",
       "  \"vout_sz\": 2,\n",
       "  \"lock_time\": 0,\n",
       "  \"size\": 250,\n",
       "  \"in\": [\n",
       "    {\n",
       "      \"prev_out\": {\n",
       "        \"hash\": \"a8fd6a998d0d9bbf595b1a5d56d704d61cd42e0205e781286dcd723ebf41ed80\",\n",
       "        \"n\": 1\n",
       "      },\n",
       "      \"scriptSig\": \"0014a0fd701a7079bba901b50cca88e2fd9e793ba255\",\n",
       "      \"witness\": \"3045022100c768c68bb16feb17165075a2309ed152f9db4840b69fc3e1d9c69b504dde4b0202205fb1534b40ecaec0bb742a97004dab6ccfce45a22b80c5c4b08d46973804124801 0306ee7e04746dbe0a41b9258d62c6fde85dd7620b4be62a5e5ce768e5122aabb6\"\n",
       "    }\n",
       "  ],\n",
       "  \"out\": [\n",
       "    {\n",
       "      \"value\": \"0.55000000\",\n",
       "      \"scriptPubKey\": \"OP_DUP OP_HASH160 4fbd5152456bee3dc0ffe25118a6de17126e5c19 OP_EQUALVERIFY OP_CHECKSIG\"\n",
       "    },\n",
       "    {\n",
       "      \"value\": \"30.30840894\",\n",
       "      \"scriptPubKey\": \"OP_HASH160 bbdaa6cdc5793ab520c84d9ee0e910ade78759fb OP_EQUAL\"\n",
       "    }\n",
       "  ]\n",
       "}\n"
      ]
     },
     "metadata": {},
     "output_type": "display_data"
    }
   ],
   "source": [
    "printfn \"%A\" transaction "
   ]
  },
  {
   "cell_type": "markdown",
   "metadata": {
    "collapsed": true
   },
   "source": [
    "[View transaction](http://tapi.qbit.ninja/transactions/516c43b617a6fa6dee5f3e9b34d99365b3b89d1381dc9aebcca1e8822c8cb5f4)"
   ]
  },
  {
   "cell_type": "code",
   "execution_count": 5,
   "metadata": {},
   "outputs": [
    {
     "data": {
      "text/plain": [
       "coinbase false\n",
       "amount: 30.85840894M\n"
      ]
     },
     "metadata": {},
     "output_type": "display_data"
    }
   ],
   "source": [
    "printfn \"coinbase %A\" transaction.IsCoinBase //find a coinbase transaction!\n",
    "\n",
    "let mutable spentAmount:Money = Money.Zero\n",
    "\n",
    "for spentCoin :TxOut  in outputsCoins do\n",
    "    spentAmount <- spentAmount + spentCoin.Value\n",
    "\n",
    "printfn \"amount: %A\" (spentAmount.ToDecimal(MoneyUnit.BTC))   "
   ]
  },
  {
   "cell_type": "code",
   "execution_count": 6,
   "metadata": {},
   "outputs": [
    {
     "data": {
      "text/plain": [
       "amount: 30.85940894M\n"
      ]
     },
     "metadata": {},
     "output_type": "display_data"
    }
   ],
   "source": [
    "let spentCoins:List<ICoin>  = transactionResponse.SpentCoins\n",
    "let recCoins:List<ICoin>  = transactionResponse.ReceivedCoins\n",
    "\n",
    "let mutable spentAmount:Money = Money.Zero\n",
    "\n",
    "for spentCoin  in spentCoins do\n",
    "    spentAmount <- (spentCoin.Amount.Add(spentAmount):?>Money)\n",
    "\n",
    "printfn \"amount: %A\" (spentAmount.ToDecimal(MoneyUnit.BTC))   "
   ]
  },
  {
   "cell_type": "code",
   "execution_count": 7,
   "metadata": {},
   "outputs": [
    {
     "data": {
      "text/plain": [
       "fee: 0.00100000\n"
      ]
     },
     "metadata": {},
     "output_type": "display_data"
    }
   ],
   "source": [
    "spentCoins.AddRange(recCoins)\n",
    "\n",
    "let fee = transaction.GetFee(spentCoins.ToArray())\n",
    "\n",
    "printfn \"fee: %A\" fee \n"
   ]
  },
  {
   "cell_type": "markdown",
   "metadata": {},
   "source": [
    "Get Balance"
   ]
  },
  {
   "cell_type": "code",
   "execution_count": 8,
   "metadata": {},
   "outputs": [
    {
     "data": {
      "text/plain": [
       "mnnaUEKBKJVFjCqVnVPmwefk6CwuVsyRRj\n",
       "balance: 0.5298M of mnnaUEKBKJVFjCqVnVPmwefk6CwuVsyRRj\n"
      ]
     },
     "metadata": {},
     "output_type": "display_data"
    }
   ],
   "source": [
    "open System.Linq\n",
    "\n",
    "printfn \"%A\" myBitcoinPubKeys.[0]\n",
    "let balanceModel = client.GetBalance(myBitcoinPubKeys.[0], true).Result\n",
    "if (balanceModel.Operations.Count = 0) then\n",
    "    failwith \"No coins to spend\" \n",
    "    \n",
    " \n",
    "let unspentCoins =\n",
    "    query {\n",
    "        for operation in  balanceModel.Operations do\n",
    "            select operation.Amount\n",
    "    }\n",
    "\n",
    "let balance = unspentCoins |> Seq.sum \n",
    " \n",
    "\n",
    "printfn \"balance: %A of %A\" (balance.ToDecimal(MoneyUnit.BTC)) myBitcoinPubKeys.[0]\n"
   ]
  },
  {
   "cell_type": "code",
   "execution_count": null,
   "metadata": {},
   "outputs": [],
   "source": []
  }
 ],
 "metadata": {
  "kernelspec": {
   "display_name": "F#",
   "language": "fsharp",
   "name": "ifsharp"
  },
  "language": "fsharp",
  "language_info": {
   "codemirror_mode": "",
   "file_extension": ".fs",
   "mimetype": "text/x-fsharp",
   "name": "fsharp",
   "nbconvert_exporter": "",
   "pygments_lexer": "",
   "version": "4.3.1.0"
  }
 },
 "nbformat": 4,
 "nbformat_minor": 2
}
